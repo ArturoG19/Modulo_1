{
 "cells": [
  {
   "cell_type": "markdown",
   "metadata": {},
   "source": [
    "# Paso 1\n",
    "\n",
    "Importar el archivo csv"
   ]
  },
  {
   "cell_type": "code",
   "execution_count": 1,
   "metadata": {
    "tags": [
     "e5c1f0c2-db9f-43a0-99b9-4875c52427e8"
    ],
    "trusted": true
   },
   "outputs": [
    {
     "name": "stdout",
     "output_type": "stream",
     "text": [
      "<class 'pandas.core.frame.DataFrame'>\n",
      "RangeIndex: 16715 entries, 0 to 16714\n",
      "Data columns (total 11 columns):\n",
      " #   Column           Non-Null Count  Dtype  \n",
      "---  ------           --------------  -----  \n",
      " 0   Name             16713 non-null  object \n",
      " 1   Platform         16715 non-null  object \n",
      " 2   Year_of_Release  16446 non-null  float64\n",
      " 3   Genre            16713 non-null  object \n",
      " 4   NA_sales         16715 non-null  float64\n",
      " 5   EU_sales         16715 non-null  float64\n",
      " 6   JP_sales         16715 non-null  float64\n",
      " 7   Other_sales      16715 non-null  float64\n",
      " 8   Critic_Score     8137 non-null   float64\n",
      " 9   User_Score       10014 non-null  object \n",
      " 10  Rating           9949 non-null   object \n",
      "dtypes: float64(6), object(5)\n",
      "memory usage: 1.4+ MB\n",
      "None\n"
     ]
    },
    {
     "data": {
      "text/html": [
       "<div>\n",
       "<style scoped>\n",
       "    .dataframe tbody tr th:only-of-type {\n",
       "        vertical-align: middle;\n",
       "    }\n",
       "\n",
       "    .dataframe tbody tr th {\n",
       "        vertical-align: top;\n",
       "    }\n",
       "\n",
       "    .dataframe thead th {\n",
       "        text-align: right;\n",
       "    }\n",
       "</style>\n",
       "<table border=\"1\" class=\"dataframe\">\n",
       "  <thead>\n",
       "    <tr style=\"text-align: right;\">\n",
       "      <th></th>\n",
       "      <th>Name</th>\n",
       "      <th>Platform</th>\n",
       "      <th>Year_of_Release</th>\n",
       "      <th>Genre</th>\n",
       "      <th>NA_sales</th>\n",
       "      <th>EU_sales</th>\n",
       "      <th>JP_sales</th>\n",
       "      <th>Other_sales</th>\n",
       "      <th>Critic_Score</th>\n",
       "      <th>User_Score</th>\n",
       "      <th>Rating</th>\n",
       "    </tr>\n",
       "  </thead>\n",
       "  <tbody>\n",
       "    <tr>\n",
       "      <th>0</th>\n",
       "      <td>Wii Sports</td>\n",
       "      <td>Wii</td>\n",
       "      <td>2006.0</td>\n",
       "      <td>Sports</td>\n",
       "      <td>41.36</td>\n",
       "      <td>28.96</td>\n",
       "      <td>3.77</td>\n",
       "      <td>8.45</td>\n",
       "      <td>76.0</td>\n",
       "      <td>8</td>\n",
       "      <td>E</td>\n",
       "    </tr>\n",
       "    <tr>\n",
       "      <th>1</th>\n",
       "      <td>Super Mario Bros.</td>\n",
       "      <td>NES</td>\n",
       "      <td>1985.0</td>\n",
       "      <td>Platform</td>\n",
       "      <td>29.08</td>\n",
       "      <td>3.58</td>\n",
       "      <td>6.81</td>\n",
       "      <td>0.77</td>\n",
       "      <td>NaN</td>\n",
       "      <td>NaN</td>\n",
       "      <td>NaN</td>\n",
       "    </tr>\n",
       "    <tr>\n",
       "      <th>2</th>\n",
       "      <td>Mario Kart Wii</td>\n",
       "      <td>Wii</td>\n",
       "      <td>2008.0</td>\n",
       "      <td>Racing</td>\n",
       "      <td>15.68</td>\n",
       "      <td>12.76</td>\n",
       "      <td>3.79</td>\n",
       "      <td>3.29</td>\n",
       "      <td>82.0</td>\n",
       "      <td>8.3</td>\n",
       "      <td>E</td>\n",
       "    </tr>\n",
       "    <tr>\n",
       "      <th>3</th>\n",
       "      <td>Wii Sports Resort</td>\n",
       "      <td>Wii</td>\n",
       "      <td>2009.0</td>\n",
       "      <td>Sports</td>\n",
       "      <td>15.61</td>\n",
       "      <td>10.93</td>\n",
       "      <td>3.28</td>\n",
       "      <td>2.95</td>\n",
       "      <td>80.0</td>\n",
       "      <td>8</td>\n",
       "      <td>E</td>\n",
       "    </tr>\n",
       "    <tr>\n",
       "      <th>4</th>\n",
       "      <td>Pokemon Red/Pokemon Blue</td>\n",
       "      <td>GB</td>\n",
       "      <td>1996.0</td>\n",
       "      <td>Role-Playing</td>\n",
       "      <td>11.27</td>\n",
       "      <td>8.89</td>\n",
       "      <td>10.22</td>\n",
       "      <td>1.00</td>\n",
       "      <td>NaN</td>\n",
       "      <td>NaN</td>\n",
       "      <td>NaN</td>\n",
       "    </tr>\n",
       "    <tr>\n",
       "      <th>...</th>\n",
       "      <td>...</td>\n",
       "      <td>...</td>\n",
       "      <td>...</td>\n",
       "      <td>...</td>\n",
       "      <td>...</td>\n",
       "      <td>...</td>\n",
       "      <td>...</td>\n",
       "      <td>...</td>\n",
       "      <td>...</td>\n",
       "      <td>...</td>\n",
       "      <td>...</td>\n",
       "    </tr>\n",
       "    <tr>\n",
       "      <th>16710</th>\n",
       "      <td>Samurai Warriors: Sanada Maru</td>\n",
       "      <td>PS3</td>\n",
       "      <td>2016.0</td>\n",
       "      <td>Action</td>\n",
       "      <td>0.00</td>\n",
       "      <td>0.00</td>\n",
       "      <td>0.01</td>\n",
       "      <td>0.00</td>\n",
       "      <td>NaN</td>\n",
       "      <td>NaN</td>\n",
       "      <td>NaN</td>\n",
       "    </tr>\n",
       "    <tr>\n",
       "      <th>16711</th>\n",
       "      <td>LMA Manager 2007</td>\n",
       "      <td>X360</td>\n",
       "      <td>2006.0</td>\n",
       "      <td>Sports</td>\n",
       "      <td>0.00</td>\n",
       "      <td>0.01</td>\n",
       "      <td>0.00</td>\n",
       "      <td>0.00</td>\n",
       "      <td>NaN</td>\n",
       "      <td>NaN</td>\n",
       "      <td>NaN</td>\n",
       "    </tr>\n",
       "    <tr>\n",
       "      <th>16712</th>\n",
       "      <td>Haitaka no Psychedelica</td>\n",
       "      <td>PSV</td>\n",
       "      <td>2016.0</td>\n",
       "      <td>Adventure</td>\n",
       "      <td>0.00</td>\n",
       "      <td>0.00</td>\n",
       "      <td>0.01</td>\n",
       "      <td>0.00</td>\n",
       "      <td>NaN</td>\n",
       "      <td>NaN</td>\n",
       "      <td>NaN</td>\n",
       "    </tr>\n",
       "    <tr>\n",
       "      <th>16713</th>\n",
       "      <td>Spirits &amp; Spells</td>\n",
       "      <td>GBA</td>\n",
       "      <td>2003.0</td>\n",
       "      <td>Platform</td>\n",
       "      <td>0.01</td>\n",
       "      <td>0.00</td>\n",
       "      <td>0.00</td>\n",
       "      <td>0.00</td>\n",
       "      <td>NaN</td>\n",
       "      <td>NaN</td>\n",
       "      <td>NaN</td>\n",
       "    </tr>\n",
       "    <tr>\n",
       "      <th>16714</th>\n",
       "      <td>Winning Post 8 2016</td>\n",
       "      <td>PSV</td>\n",
       "      <td>2016.0</td>\n",
       "      <td>Simulation</td>\n",
       "      <td>0.00</td>\n",
       "      <td>0.00</td>\n",
       "      <td>0.01</td>\n",
       "      <td>0.00</td>\n",
       "      <td>NaN</td>\n",
       "      <td>NaN</td>\n",
       "      <td>NaN</td>\n",
       "    </tr>\n",
       "  </tbody>\n",
       "</table>\n",
       "<p>16715 rows × 11 columns</p>\n",
       "</div>"
      ],
      "text/plain": [
       "                                Name Platform  Year_of_Release         Genre  \\\n",
       "0                         Wii Sports      Wii           2006.0        Sports   \n",
       "1                  Super Mario Bros.      NES           1985.0      Platform   \n",
       "2                     Mario Kart Wii      Wii           2008.0        Racing   \n",
       "3                  Wii Sports Resort      Wii           2009.0        Sports   \n",
       "4           Pokemon Red/Pokemon Blue       GB           1996.0  Role-Playing   \n",
       "...                              ...      ...              ...           ...   \n",
       "16710  Samurai Warriors: Sanada Maru      PS3           2016.0        Action   \n",
       "16711               LMA Manager 2007     X360           2006.0        Sports   \n",
       "16712        Haitaka no Psychedelica      PSV           2016.0     Adventure   \n",
       "16713               Spirits & Spells      GBA           2003.0      Platform   \n",
       "16714            Winning Post 8 2016      PSV           2016.0    Simulation   \n",
       "\n",
       "       NA_sales  EU_sales  JP_sales  Other_sales  Critic_Score User_Score  \\\n",
       "0         41.36     28.96      3.77         8.45          76.0          8   \n",
       "1         29.08      3.58      6.81         0.77           NaN        NaN   \n",
       "2         15.68     12.76      3.79         3.29          82.0        8.3   \n",
       "3         15.61     10.93      3.28         2.95          80.0          8   \n",
       "4         11.27      8.89     10.22         1.00           NaN        NaN   \n",
       "...         ...       ...       ...          ...           ...        ...   \n",
       "16710      0.00      0.00      0.01         0.00           NaN        NaN   \n",
       "16711      0.00      0.01      0.00         0.00           NaN        NaN   \n",
       "16712      0.00      0.00      0.01         0.00           NaN        NaN   \n",
       "16713      0.01      0.00      0.00         0.00           NaN        NaN   \n",
       "16714      0.00      0.00      0.01         0.00           NaN        NaN   \n",
       "\n",
       "      Rating  \n",
       "0          E  \n",
       "1        NaN  \n",
       "2          E  \n",
       "3          E  \n",
       "4        NaN  \n",
       "...      ...  \n",
       "16710    NaN  \n",
       "16711    NaN  \n",
       "16712    NaN  \n",
       "16713    NaN  \n",
       "16714    NaN  \n",
       "\n",
       "[16715 rows x 11 columns]"
      ]
     },
     "metadata": {},
     "output_type": "display_data"
    }
   ],
   "source": [
    "import pandas as pd\n",
    "df_games = pd.read_csv('/datasets/games.csv')\n",
    "print(df_games.info())\n",
    "display (df_games)"
   ]
  },
  {
   "cell_type": "markdown",
   "metadata": {},
   "source": [
    "# Paso 2\n",
    "\n",
    "Preparar los datos\n",
    "\n",
    "## Reemplaza los nombres de las columnas (ponlos en minúsculas).\n",
    "\n",
    "\n"
   ]
  },
  {
   "cell_type": "code",
   "execution_count": 2,
   "metadata": {
    "scrolled": false,
    "trusted": true
   },
   "outputs": [
    {
     "name": "stdout",
     "output_type": "stream",
     "text": [
      "Index(['name', 'platform', 'year_of_release', 'genre', 'na_sales', 'eu_sales',\n",
      "       'jp_sales', 'other_sales', 'critic_score', 'user_score', 'rating'],\n",
      "      dtype='object')\n"
     ]
    },
    {
     "data": {
      "text/html": [
       "<div>\n",
       "<style scoped>\n",
       "    .dataframe tbody tr th:only-of-type {\n",
       "        vertical-align: middle;\n",
       "    }\n",
       "\n",
       "    .dataframe tbody tr th {\n",
       "        vertical-align: top;\n",
       "    }\n",
       "\n",
       "    .dataframe thead th {\n",
       "        text-align: right;\n",
       "    }\n",
       "</style>\n",
       "<table border=\"1\" class=\"dataframe\">\n",
       "  <thead>\n",
       "    <tr style=\"text-align: right;\">\n",
       "      <th></th>\n",
       "      <th>name</th>\n",
       "      <th>platform</th>\n",
       "      <th>year_of_release</th>\n",
       "      <th>genre</th>\n",
       "      <th>na_sales</th>\n",
       "      <th>eu_sales</th>\n",
       "      <th>jp_sales</th>\n",
       "      <th>other_sales</th>\n",
       "      <th>critic_score</th>\n",
       "      <th>user_score</th>\n",
       "      <th>rating</th>\n",
       "    </tr>\n",
       "  </thead>\n",
       "  <tbody>\n",
       "    <tr>\n",
       "      <th>0</th>\n",
       "      <td>Wii Sports</td>\n",
       "      <td>Wii</td>\n",
       "      <td>2006.0</td>\n",
       "      <td>Sports</td>\n",
       "      <td>41.36</td>\n",
       "      <td>28.96</td>\n",
       "      <td>3.77</td>\n",
       "      <td>8.45</td>\n",
       "      <td>76.0</td>\n",
       "      <td>8</td>\n",
       "      <td>E</td>\n",
       "    </tr>\n",
       "    <tr>\n",
       "      <th>1</th>\n",
       "      <td>Super Mario Bros.</td>\n",
       "      <td>NES</td>\n",
       "      <td>1985.0</td>\n",
       "      <td>Platform</td>\n",
       "      <td>29.08</td>\n",
       "      <td>3.58</td>\n",
       "      <td>6.81</td>\n",
       "      <td>0.77</td>\n",
       "      <td>NaN</td>\n",
       "      <td>NaN</td>\n",
       "      <td>NaN</td>\n",
       "    </tr>\n",
       "    <tr>\n",
       "      <th>2</th>\n",
       "      <td>Mario Kart Wii</td>\n",
       "      <td>Wii</td>\n",
       "      <td>2008.0</td>\n",
       "      <td>Racing</td>\n",
       "      <td>15.68</td>\n",
       "      <td>12.76</td>\n",
       "      <td>3.79</td>\n",
       "      <td>3.29</td>\n",
       "      <td>82.0</td>\n",
       "      <td>8.3</td>\n",
       "      <td>E</td>\n",
       "    </tr>\n",
       "    <tr>\n",
       "      <th>3</th>\n",
       "      <td>Wii Sports Resort</td>\n",
       "      <td>Wii</td>\n",
       "      <td>2009.0</td>\n",
       "      <td>Sports</td>\n",
       "      <td>15.61</td>\n",
       "      <td>10.93</td>\n",
       "      <td>3.28</td>\n",
       "      <td>2.95</td>\n",
       "      <td>80.0</td>\n",
       "      <td>8</td>\n",
       "      <td>E</td>\n",
       "    </tr>\n",
       "    <tr>\n",
       "      <th>4</th>\n",
       "      <td>Pokemon Red/Pokemon Blue</td>\n",
       "      <td>GB</td>\n",
       "      <td>1996.0</td>\n",
       "      <td>Role-Playing</td>\n",
       "      <td>11.27</td>\n",
       "      <td>8.89</td>\n",
       "      <td>10.22</td>\n",
       "      <td>1.00</td>\n",
       "      <td>NaN</td>\n",
       "      <td>NaN</td>\n",
       "      <td>NaN</td>\n",
       "    </tr>\n",
       "    <tr>\n",
       "      <th>...</th>\n",
       "      <td>...</td>\n",
       "      <td>...</td>\n",
       "      <td>...</td>\n",
       "      <td>...</td>\n",
       "      <td>...</td>\n",
       "      <td>...</td>\n",
       "      <td>...</td>\n",
       "      <td>...</td>\n",
       "      <td>...</td>\n",
       "      <td>...</td>\n",
       "      <td>...</td>\n",
       "    </tr>\n",
       "    <tr>\n",
       "      <th>16710</th>\n",
       "      <td>Samurai Warriors: Sanada Maru</td>\n",
       "      <td>PS3</td>\n",
       "      <td>2016.0</td>\n",
       "      <td>Action</td>\n",
       "      <td>0.00</td>\n",
       "      <td>0.00</td>\n",
       "      <td>0.01</td>\n",
       "      <td>0.00</td>\n",
       "      <td>NaN</td>\n",
       "      <td>NaN</td>\n",
       "      <td>NaN</td>\n",
       "    </tr>\n",
       "    <tr>\n",
       "      <th>16711</th>\n",
       "      <td>LMA Manager 2007</td>\n",
       "      <td>X360</td>\n",
       "      <td>2006.0</td>\n",
       "      <td>Sports</td>\n",
       "      <td>0.00</td>\n",
       "      <td>0.01</td>\n",
       "      <td>0.00</td>\n",
       "      <td>0.00</td>\n",
       "      <td>NaN</td>\n",
       "      <td>NaN</td>\n",
       "      <td>NaN</td>\n",
       "    </tr>\n",
       "    <tr>\n",
       "      <th>16712</th>\n",
       "      <td>Haitaka no Psychedelica</td>\n",
       "      <td>PSV</td>\n",
       "      <td>2016.0</td>\n",
       "      <td>Adventure</td>\n",
       "      <td>0.00</td>\n",
       "      <td>0.00</td>\n",
       "      <td>0.01</td>\n",
       "      <td>0.00</td>\n",
       "      <td>NaN</td>\n",
       "      <td>NaN</td>\n",
       "      <td>NaN</td>\n",
       "    </tr>\n",
       "    <tr>\n",
       "      <th>16713</th>\n",
       "      <td>Spirits &amp; Spells</td>\n",
       "      <td>GBA</td>\n",
       "      <td>2003.0</td>\n",
       "      <td>Platform</td>\n",
       "      <td>0.01</td>\n",
       "      <td>0.00</td>\n",
       "      <td>0.00</td>\n",
       "      <td>0.00</td>\n",
       "      <td>NaN</td>\n",
       "      <td>NaN</td>\n",
       "      <td>NaN</td>\n",
       "    </tr>\n",
       "    <tr>\n",
       "      <th>16714</th>\n",
       "      <td>Winning Post 8 2016</td>\n",
       "      <td>PSV</td>\n",
       "      <td>2016.0</td>\n",
       "      <td>Simulation</td>\n",
       "      <td>0.00</td>\n",
       "      <td>0.00</td>\n",
       "      <td>0.01</td>\n",
       "      <td>0.00</td>\n",
       "      <td>NaN</td>\n",
       "      <td>NaN</td>\n",
       "      <td>NaN</td>\n",
       "    </tr>\n",
       "  </tbody>\n",
       "</table>\n",
       "<p>16715 rows × 11 columns</p>\n",
       "</div>"
      ],
      "text/plain": [
       "                                name platform  year_of_release         genre  \\\n",
       "0                         Wii Sports      Wii           2006.0        Sports   \n",
       "1                  Super Mario Bros.      NES           1985.0      Platform   \n",
       "2                     Mario Kart Wii      Wii           2008.0        Racing   \n",
       "3                  Wii Sports Resort      Wii           2009.0        Sports   \n",
       "4           Pokemon Red/Pokemon Blue       GB           1996.0  Role-Playing   \n",
       "...                              ...      ...              ...           ...   \n",
       "16710  Samurai Warriors: Sanada Maru      PS3           2016.0        Action   \n",
       "16711               LMA Manager 2007     X360           2006.0        Sports   \n",
       "16712        Haitaka no Psychedelica      PSV           2016.0     Adventure   \n",
       "16713               Spirits & Spells      GBA           2003.0      Platform   \n",
       "16714            Winning Post 8 2016      PSV           2016.0    Simulation   \n",
       "\n",
       "       na_sales  eu_sales  jp_sales  other_sales  critic_score user_score  \\\n",
       "0         41.36     28.96      3.77         8.45          76.0          8   \n",
       "1         29.08      3.58      6.81         0.77           NaN        NaN   \n",
       "2         15.68     12.76      3.79         3.29          82.0        8.3   \n",
       "3         15.61     10.93      3.28         2.95          80.0          8   \n",
       "4         11.27      8.89     10.22         1.00           NaN        NaN   \n",
       "...         ...       ...       ...          ...           ...        ...   \n",
       "16710      0.00      0.00      0.01         0.00           NaN        NaN   \n",
       "16711      0.00      0.01      0.00         0.00           NaN        NaN   \n",
       "16712      0.00      0.00      0.01         0.00           NaN        NaN   \n",
       "16713      0.01      0.00      0.00         0.00           NaN        NaN   \n",
       "16714      0.00      0.00      0.01         0.00           NaN        NaN   \n",
       "\n",
       "      rating  \n",
       "0          E  \n",
       "1        NaN  \n",
       "2          E  \n",
       "3          E  \n",
       "4        NaN  \n",
       "...      ...  \n",
       "16710    NaN  \n",
       "16711    NaN  \n",
       "16712    NaN  \n",
       "16713    NaN  \n",
       "16714    NaN  \n",
       "\n",
       "[16715 rows x 11 columns]"
      ]
     },
     "metadata": {},
     "output_type": "display_data"
    }
   ],
   "source": [
    "# Corregir el nombre de las columnas \n",
    "new_columns_name = []\n",
    "for name in df_games.columns:\n",
    "    name_lowered = name.lower()\n",
    "    name_striped = name_lowered.strip()\n",
    "    new_columns_name.append(name_striped)\n",
    "df_games.columns = new_columns_name\n",
    "\n",
    "print(df_games.columns)\n",
    "\n",
    "display(df_games)"
   ]
  },
  {
   "cell_type": "markdown",
   "metadata": {},
   "source": [
    "## Convierte los datos en los tipos necesarios."
   ]
  },
  {
   "cell_type": "code",
   "execution_count": 3,
   "metadata": {
    "trusted": true
   },
   "outputs": [
    {
     "name": "stdout",
     "output_type": "stream",
     "text": [
      "                                    name platform  year_of_release  \\\n",
      "183                      Madden NFL 2004      PS2              NaN   \n",
      "377                     FIFA Soccer 2004      PS2              NaN   \n",
      "456           LEGO Batman: The Videogame      Wii              NaN   \n",
      "475           wwe Smackdown vs. Raw 2006      PS2              NaN   \n",
      "609                       Space Invaders     2600              NaN   \n",
      "...                                  ...      ...              ...   \n",
      "16373  PDC World Championship Darts 2008      PSP              NaN   \n",
      "16405                      Freaky Flyers       GC              NaN   \n",
      "16448                          Inversion       PC              NaN   \n",
      "16458        Hakuouki: Shinsengumi Kitan      PS3              NaN   \n",
      "16522                       Virtua Quest       GC              NaN   \n",
      "\n",
      "              genre  na_sales  eu_sales  jp_sales  other_sales  critic_score  \\\n",
      "183          Sports      4.26      0.26      0.01         0.71          94.0   \n",
      "377          Sports      0.59      2.36      0.04         0.51          84.0   \n",
      "456          Action      1.80      0.97      0.00         0.29          74.0   \n",
      "475        Fighting      1.57      1.02      0.00         0.41           NaN   \n",
      "609         Shooter      2.36      0.14      0.00         0.03           NaN   \n",
      "...             ...       ...       ...       ...          ...           ...   \n",
      "16373        Sports      0.01      0.00      0.00         0.00          43.0   \n",
      "16405        Racing      0.01      0.00      0.00         0.00          69.0   \n",
      "16448       Shooter      0.01      0.00      0.00         0.00          59.0   \n",
      "16458     Adventure      0.01      0.00      0.00         0.00           NaN   \n",
      "16522  Role-Playing      0.01      0.00      0.00         0.00          55.0   \n",
      "\n",
      "      user_score rating  \n",
      "183          8.5      E  \n",
      "377          6.4      E  \n",
      "456          7.9   E10+  \n",
      "475          NaN    NaN  \n",
      "609          NaN    NaN  \n",
      "...          ...    ...  \n",
      "16373        tbd   E10+  \n",
      "16405        6.5      T  \n",
      "16448        6.7      M  \n",
      "16458        NaN    NaN  \n",
      "16522        5.5      T  \n",
      "\n",
      "[269 rows x 11 columns]\n"
     ]
    }
   ],
   "source": [
    "# Mostrando los datos ausentes en la columna year_of_release\n",
    "print(df_games[df_games['year_of_release'].isna()])"
   ]
  },
  {
   "cell_type": "markdown",
   "metadata": {},
   "source": [
    "Debido a que hay datos ausentes en la columna *year_of_release* debemos usar el parámetro errors = ignore\n",
    " "
   ]
  },
  {
   "cell_type": "code",
   "execution_count": 4,
   "metadata": {
    "scrolled": true,
    "trusted": true
   },
   "outputs": [
    {
     "name": "stdout",
     "output_type": "stream",
     "text": [
      "<class 'pandas.core.frame.DataFrame'>\n",
      "RangeIndex: 16715 entries, 0 to 16714\n",
      "Data columns (total 11 columns):\n",
      " #   Column           Non-Null Count  Dtype  \n",
      "---  ------           --------------  -----  \n",
      " 0   name             16713 non-null  object \n",
      " 1   platform         16715 non-null  object \n",
      " 2   year_of_release  16446 non-null  Int64  \n",
      " 3   genre            16713 non-null  object \n",
      " 4   na_sales         16715 non-null  float64\n",
      " 5   eu_sales         16715 non-null  float64\n",
      " 6   jp_sales         16715 non-null  float64\n",
      " 7   other_sales      16715 non-null  float64\n",
      " 8   critic_score     8137 non-null   float64\n",
      " 9   user_score       10014 non-null  object \n",
      " 10  rating           9949 non-null   object \n",
      "dtypes: Int64(1), float64(5), object(5)\n",
      "memory usage: 1.4+ MB\n",
      "None\n"
     ]
    },
    {
     "data": {
      "text/html": [
       "<div>\n",
       "<style scoped>\n",
       "    .dataframe tbody tr th:only-of-type {\n",
       "        vertical-align: middle;\n",
       "    }\n",
       "\n",
       "    .dataframe tbody tr th {\n",
       "        vertical-align: top;\n",
       "    }\n",
       "\n",
       "    .dataframe thead th {\n",
       "        text-align: right;\n",
       "    }\n",
       "</style>\n",
       "<table border=\"1\" class=\"dataframe\">\n",
       "  <thead>\n",
       "    <tr style=\"text-align: right;\">\n",
       "      <th></th>\n",
       "      <th>name</th>\n",
       "      <th>platform</th>\n",
       "      <th>year_of_release</th>\n",
       "      <th>genre</th>\n",
       "      <th>na_sales</th>\n",
       "      <th>eu_sales</th>\n",
       "      <th>jp_sales</th>\n",
       "      <th>other_sales</th>\n",
       "      <th>critic_score</th>\n",
       "      <th>user_score</th>\n",
       "      <th>rating</th>\n",
       "    </tr>\n",
       "  </thead>\n",
       "  <tbody>\n",
       "    <tr>\n",
       "      <th>0</th>\n",
       "      <td>Wii Sports</td>\n",
       "      <td>Wii</td>\n",
       "      <td>2006</td>\n",
       "      <td>Sports</td>\n",
       "      <td>41.36</td>\n",
       "      <td>28.96</td>\n",
       "      <td>3.77</td>\n",
       "      <td>8.45</td>\n",
       "      <td>76.0</td>\n",
       "      <td>8</td>\n",
       "      <td>E</td>\n",
       "    </tr>\n",
       "    <tr>\n",
       "      <th>1</th>\n",
       "      <td>Super Mario Bros.</td>\n",
       "      <td>NES</td>\n",
       "      <td>1985</td>\n",
       "      <td>Platform</td>\n",
       "      <td>29.08</td>\n",
       "      <td>3.58</td>\n",
       "      <td>6.81</td>\n",
       "      <td>0.77</td>\n",
       "      <td>NaN</td>\n",
       "      <td>NaN</td>\n",
       "      <td>NaN</td>\n",
       "    </tr>\n",
       "    <tr>\n",
       "      <th>2</th>\n",
       "      <td>Mario Kart Wii</td>\n",
       "      <td>Wii</td>\n",
       "      <td>2008</td>\n",
       "      <td>Racing</td>\n",
       "      <td>15.68</td>\n",
       "      <td>12.76</td>\n",
       "      <td>3.79</td>\n",
       "      <td>3.29</td>\n",
       "      <td>82.0</td>\n",
       "      <td>8.3</td>\n",
       "      <td>E</td>\n",
       "    </tr>\n",
       "    <tr>\n",
       "      <th>3</th>\n",
       "      <td>Wii Sports Resort</td>\n",
       "      <td>Wii</td>\n",
       "      <td>2009</td>\n",
       "      <td>Sports</td>\n",
       "      <td>15.61</td>\n",
       "      <td>10.93</td>\n",
       "      <td>3.28</td>\n",
       "      <td>2.95</td>\n",
       "      <td>80.0</td>\n",
       "      <td>8</td>\n",
       "      <td>E</td>\n",
       "    </tr>\n",
       "    <tr>\n",
       "      <th>4</th>\n",
       "      <td>Pokemon Red/Pokemon Blue</td>\n",
       "      <td>GB</td>\n",
       "      <td>1996</td>\n",
       "      <td>Role-Playing</td>\n",
       "      <td>11.27</td>\n",
       "      <td>8.89</td>\n",
       "      <td>10.22</td>\n",
       "      <td>1.00</td>\n",
       "      <td>NaN</td>\n",
       "      <td>NaN</td>\n",
       "      <td>NaN</td>\n",
       "    </tr>\n",
       "    <tr>\n",
       "      <th>...</th>\n",
       "      <td>...</td>\n",
       "      <td>...</td>\n",
       "      <td>...</td>\n",
       "      <td>...</td>\n",
       "      <td>...</td>\n",
       "      <td>...</td>\n",
       "      <td>...</td>\n",
       "      <td>...</td>\n",
       "      <td>...</td>\n",
       "      <td>...</td>\n",
       "      <td>...</td>\n",
       "    </tr>\n",
       "    <tr>\n",
       "      <th>16710</th>\n",
       "      <td>Samurai Warriors: Sanada Maru</td>\n",
       "      <td>PS3</td>\n",
       "      <td>2016</td>\n",
       "      <td>Action</td>\n",
       "      <td>0.00</td>\n",
       "      <td>0.00</td>\n",
       "      <td>0.01</td>\n",
       "      <td>0.00</td>\n",
       "      <td>NaN</td>\n",
       "      <td>NaN</td>\n",
       "      <td>NaN</td>\n",
       "    </tr>\n",
       "    <tr>\n",
       "      <th>16711</th>\n",
       "      <td>LMA Manager 2007</td>\n",
       "      <td>X360</td>\n",
       "      <td>2006</td>\n",
       "      <td>Sports</td>\n",
       "      <td>0.00</td>\n",
       "      <td>0.01</td>\n",
       "      <td>0.00</td>\n",
       "      <td>0.00</td>\n",
       "      <td>NaN</td>\n",
       "      <td>NaN</td>\n",
       "      <td>NaN</td>\n",
       "    </tr>\n",
       "    <tr>\n",
       "      <th>16712</th>\n",
       "      <td>Haitaka no Psychedelica</td>\n",
       "      <td>PSV</td>\n",
       "      <td>2016</td>\n",
       "      <td>Adventure</td>\n",
       "      <td>0.00</td>\n",
       "      <td>0.00</td>\n",
       "      <td>0.01</td>\n",
       "      <td>0.00</td>\n",
       "      <td>NaN</td>\n",
       "      <td>NaN</td>\n",
       "      <td>NaN</td>\n",
       "    </tr>\n",
       "    <tr>\n",
       "      <th>16713</th>\n",
       "      <td>Spirits &amp; Spells</td>\n",
       "      <td>GBA</td>\n",
       "      <td>2003</td>\n",
       "      <td>Platform</td>\n",
       "      <td>0.01</td>\n",
       "      <td>0.00</td>\n",
       "      <td>0.00</td>\n",
       "      <td>0.00</td>\n",
       "      <td>NaN</td>\n",
       "      <td>NaN</td>\n",
       "      <td>NaN</td>\n",
       "    </tr>\n",
       "    <tr>\n",
       "      <th>16714</th>\n",
       "      <td>Winning Post 8 2016</td>\n",
       "      <td>PSV</td>\n",
       "      <td>2016</td>\n",
       "      <td>Simulation</td>\n",
       "      <td>0.00</td>\n",
       "      <td>0.00</td>\n",
       "      <td>0.01</td>\n",
       "      <td>0.00</td>\n",
       "      <td>NaN</td>\n",
       "      <td>NaN</td>\n",
       "      <td>NaN</td>\n",
       "    </tr>\n",
       "  </tbody>\n",
       "</table>\n",
       "<p>16715 rows × 11 columns</p>\n",
       "</div>"
      ],
      "text/plain": [
       "                                name platform  year_of_release         genre  \\\n",
       "0                         Wii Sports      Wii             2006        Sports   \n",
       "1                  Super Mario Bros.      NES             1985      Platform   \n",
       "2                     Mario Kart Wii      Wii             2008        Racing   \n",
       "3                  Wii Sports Resort      Wii             2009        Sports   \n",
       "4           Pokemon Red/Pokemon Blue       GB             1996  Role-Playing   \n",
       "...                              ...      ...              ...           ...   \n",
       "16710  Samurai Warriors: Sanada Maru      PS3             2016        Action   \n",
       "16711               LMA Manager 2007     X360             2006        Sports   \n",
       "16712        Haitaka no Psychedelica      PSV             2016     Adventure   \n",
       "16713               Spirits & Spells      GBA             2003      Platform   \n",
       "16714            Winning Post 8 2016      PSV             2016    Simulation   \n",
       "\n",
       "       na_sales  eu_sales  jp_sales  other_sales  critic_score user_score  \\\n",
       "0         41.36     28.96      3.77         8.45          76.0          8   \n",
       "1         29.08      3.58      6.81         0.77           NaN        NaN   \n",
       "2         15.68     12.76      3.79         3.29          82.0        8.3   \n",
       "3         15.61     10.93      3.28         2.95          80.0          8   \n",
       "4         11.27      8.89     10.22         1.00           NaN        NaN   \n",
       "...         ...       ...       ...          ...           ...        ...   \n",
       "16710      0.00      0.00      0.01         0.00           NaN        NaN   \n",
       "16711      0.00      0.01      0.00         0.00           NaN        NaN   \n",
       "16712      0.00      0.00      0.01         0.00           NaN        NaN   \n",
       "16713      0.01      0.00      0.00         0.00           NaN        NaN   \n",
       "16714      0.00      0.00      0.01         0.00           NaN        NaN   \n",
       "\n",
       "      rating  \n",
       "0          E  \n",
       "1        NaN  \n",
       "2          E  \n",
       "3          E  \n",
       "4        NaN  \n",
       "...      ...  \n",
       "16710    NaN  \n",
       "16711    NaN  \n",
       "16712    NaN  \n",
       "16713    NaN  \n",
       "16714    NaN  \n",
       "\n",
       "[16715 rows x 11 columns]"
      ]
     },
     "metadata": {},
     "output_type": "display_data"
    }
   ],
   "source": [
    "# Cambiar los datos de la columna \"year_of_release\" de float a enteros\n",
    "df_games['year_of_release'] = pd.to_numeric(df_games['year_of_release'],errors='ignore').astype('Int64')\n",
    "print(df_games.info())\n",
    "display(df_games)\n"
   ]
  },
  {
   "cell_type": "code",
   "execution_count": 5,
   "metadata": {
    "trusted": true
   },
   "outputs": [],
   "source": [
    "df_games['user_score'].replace('tbd',0,inplace= True)\n",
    "df_games['user_score'].replace(\"<NA>\", 0, inplace = True)\n",
    "df_games['user_score'].replace(\" \",0,inplace= True)"
   ]
  },
  {
   "cell_type": "code",
   "execution_count": 6,
   "metadata": {
    "trusted": true
   },
   "outputs": [
    {
     "name": "stdout",
     "output_type": "stream",
     "text": [
      "<class 'pandas.core.frame.DataFrame'>\n",
      "RangeIndex: 16715 entries, 0 to 16714\n",
      "Data columns (total 11 columns):\n",
      " #   Column           Non-Null Count  Dtype  \n",
      "---  ------           --------------  -----  \n",
      " 0   name             16713 non-null  object \n",
      " 1   platform         16715 non-null  object \n",
      " 2   year_of_release  16446 non-null  Int64  \n",
      " 3   genre            16713 non-null  object \n",
      " 4   na_sales         16715 non-null  float64\n",
      " 5   eu_sales         16715 non-null  float64\n",
      " 6   jp_sales         16715 non-null  float64\n",
      " 7   other_sales      16715 non-null  float64\n",
      " 8   critic_score     8137 non-null   float64\n",
      " 9   user_score       10014 non-null  object \n",
      " 10  rating           9949 non-null   object \n",
      "dtypes: Int64(1), float64(5), object(5)\n",
      "memory usage: 1.4+ MB\n",
      "None\n"
     ]
    }
   ],
   "source": [
    "print(df_games.info())"
   ]
  },
  {
   "cell_type": "code",
   "execution_count": 7,
   "metadata": {
    "trusted": true
   },
   "outputs": [],
   "source": [
    "df_games['critic_score'].replace('tbd','NaN',inplace= True)\n",
    "df_games['critic_score'].replace(' ','NaN',inplace= True)"
   ]
  },
  {
   "cell_type": "code",
   "execution_count": 8,
   "metadata": {
    "scrolled": true,
    "trusted": true
   },
   "outputs": [
    {
     "name": "stdout",
     "output_type": "stream",
     "text": [
      "<class 'pandas.core.frame.DataFrame'>\n",
      "RangeIndex: 16715 entries, 0 to 16714\n",
      "Data columns (total 11 columns):\n",
      " #   Column           Non-Null Count  Dtype  \n",
      "---  ------           --------------  -----  \n",
      " 0   name             16713 non-null  object \n",
      " 1   platform         16715 non-null  object \n",
      " 2   year_of_release  16446 non-null  Int64  \n",
      " 3   genre            16713 non-null  object \n",
      " 4   na_sales         16715 non-null  float64\n",
      " 5   eu_sales         16715 non-null  float64\n",
      " 6   jp_sales         16715 non-null  float64\n",
      " 7   other_sales      16715 non-null  float64\n",
      " 8   critic_score     8137 non-null   float64\n",
      " 9   user_score       10014 non-null  Float64\n",
      " 10  rating           9949 non-null   object \n",
      "dtypes: Float64(1), Int64(1), float64(5), object(4)\n",
      "memory usage: 1.4+ MB\n",
      "None\n"
     ]
    }
   ],
   "source": [
    "df_games['user_score'] = pd.to_numeric(df_games['user_score']).astype('Float64')\n",
    "print(df_games.info())\n"
   ]
  },
  {
   "cell_type": "code",
   "execution_count": 9,
   "metadata": {
    "trusted": true
   },
   "outputs": [
    {
     "name": "stdout",
     "output_type": "stream",
     "text": [
      "NaN    6701\n",
      "0.0    2425\n",
      "7.8     324\n",
      "8.0     290\n",
      "8.2     282\n",
      "       ... \n",
      "0.2       2\n",
      "0.9       2\n",
      "0.5       2\n",
      "1.0       2\n",
      "9.7       1\n",
      "Name: user_score, Length: 96, dtype: Int64\n"
     ]
    }
   ],
   "source": [
    "#pd.set_option('display.max_rows', None)\n",
    "#print(df_games['user_score'].shape())\n",
    "print (df_games['user_score'].value_counts(dropna=False))"
   ]
  },
  {
   "cell_type": "markdown",
   "metadata": {},
   "source": [
    "## Describe las columnas en las que los tipos de datos han sido cambiados y explica por qué.\n",
    "\n",
    "Se llevó a cabo en la columna *year_of _release* ya que, no pueden existir fracciones de años.\n",
    "\n",
    "\n",
    "También se hicieron cambios en la columna *user_score* ya que, estaba catalogada como object siendo que los datos que nos interesan deben ser numéricos."
   ]
  },
  {
   "cell_type": "markdown",
   "metadata": {},
   "source": [
    "## Valores ausentes:"
   ]
  },
  {
   "cell_type": "code",
   "execution_count": 10,
   "metadata": {
    "trusted": true
   },
   "outputs": [
    {
     "name": "stdout",
     "output_type": "stream",
     "text": [
      "0\n"
     ]
    }
   ],
   "source": [
    "# Comprobar datos duplicados y ausentes \n",
    "print(df_games.duplicated().sum())"
   ]
  },
  {
   "cell_type": "code",
   "execution_count": 11,
   "metadata": {
    "trusted": true
   },
   "outputs": [
    {
     "name": "stdout",
     "output_type": "stream",
     "text": [
      "name                  2\n",
      "platform              0\n",
      "year_of_release     269\n",
      "genre                 2\n",
      "na_sales              0\n",
      "eu_sales              0\n",
      "jp_sales              0\n",
      "other_sales           0\n",
      "critic_score       8578\n",
      "user_score         6701\n",
      "rating             6766\n",
      "dtype: int64\n"
     ]
    }
   ],
   "source": [
    "print(df_games.isna().sum())"
   ]
  },
  {
   "cell_type": "code",
   "execution_count": 12,
   "metadata": {
    "trusted": true
   },
   "outputs": [
    {
     "name": "stdout",
     "output_type": "stream",
     "text": [
      "      name platform  year_of_release genre  na_sales  eu_sales  jp_sales  \\\n",
      "659    NaN      GEN             1993   NaN      1.78      0.53      0.00   \n",
      "14244  NaN      GEN             1993   NaN      0.00      0.00      0.03   \n",
      "\n",
      "       other_sales  critic_score  user_score rating  \n",
      "659           0.08           NaN        <NA>    NaN  \n",
      "14244         0.00           NaN        <NA>    NaN  \n"
     ]
    }
   ],
   "source": [
    "# Mostrando los valores ausentes de la columna 'genre'\n",
    "print(df_games[df_games['genre'].isna()])\n",
    "\n"
   ]
  },
  {
   "cell_type": "code",
   "execution_count": 13,
   "metadata": {
    "trusted": true
   },
   "outputs": [
    {
     "name": "stdout",
     "output_type": "stream",
     "text": [
      "Action          3369\n",
      "Sports          2348\n",
      "Misc            1750\n",
      "Role-Playing    1498\n",
      "Shooter         1323\n",
      "Adventure       1303\n",
      "Racing          1249\n",
      "Platform         888\n",
      "Simulation       873\n",
      "Fighting         849\n",
      "Strategy         683\n",
      "Puzzle           580\n",
      "Name: genre, dtype: int64\n"
     ]
    }
   ],
   "source": [
    "# Solo queria observar si sabiendo el nombre del video juego se podia agregar a una categoria existente de genero\n",
    "# y quise ver los generes existentes por eso los imprimi\n",
    "print(df_games['genre'].value_counts())"
   ]
  },
  {
   "cell_type": "code",
   "execution_count": 14,
   "metadata": {
    "trusted": true
   },
   "outputs": [
    {
     "name": "stdout",
     "output_type": "stream",
     "text": [
      "                                name platform  year_of_release         genre  \\\n",
      "1                  Super Mario Bros.      NES             1985      Platform   \n",
      "4           Pokemon Red/Pokemon Blue       GB             1996  Role-Playing   \n",
      "5                             Tetris       GB             1989        Puzzle   \n",
      "9                          Duck Hunt      NES             1984       Shooter   \n",
      "10                        Nintendogs       DS             2005    Simulation   \n",
      "...                              ...      ...              ...           ...   \n",
      "16710  Samurai Warriors: Sanada Maru      PS3             2016        Action   \n",
      "16711               LMA Manager 2007     X360             2006        Sports   \n",
      "16712        Haitaka no Psychedelica      PSV             2016     Adventure   \n",
      "16713               Spirits & Spells      GBA             2003      Platform   \n",
      "16714            Winning Post 8 2016      PSV             2016    Simulation   \n",
      "\n",
      "       na_sales  eu_sales  jp_sales  other_sales  critic_score  user_score  \\\n",
      "1         29.08      3.58      6.81         0.77           NaN        <NA>   \n",
      "4         11.27      8.89     10.22         1.00           NaN        <NA>   \n",
      "5         23.20      2.26      4.22         0.58           NaN        <NA>   \n",
      "9         26.93      0.63      0.28         0.47           NaN        <NA>   \n",
      "10         9.05     10.95      1.93         2.74           NaN        <NA>   \n",
      "...         ...       ...       ...          ...           ...         ...   \n",
      "16710      0.00      0.00      0.01         0.00           NaN        <NA>   \n",
      "16711      0.00      0.01      0.00         0.00           NaN        <NA>   \n",
      "16712      0.00      0.00      0.01         0.00           NaN        <NA>   \n",
      "16713      0.01      0.00      0.00         0.00           NaN        <NA>   \n",
      "16714      0.00      0.00      0.01         0.00           NaN        <NA>   \n",
      "\n",
      "      rating  \n",
      "1        NaN  \n",
      "4        NaN  \n",
      "5        NaN  \n",
      "9        NaN  \n",
      "10       NaN  \n",
      "...      ...  \n",
      "16710    NaN  \n",
      "16711    NaN  \n",
      "16712    NaN  \n",
      "16713    NaN  \n",
      "16714    NaN  \n",
      "\n",
      "[8578 rows x 11 columns]\n",
      "\n",
      "                                name platform  year_of_release         genre  \\\n",
      "1                  Super Mario Bros.      NES             1985      Platform   \n",
      "4           Pokemon Red/Pokemon Blue       GB             1996  Role-Playing   \n",
      "5                             Tetris       GB             1989        Puzzle   \n",
      "9                          Duck Hunt      NES             1984       Shooter   \n",
      "10                        Nintendogs       DS             2005    Simulation   \n",
      "...                              ...      ...              ...           ...   \n",
      "16710  Samurai Warriors: Sanada Maru      PS3             2016        Action   \n",
      "16711               LMA Manager 2007     X360             2006        Sports   \n",
      "16712        Haitaka no Psychedelica      PSV             2016     Adventure   \n",
      "16713               Spirits & Spells      GBA             2003      Platform   \n",
      "16714            Winning Post 8 2016      PSV             2016    Simulation   \n",
      "\n",
      "       na_sales  eu_sales  jp_sales  other_sales  critic_score  user_score  \\\n",
      "1         29.08      3.58      6.81         0.77           NaN        <NA>   \n",
      "4         11.27      8.89     10.22         1.00           NaN        <NA>   \n",
      "5         23.20      2.26      4.22         0.58           NaN        <NA>   \n",
      "9         26.93      0.63      0.28         0.47           NaN        <NA>   \n",
      "10         9.05     10.95      1.93         2.74           NaN        <NA>   \n",
      "...         ...       ...       ...          ...           ...         ...   \n",
      "16710      0.00      0.00      0.01         0.00           NaN        <NA>   \n",
      "16711      0.00      0.01      0.00         0.00           NaN        <NA>   \n",
      "16712      0.00      0.00      0.01         0.00           NaN        <NA>   \n",
      "16713      0.01      0.00      0.00         0.00           NaN        <NA>   \n",
      "16714      0.00      0.00      0.01         0.00           NaN        <NA>   \n",
      "\n",
      "      rating  \n",
      "1        NaN  \n",
      "4        NaN  \n",
      "5        NaN  \n",
      "9        NaN  \n",
      "10       NaN  \n",
      "...      ...  \n",
      "16710    NaN  \n",
      "16711    NaN  \n",
      "16712    NaN  \n",
      "16713    NaN  \n",
      "16714    NaN  \n",
      "\n",
      "[6701 rows x 11 columns]\n"
     ]
    }
   ],
   "source": [
    "# Mostrando los valores ausentes de las columnas critic_score & user_score\n",
    "print(df_games[df_games['critic_score'].isna()])\n",
    "print()\n",
    "print(df_games[df_games['user_score'].isna()])"
   ]
  },
  {
   "cell_type": "code",
   "execution_count": 15,
   "metadata": {
    "trusted": true
   },
   "outputs": [
    {
     "name": "stdout",
     "output_type": "stream",
     "text": [
      "count    8137.000000\n",
      "mean       68.967679\n",
      "std        13.938165\n",
      "min        13.000000\n",
      "25%        60.000000\n",
      "50%        71.000000\n",
      "75%        79.000000\n",
      "max        98.000000\n",
      "Name: critic_score, dtype: float64\n"
     ]
    }
   ],
   "source": [
    "# Descripcion estadistica rapida de la columna critic_score\n",
    "print(df_games['critic_score'].describe())"
   ]
  },
  {
   "cell_type": "code",
   "execution_count": 16,
   "metadata": {
    "trusted": true
   },
   "outputs": [
    {
     "name": "stdout",
     "output_type": "stream",
     "text": [
      "count    10014.000000\n",
      "mean         5.400350\n",
      "std          3.319671\n",
      "min          0.000000\n",
      "25%          2.400000\n",
      "50%          6.900000\n",
      "75%          8.000000\n",
      "max          9.700000\n",
      "Name: user_score, dtype: float64\n"
     ]
    }
   ],
   "source": [
    "# Descripcion estadistica rapida de la columna user_score con datos en 0\n",
    "print(df_games['user_score'].describe())"
   ]
  },
  {
   "cell_type": "code",
   "execution_count": 17,
   "metadata": {
    "trusted": true
   },
   "outputs": [
    {
     "name": "stdout",
     "output_type": "stream",
     "text": [
      "name                  2\n",
      "platform              0\n",
      "year_of_release     269\n",
      "genre                 2\n",
      "na_sales              0\n",
      "eu_sales              0\n",
      "jp_sales              0\n",
      "other_sales           0\n",
      "critic_score       8578\n",
      "user_score         6701\n",
      "rating             6766\n",
      "dtype: int64\n"
     ]
    }
   ],
   "source": [
    "print(df_games.isna().sum())"
   ]
  },
  {
   "cell_type": "code",
   "execution_count": 18,
   "metadata": {
    "trusted": true
   },
   "outputs": [
    {
     "name": "stdout",
     "output_type": "stream",
     "text": [
      "count    10014.000000\n",
      "mean         5.400350\n",
      "std          3.319671\n",
      "min          0.000000\n",
      "25%          2.400000\n",
      "50%          6.900000\n",
      "75%          8.000000\n",
      "max          9.700000\n",
      "Name: user_score, dtype: float64\n"
     ]
    }
   ],
   "source": [
    "# Descripcion estadistica rapida de la columna user_score sin datos en 0\n",
    "print(df_games['user_score'].describe())"
   ]
  },
  {
   "cell_type": "code",
   "execution_count": 19,
   "metadata": {
    "trusted": true
   },
   "outputs": [
    {
     "name": "stdout",
     "output_type": "stream",
     "text": [
      "<class 'pandas.core.frame.DataFrame'>\n",
      "RangeIndex: 16715 entries, 0 to 16714\n",
      "Data columns (total 11 columns):\n",
      " #   Column           Non-Null Count  Dtype  \n",
      "---  ------           --------------  -----  \n",
      " 0   name             16713 non-null  object \n",
      " 1   platform         16715 non-null  object \n",
      " 2   year_of_release  16446 non-null  Int64  \n",
      " 3   genre            16713 non-null  object \n",
      " 4   na_sales         16715 non-null  float64\n",
      " 5   eu_sales         16715 non-null  float64\n",
      " 6   jp_sales         16715 non-null  float64\n",
      " 7   other_sales      16715 non-null  float64\n",
      " 8   critic_score     16715 non-null  float64\n",
      " 9   user_score       10014 non-null  Float64\n",
      " 10  rating           9949 non-null   object \n",
      "dtypes: Float64(1), Int64(1), float64(5), object(4)\n",
      "memory usage: 1.4+ MB\n"
     ]
    },
    {
     "data": {
      "text/plain": [
       "None"
      ]
     },
     "metadata": {},
     "output_type": "display_data"
    }
   ],
   "source": [
    "# Rellenar critics_score con la media de la columna\n",
    "critics_score_avg = df_games['critic_score'].mean()\n",
    "df_games['critic_score']=df_games['critic_score'].fillna(critics_score_avg)\n",
    "display(df_games.info())"
   ]
  },
  {
   "cell_type": "code",
   "execution_count": 20,
   "metadata": {
    "trusted": true
   },
   "outputs": [
    {
     "name": "stdout",
     "output_type": "stream",
     "text": [
      "<class 'pandas.core.frame.DataFrame'>\n",
      "RangeIndex: 16715 entries, 0 to 16714\n",
      "Data columns (total 11 columns):\n",
      " #   Column           Non-Null Count  Dtype  \n",
      "---  ------           --------------  -----  \n",
      " 0   name             16713 non-null  object \n",
      " 1   platform         16715 non-null  object \n",
      " 2   year_of_release  16446 non-null  Int64  \n",
      " 3   genre            16713 non-null  object \n",
      " 4   na_sales         16715 non-null  float64\n",
      " 5   eu_sales         16715 non-null  float64\n",
      " 6   jp_sales         16715 non-null  float64\n",
      " 7   other_sales      16715 non-null  float64\n",
      " 8   critic_score     16715 non-null  float64\n",
      " 9   user_score       16715 non-null  Float64\n",
      " 10  rating           9949 non-null   object \n",
      "dtypes: Float64(1), Int64(1), float64(5), object(4)\n",
      "memory usage: 1.4+ MB\n"
     ]
    },
    {
     "data": {
      "text/plain": [
       "None"
      ]
     },
     "metadata": {},
     "output_type": "display_data"
    }
   ],
   "source": [
    "# Rellenar user_score con la media de la columna\n",
    "user_score_avg = df_games['user_score'].median()\n",
    "df_games['user_score']=df_games['user_score'].fillna(user_score_avg)\n",
    "display(df_games.info())"
   ]
  },
  {
   "cell_type": "markdown",
   "metadata": {},
   "source": [
    "## Conclusiones Valores Ausentes\n",
    "\n",
    "En cuanto a los datos ausentes en la columna *genre* del dataframe, debido a que tampoco podemos conocer el nombre del videojuego como para tratar de indexarlo a alguna categoría existente y da la casualidad de que se trata también de las filas donde tenemos los 2 unicos datos ausentes en la columna *name*. Talvez lo mejor sea dejar esos datos como están ya que al final del día si tienen información de ventas y del año de lanzamiento, que son datos que podrían resultarnos útiles en el futuro (aunque no sepamos el nombre ni el genero de esos datos ).\n",
    "\n",
    "Quise corroborar que el cambiar los valores en 0 a nulos en la columna user_score tenia cambios significativos en su media. \n",
    "\n",
    "Media de *user_score* con datos en 0 : 7.125046\n",
    "\n",
    "Media de *user_score* sin datos en 0 : 7.125985\n",
    "\n",
    "Ya que no existe gran diferencia creo que es seguro remplazar los valores ausentes con las medias en amabas columnas : *user_score* y *critic_score*.\n",
    " \n",
    "\n",
    "En cuanto a los valores ausentes en la columna *rating* posiblemente sea buena idea eliminar la columna, ya que faltan tantos datos que una categorización por su rating del ESRB seria prácticamente imposible."
   ]
  },
  {
   "cell_type": "markdown",
   "metadata": {},
   "source": [
    "## Calcular las ventas totales en una nueva columna"
   ]
  },
  {
   "cell_type": "code",
   "execution_count": 21,
   "metadata": {
    "trusted": true
   },
   "outputs": [
    {
     "data": {
      "text/html": [
       "<div>\n",
       "<style scoped>\n",
       "    .dataframe tbody tr th:only-of-type {\n",
       "        vertical-align: middle;\n",
       "    }\n",
       "\n",
       "    .dataframe tbody tr th {\n",
       "        vertical-align: top;\n",
       "    }\n",
       "\n",
       "    .dataframe thead th {\n",
       "        text-align: right;\n",
       "    }\n",
       "</style>\n",
       "<table border=\"1\" class=\"dataframe\">\n",
       "  <thead>\n",
       "    <tr style=\"text-align: right;\">\n",
       "      <th></th>\n",
       "      <th>name</th>\n",
       "      <th>platform</th>\n",
       "      <th>year_of_release</th>\n",
       "      <th>genre</th>\n",
       "      <th>na_sales</th>\n",
       "      <th>eu_sales</th>\n",
       "      <th>jp_sales</th>\n",
       "      <th>other_sales</th>\n",
       "      <th>critic_score</th>\n",
       "      <th>user_score</th>\n",
       "      <th>rating</th>\n",
       "      <th>total_sales</th>\n",
       "    </tr>\n",
       "  </thead>\n",
       "  <tbody>\n",
       "    <tr>\n",
       "      <th>0</th>\n",
       "      <td>Wii Sports</td>\n",
       "      <td>Wii</td>\n",
       "      <td>2006</td>\n",
       "      <td>Sports</td>\n",
       "      <td>41.36</td>\n",
       "      <td>28.96</td>\n",
       "      <td>3.77</td>\n",
       "      <td>8.45</td>\n",
       "      <td>76.000000</td>\n",
       "      <td>8.0</td>\n",
       "      <td>E</td>\n",
       "      <td>82.54</td>\n",
       "    </tr>\n",
       "    <tr>\n",
       "      <th>1</th>\n",
       "      <td>Super Mario Bros.</td>\n",
       "      <td>NES</td>\n",
       "      <td>1985</td>\n",
       "      <td>Platform</td>\n",
       "      <td>29.08</td>\n",
       "      <td>3.58</td>\n",
       "      <td>6.81</td>\n",
       "      <td>0.77</td>\n",
       "      <td>68.967679</td>\n",
       "      <td>6.9</td>\n",
       "      <td>NaN</td>\n",
       "      <td>40.24</td>\n",
       "    </tr>\n",
       "    <tr>\n",
       "      <th>2</th>\n",
       "      <td>Mario Kart Wii</td>\n",
       "      <td>Wii</td>\n",
       "      <td>2008</td>\n",
       "      <td>Racing</td>\n",
       "      <td>15.68</td>\n",
       "      <td>12.76</td>\n",
       "      <td>3.79</td>\n",
       "      <td>3.29</td>\n",
       "      <td>82.000000</td>\n",
       "      <td>8.3</td>\n",
       "      <td>E</td>\n",
       "      <td>35.52</td>\n",
       "    </tr>\n",
       "    <tr>\n",
       "      <th>3</th>\n",
       "      <td>Wii Sports Resort</td>\n",
       "      <td>Wii</td>\n",
       "      <td>2009</td>\n",
       "      <td>Sports</td>\n",
       "      <td>15.61</td>\n",
       "      <td>10.93</td>\n",
       "      <td>3.28</td>\n",
       "      <td>2.95</td>\n",
       "      <td>80.000000</td>\n",
       "      <td>8.0</td>\n",
       "      <td>E</td>\n",
       "      <td>32.77</td>\n",
       "    </tr>\n",
       "    <tr>\n",
       "      <th>4</th>\n",
       "      <td>Pokemon Red/Pokemon Blue</td>\n",
       "      <td>GB</td>\n",
       "      <td>1996</td>\n",
       "      <td>Role-Playing</td>\n",
       "      <td>11.27</td>\n",
       "      <td>8.89</td>\n",
       "      <td>10.22</td>\n",
       "      <td>1.00</td>\n",
       "      <td>68.967679</td>\n",
       "      <td>6.9</td>\n",
       "      <td>NaN</td>\n",
       "      <td>31.38</td>\n",
       "    </tr>\n",
       "    <tr>\n",
       "      <th>...</th>\n",
       "      <td>...</td>\n",
       "      <td>...</td>\n",
       "      <td>...</td>\n",
       "      <td>...</td>\n",
       "      <td>...</td>\n",
       "      <td>...</td>\n",
       "      <td>...</td>\n",
       "      <td>...</td>\n",
       "      <td>...</td>\n",
       "      <td>...</td>\n",
       "      <td>...</td>\n",
       "      <td>...</td>\n",
       "    </tr>\n",
       "    <tr>\n",
       "      <th>16710</th>\n",
       "      <td>Samurai Warriors: Sanada Maru</td>\n",
       "      <td>PS3</td>\n",
       "      <td>2016</td>\n",
       "      <td>Action</td>\n",
       "      <td>0.00</td>\n",
       "      <td>0.00</td>\n",
       "      <td>0.01</td>\n",
       "      <td>0.00</td>\n",
       "      <td>68.967679</td>\n",
       "      <td>6.9</td>\n",
       "      <td>NaN</td>\n",
       "      <td>0.01</td>\n",
       "    </tr>\n",
       "    <tr>\n",
       "      <th>16711</th>\n",
       "      <td>LMA Manager 2007</td>\n",
       "      <td>X360</td>\n",
       "      <td>2006</td>\n",
       "      <td>Sports</td>\n",
       "      <td>0.00</td>\n",
       "      <td>0.01</td>\n",
       "      <td>0.00</td>\n",
       "      <td>0.00</td>\n",
       "      <td>68.967679</td>\n",
       "      <td>6.9</td>\n",
       "      <td>NaN</td>\n",
       "      <td>0.01</td>\n",
       "    </tr>\n",
       "    <tr>\n",
       "      <th>16712</th>\n",
       "      <td>Haitaka no Psychedelica</td>\n",
       "      <td>PSV</td>\n",
       "      <td>2016</td>\n",
       "      <td>Adventure</td>\n",
       "      <td>0.00</td>\n",
       "      <td>0.00</td>\n",
       "      <td>0.01</td>\n",
       "      <td>0.00</td>\n",
       "      <td>68.967679</td>\n",
       "      <td>6.9</td>\n",
       "      <td>NaN</td>\n",
       "      <td>0.01</td>\n",
       "    </tr>\n",
       "    <tr>\n",
       "      <th>16713</th>\n",
       "      <td>Spirits &amp; Spells</td>\n",
       "      <td>GBA</td>\n",
       "      <td>2003</td>\n",
       "      <td>Platform</td>\n",
       "      <td>0.01</td>\n",
       "      <td>0.00</td>\n",
       "      <td>0.00</td>\n",
       "      <td>0.00</td>\n",
       "      <td>68.967679</td>\n",
       "      <td>6.9</td>\n",
       "      <td>NaN</td>\n",
       "      <td>0.01</td>\n",
       "    </tr>\n",
       "    <tr>\n",
       "      <th>16714</th>\n",
       "      <td>Winning Post 8 2016</td>\n",
       "      <td>PSV</td>\n",
       "      <td>2016</td>\n",
       "      <td>Simulation</td>\n",
       "      <td>0.00</td>\n",
       "      <td>0.00</td>\n",
       "      <td>0.01</td>\n",
       "      <td>0.00</td>\n",
       "      <td>68.967679</td>\n",
       "      <td>6.9</td>\n",
       "      <td>NaN</td>\n",
       "      <td>0.01</td>\n",
       "    </tr>\n",
       "  </tbody>\n",
       "</table>\n",
       "<p>16715 rows × 12 columns</p>\n",
       "</div>"
      ],
      "text/plain": [
       "                                name platform  year_of_release         genre  \\\n",
       "0                         Wii Sports      Wii             2006        Sports   \n",
       "1                  Super Mario Bros.      NES             1985      Platform   \n",
       "2                     Mario Kart Wii      Wii             2008        Racing   \n",
       "3                  Wii Sports Resort      Wii             2009        Sports   \n",
       "4           Pokemon Red/Pokemon Blue       GB             1996  Role-Playing   \n",
       "...                              ...      ...              ...           ...   \n",
       "16710  Samurai Warriors: Sanada Maru      PS3             2016        Action   \n",
       "16711               LMA Manager 2007     X360             2006        Sports   \n",
       "16712        Haitaka no Psychedelica      PSV             2016     Adventure   \n",
       "16713               Spirits & Spells      GBA             2003      Platform   \n",
       "16714            Winning Post 8 2016      PSV             2016    Simulation   \n",
       "\n",
       "       na_sales  eu_sales  jp_sales  other_sales  critic_score  user_score  \\\n",
       "0         41.36     28.96      3.77         8.45     76.000000         8.0   \n",
       "1         29.08      3.58      6.81         0.77     68.967679         6.9   \n",
       "2         15.68     12.76      3.79         3.29     82.000000         8.3   \n",
       "3         15.61     10.93      3.28         2.95     80.000000         8.0   \n",
       "4         11.27      8.89     10.22         1.00     68.967679         6.9   \n",
       "...         ...       ...       ...          ...           ...         ...   \n",
       "16710      0.00      0.00      0.01         0.00     68.967679         6.9   \n",
       "16711      0.00      0.01      0.00         0.00     68.967679         6.9   \n",
       "16712      0.00      0.00      0.01         0.00     68.967679         6.9   \n",
       "16713      0.01      0.00      0.00         0.00     68.967679         6.9   \n",
       "16714      0.00      0.00      0.01         0.00     68.967679         6.9   \n",
       "\n",
       "      rating  total_sales  \n",
       "0          E        82.54  \n",
       "1        NaN        40.24  \n",
       "2          E        35.52  \n",
       "3          E        32.77  \n",
       "4        NaN        31.38  \n",
       "...      ...          ...  \n",
       "16710    NaN         0.01  \n",
       "16711    NaN         0.01  \n",
       "16712    NaN         0.01  \n",
       "16713    NaN         0.01  \n",
       "16714    NaN         0.01  \n",
       "\n",
       "[16715 rows x 12 columns]"
      ]
     },
     "metadata": {},
     "output_type": "display_data"
    }
   ],
   "source": [
    "df_games['total_sales']= df_games['na_sales']+df_games['eu_sales']+df_games['jp_sales']+df_games['other_sales']\n",
    "display(df_games)"
   ]
  },
  {
   "cell_type": "markdown",
   "metadata": {},
   "source": [
    "# Paso 3 Analisis de Datos"
   ]
  },
  {
   "cell_type": "code",
   "execution_count": 22,
   "metadata": {
    "trusted": true
   },
   "outputs": [
    {
     "name": "stdout",
     "output_type": "stream",
     "text": [
      "year_of_release\n",
      "1980       9\n",
      "1981      46\n",
      "1982      36\n",
      "1983      17\n",
      "1984      14\n",
      "1985      14\n",
      "1986      21\n",
      "1987      16\n",
      "1988      15\n",
      "1989      17\n",
      "1990      16\n",
      "1991      40\n",
      "1992      41\n",
      "1993      59\n",
      "1994     117\n",
      "1995     215\n",
      "1996     258\n",
      "1997     282\n",
      "1998     364\n",
      "1999     326\n",
      "2000     325\n",
      "2001     428\n",
      "2002     631\n",
      "2003     546\n",
      "2004     550\n",
      "2005     657\n",
      "2006     773\n",
      "2007     884\n",
      "2008    1039\n",
      "2009    1001\n",
      "2010     900\n",
      "2011     779\n",
      "2012     446\n",
      "2013     335\n",
      "2014     319\n",
      "2015     362\n",
      "2016     297\n",
      "Name: name, dtype: int64\n"
     ]
    }
   ],
   "source": [
    "# Numero de juegos lanzados en diferentes años\n",
    "game_count_by_year = df_games.groupby('year_of_release')['name'].nunique()\n",
    "print(game_count_by_year)"
   ]
  },
  {
   "cell_type": "code",
   "execution_count": 23,
   "metadata": {
    "trusted": true
   },
   "outputs": [
    {
     "data": {
      "image/png": "[encoded data removed]",
      "text/plain": [
       "<Figure size 2500x1000 with 1 Axes>"
      ]
     },
     "metadata": {},
     "output_type": "display_data"
    }
   ],
   "source": [
    "# Agrupar por total_sales en la columna platform\n",
    "platform_sales = df_games.groupby('platform')['total_sales'].sum().sort_values(ascending=False)\n",
    "\n",
    "# Seleccionar las plataformas top\n",
    "top_platforms = platform_sales.head(7).index.tolist()\n",
    "\n",
    "# Filtrar el datafrmae para que solo esten las plataformas top\n",
    "df_top_platforms = df_games[df_games['platform'].isin(top_platforms)]\n",
    "\n",
    "# Agrupar por año y plataforma para calcular las ventas totales por cada plataforma en cada año\n",
    "sales_by_year_platform = df_top_platforms.groupby(['year_of_release', 'platform'])['total_sales'].sum().unstack()\n",
    "\n",
    "# Grafico de la distribucion de ventas totales por ano por cada plataforma top\n",
    "\n",
    "import matplotlib.pyplot as plt\n",
    "sales_by_year_platform.plot(kind='bar', figsize=(25, 10))\n",
    "plt.xlabel('Año')\n",
    "plt.ylabel('Ventas totales')\n",
    "plt.title('Distribución de Ventas Totales por Año en las platafromas Top')\n",
    "plt.legend(title='Plataforma')\n",
    "plt.xticks(rotation=45,)\n",
    "plt.show()\n"
   ]
  },
  {
   "cell_type": "code",
   "execution_count": 24,
   "metadata": {
    "trusted": true
   },
   "outputs": [
    {
     "name": "stdout",
     "output_type": "stream",
     "text": [
      "Plataformas que fueron populares pero ya no tiene ventas hoy: Index(['2600', '3DO', 'DC', 'DS', 'GB', 'GBA', 'GC', 'GEN', 'GG', 'N64', 'NES',\n",
      "       'NG', 'PC', 'PCFX', 'PS', 'PS2', 'PS3', 'PSP', 'SAT', 'SCD', 'SNES',\n",
      "       'TG16', 'WS', 'Wii', 'X360', 'XB'],\n",
      "      dtype='object', name='platform')\n"
     ]
    }
   ],
   "source": [
    "# Encontrar plataformas sin ventas en años recientes(despues del 2010)\n",
    "no_recent_sales_platforms = df_games[df_games['year_of_release'] < 2010].groupby('platform')['total_sales'].sum()\n",
    "\n",
    "# Plataformas que tuvieron ventas en el pasado pero ya no\n",
    "past_popular_no_sales_platforms = no_recent_sales_platforms[no_recent_sales_platforms > 0].index\n",
    "\n",
    "print(\"Plataformas que fueron populares pero ya no tiene ventas hoy:\", past_popular_no_sales_platforms)"
   ]
  },
  {
   "cell_type": "code",
   "execution_count": 25,
   "metadata": {
    "trusted": true
   },
   "outputs": [
    {
     "name": "stdout",
     "output_type": "stream",
     "text": [
      "El promedio de la vida útil de una plataforma es de: 7.612903225806452 años\n"
     ]
    }
   ],
   "source": [
    "# El primer año que aparecio una plataforma y  el utlimo año en que aparece\n",
    "platform_lifespan = df_games.groupby('platform').agg({'year_of_release': ['min', 'max']})\n",
    "\n",
    "# Calcular la vida util de cada plataforma \n",
    "platform_lifespan['lifespan'] = platform_lifespan[('year_of_release', 'max')] - platform_lifespan[('year_of_release', 'min')]\n",
    "\n",
    "# Calcular la media de la vida util de las plataformas\n",
    "average_lifespan = platform_lifespan['lifespan'].mean()\n",
    "\n",
    "print(f\"El promedio de la vida útil de una plataforma es de: {average_lifespan} años\")\n"
   ]
  },
  {
   "cell_type": "markdown",
   "metadata": {},
   "source": [
    "Ya que la vida útil pormedio de las plataformas es de 7 a 8 años tal vez sea sabio trabajar con los datos de máximo  8 años de antigüedad."
   ]
  },
  {
   "cell_type": "code",
   "execution_count": 26,
   "metadata": {
    "trusted": true
   },
   "outputs": [
    {
     "name": "stdout",
     "output_type": "stream",
     "text": [
      "                              name platform  year_of_release         genre  \\\n",
      "2                   Mario Kart Wii      Wii             2008        Racing   \n",
      "3                Wii Sports Resort      Wii             2009        Sports   \n",
      "8        New Super Mario Bros. Wii      Wii             2009      Platform   \n",
      "14              Kinect Adventures!     X360             2010          Misc   \n",
      "15                    Wii Fit Plus      Wii             2009        Sports   \n",
      "16              Grand Theft Auto V      PS3             2013        Action   \n",
      "23              Grand Theft Auto V     X360             2013        Action   \n",
      "27     Pokemon Black/Pokemon White       DS             2010  Role-Playing   \n",
      "29  Call of Duty: Modern Warfare 3     X360             2011       Shooter   \n",
      "31       Call of Duty: Black Ops 3      PS4             2015       Shooter   \n",
      "\n",
      "    na_sales  eu_sales  jp_sales  other_sales  critic_score  user_score  \\\n",
      "2      15.68     12.76      3.79         3.29     82.000000         8.3   \n",
      "3      15.61     10.93      3.28         2.95     80.000000         8.0   \n",
      "8      14.44      6.94      4.70         2.24     87.000000         8.4   \n",
      "14     15.00      4.89      0.24         1.69     61.000000         6.3   \n",
      "15      9.01      8.49      2.53         1.77     80.000000         7.4   \n",
      "16      7.02      9.09      0.98         3.96     97.000000         8.2   \n",
      "23      9.66      5.14      0.06         1.41     97.000000         8.1   \n",
      "27      5.51      3.17      5.65         0.80     68.967679         6.9   \n",
      "29      9.04      4.24      0.13         1.32     88.000000         3.4   \n",
      "31      6.03      5.86      0.36         2.38     68.967679         6.9   \n",
      "\n",
      "   rating  total_sales  \n",
      "2       E        35.52  \n",
      "3       E        32.77  \n",
      "8       E        28.32  \n",
      "14      E        21.82  \n",
      "15      E        21.80  \n",
      "16      M        21.05  \n",
      "23      M        16.27  \n",
      "27    NaN        15.13  \n",
      "29      M        14.73  \n",
      "31    NaN        14.63  \n",
      "\n",
      "<class 'pandas.core.frame.DataFrame'>\n",
      "Int64Index: 8130 entries, 2 to 16714\n",
      "Data columns (total 12 columns):\n",
      " #   Column           Non-Null Count  Dtype  \n",
      "---  ------           --------------  -----  \n",
      " 0   name             8130 non-null   object \n",
      " 1   platform         8130 non-null   object \n",
      " 2   year_of_release  8130 non-null   Int64  \n",
      " 3   genre            8130 non-null   object \n",
      " 4   na_sales         8130 non-null   float64\n",
      " 5   eu_sales         8130 non-null   float64\n",
      " 6   jp_sales         8130 non-null   float64\n",
      " 7   other_sales      8130 non-null   float64\n",
      " 8   critic_score     8130 non-null   float64\n",
      " 9   user_score       8130 non-null   Float64\n",
      " 10  rating           5105 non-null   object \n",
      " 11  total_sales      8130 non-null   float64\n",
      "dtypes: Float64(1), Int64(1), float64(6), object(4)\n",
      "memory usage: 841.6+ KB\n",
      "None\n"
     ]
    }
   ],
   "source": [
    "# Filtrar DataFrame por promedio de vida util de las plataformas\n",
    "max_year = df_games['year_of_release'].max()\n",
    "df_games_filtered = df_games[df_games['year_of_release'] >= max_year - 8]\n",
    "print(df_games_filtered.head(10))\n",
    "print()\n",
    "print(df_games_filtered.info())\n"
   ]
  },
  {
   "cell_type": "markdown",
   "metadata": {},
   "source": [
    "## Empezando a trabajar solo con los datos que consideramos relevantes (de los ultimos 8 años )"
   ]
  },
  {
   "cell_type": "code",
   "execution_count": 27,
   "metadata": {
    "trusted": true
   },
   "outputs": [
    {
     "name": "stdout",
     "output_type": "stream",
     "text": [
      "Plataformas Top por ventas (2008 a 2016):\n",
      "platform\n",
      "PS3     837.19\n",
      "X360    805.96\n",
      "Wii     601.26\n",
      "DS      388.60\n",
      "PS4     314.14\n",
      "3DS     257.81\n",
      "XOne    159.32\n",
      "PC      151.29\n",
      "PSP     136.38\n",
      "PS2      86.39\n",
      "Name: total_sales, dtype: float64\n"
     ]
    }
   ],
   "source": [
    "filtered_platform_sales = df_games_filtered.groupby('platform')['total_sales'].sum()\n",
    "top_filtered_platforms = filtered_platform_sales.sort_values(ascending=False)\n",
    "\n",
    "print(\"Plataformas Top por ventas (2008 a 2016):\")\n",
    "print(top_filtered_platforms.head(10))"
   ]
  },
  {
   "cell_type": "code",
   "execution_count": 28,
   "metadata": {
    "trusted": true
   },
   "outputs": [
    {
     "name": "stdout",
     "output_type": "stream",
     "text": [
      "Plataformas que están creciendo: ['3DS' 'PC' 'PS3' 'PS4' 'PSP' 'PSV' 'Wii' 'WiiU' 'X360' 'XOne']\n",
      "Plataformas que están declinando: ['3DS' 'DS' 'PC' 'PS2' 'PS3' 'PS4' 'PSP' 'PSV' 'Wii' 'WiiU' 'X360' 'XOne']\n"
     ]
    }
   ],
   "source": [
    "platform_sales_by_year = df_games_filtered.groupby(['platform', 'year_of_release'])['total_sales'].sum().reset_index()\n",
    "platform_sales_by_year['sales_change'] = platform_sales_by_year.groupby('platform')['total_sales'].diff()\n",
    "growing_platforms = platform_sales_by_year[platform_sales_by_year['sales_change'] > 0]['platform'].unique()\n",
    "declining_platforms = platform_sales_by_year[platform_sales_by_year['sales_change'] < 0]['platform'].unique()\n",
    "\n",
    "print(\"Plataformas que están creciendo:\", growing_platforms)\n",
    "print(\"Plataformas que están declinando:\", declining_platforms)"
   ]
  },
  {
   "cell_type": "markdown",
   "metadata": {},
   "source": [
    "Parece que la industria de los videojuegos, es muy cambiante, ya que, se interlapan las plataformas de crecimiento con las plataformas en declina-miento\n",
    "sin embargo no eligiría  como negocios rentables a las plataformas de Nintendo DS y PS2\n",
    "\n",
    "Dentro de las plataformas en crecimiento hay\n",
    "\n",
    "4 Representantes de PlayStation (PS3, PS4, PSP, PSV) \n",
    "\n",
    "3 Representantes de Nintendo (3DS, Wii, WiiU)\n",
    "\n",
    "2 Representantes de Microsoft (X350, XOne)\n",
    "\n",
    "\n",
    "Probablemente sea mas rentable desarrollar videojuegos para Sony"
   ]
  },
  {
   "cell_type": "code",
   "execution_count": 29,
   "metadata": {
    "trusted": true
   },
   "outputs": [
    {
     "data": {
      "image/png": "[encoded data removed]",
      "text/plain": [
       "<Figure size 2000x1600 with 1 Axes>"
      ]
     },
     "metadata": {},
     "output_type": "display_data"
    }
   ],
   "source": [
    "#Crea un diagrama de caja para las ventas globales de todos los juegos, desglosados por plataforma.\n",
    "import seaborn as sns\n",
    "import matplotlib.pyplot as plt\n",
    "\n",
    "plt.figure(figsize=(20, 16))\n",
    "sns.boxplot(x='platform', y='total_sales', data=df_games_filtered)\n",
    "plt.xlabel(\"Platforma\")\n",
    "plt.ylabel(\"Ventas Totales\")\n",
    "plt.title(\"Distribución de las Ventas Totales por Plataforma (2008 a 2016)\")\n",
    "plt.xticks(rotation=45)  \n",
    "\n",
    "plt.show()"
   ]
  },
  {
   "cell_type": "markdown",
   "metadata": {},
   "source": [
    "Al parecer las ventas promedio por plataforma son similares a lo largo de casi todas las plataformas, sin embargo existen demasiados datos atípicos en todas las plataformas, estos posiblemente se deben a una diferencia significativa entre las ventas por región de cada plataforma."
   ]
  },
  {
   "cell_type": "code",
   "execution_count": 30,
   "metadata": {
    "trusted": true
   },
   "outputs": [],
   "source": [
    "# Filtramos para sacar correlacion y grafico de dispercion de la plataforma ps4\n",
    "ps4_games = df_games_filtered[df_games_filtered['platform'] == 'PS4']"
   ]
  },
  {
   "cell_type": "code",
   "execution_count": 31,
   "metadata": {
    "trusted": true
   },
   "outputs": [
    {
     "name": "stdout",
     "output_type": "stream",
     "text": [
      "Correlación entre la Calificación de la crítica y las Ventas totales en PS4 (2008 a 2016): 0.3490095802924567\n"
     ]
    },
    {
     "data": {
      "image/png": "[encoded data removed]",
      "text/plain": [
       "<Figure size 800x600 with 1 Axes>"
      ]
     },
     "metadata": {},
     "output_type": "display_data"
    }
   ],
   "source": [
    "# Crea un gráfico de dispersión y calcula la correlación entre las reseñas y las ventas. \n",
    "\n",
    "import matplotlib.pyplot as plt\n",
    "import numpy as np\n",
    "\n",
    "plt.figure(figsize=(8, 6)) \n",
    "plt.scatter(ps4_games['critic_score'], ps4_games['total_sales'])\n",
    "plt.xlabel(\"Calificación de la crítica\")\n",
    "plt.ylabel(\"Ventas Totales\")\n",
    "plt.title(\"Relación entre la Calificación de la crítica y las Ventas totales en PS4(2008 a 2016)\")\n",
    "\n",
    "# Calcular correlacion\n",
    "correlation = np.corrcoef(ps4_games['critic_score'], ps4_games['total_sales'])[0, 1]\n",
    "print(f\"Correlación entre la Calificación de la crítica y las Ventas totales en PS4 (2008 a 2016): {correlation}\")\n",
    "\n",
    "plt.show()"
   ]
  },
  {
   "cell_type": "markdown",
   "metadata": {},
   "source": [
    "No parece haber una correlación directa ente la calificación de la critica con respecto a las ventas en videojuegos de la plataforma PS4"
   ]
  },
  {
   "cell_type": "code",
   "execution_count": 32,
   "metadata": {
    "trusted": true
   },
   "outputs": [],
   "source": [
    "# Compara las ventas de los mismos juegos en otras plataformas.\n",
    "# Comparacion de la plataforma XBoxOne\n",
    "\n",
    "#Filtramos XBoxOne\n",
    "xone_games = df_games_filtered[df_games_filtered['platform'] == 'XOne']\n",
    "\n"
   ]
  },
  {
   "cell_type": "code",
   "execution_count": 33,
   "metadata": {
    "trusted": true
   },
   "outputs": [
    {
     "name": "stdout",
     "output_type": "stream",
     "text": [
      "Correlación entre la Calificación de la crítica y las Ventas totales en PS4 (2008 a 2016): 0.3716037691612463\n"
     ]
    },
    {
     "data": {
      "image/png": "[encoded data removed]",
      "text/plain": [
       "<Figure size 800x600 with 1 Axes>"
      ]
     },
     "metadata": {},
     "output_type": "display_data"
    }
   ],
   "source": [
    "import matplotlib.pyplot as plt\n",
    "import numpy as np\n",
    "\n",
    "plt.figure(figsize=(8, 6)) \n",
    "plt.scatter(xone_games['critic_score'], xone_games['total_sales'])\n",
    "plt.xlabel(\"Calificación de la crítica\")\n",
    "plt.ylabel(\"Ventas Totales\")\n",
    "plt.title(\"Relación entre la Calificación de la crítica y las Ventas totales en PS4(2008 a 2016)\")\n",
    "\n",
    "# Calcular correlacion\n",
    "correlation = np.corrcoef(xone_games['critic_score'], xone_games['total_sales'])[0, 1]\n",
    "print(f\"Correlación entre la Calificación de la crítica y las Ventas totales en PS4 (2008 a 2016): {correlation}\")\n",
    "\n",
    "plt.show()"
   ]
  },
  {
   "cell_type": "code",
   "execution_count": 34,
   "metadata": {
    "trusted": true
   },
   "outputs": [],
   "source": [
    "# Compara las ventas de los mismos juegos en otras plataformas.\n",
    "# Comparacion de la plataforma Wii\n",
    "\n",
    "#Filtramos XBoxOne\n",
    "wii_games = df_games_filtered[df_games_filtered['platform'] == 'Wii']\n",
    "\n"
   ]
  },
  {
   "cell_type": "code",
   "execution_count": 35,
   "metadata": {
    "trusted": true
   },
   "outputs": [
    {
     "name": "stdout",
     "output_type": "stream",
     "text": [
      "Correlación entre la Calificación de la crítica y las Ventas totales en PS4 (2008 a 2016): 0.15860806858996496\n"
     ]
    },
    {
     "data": {
      "image/png": "[encoded data removed]",
      "text/plain": [
       "<Figure size 800x600 with 1 Axes>"
      ]
     },
     "metadata": {},
     "output_type": "display_data"
    }
   ],
   "source": [
    "import matplotlib.pyplot as plt\n",
    "import numpy as np\n",
    "\n",
    "plt.figure(figsize=(8, 6)) \n",
    "plt.scatter(wii_games['critic_score'], wii_games['total_sales'])\n",
    "plt.xlabel(\"Calificación de la crítica\")\n",
    "plt.ylabel(\"Ventas Totales\")\n",
    "plt.title(\"Relación entre la Calificación de la crítica y las Ventas totales en PS4(2008 a 2016)\")\n",
    "\n",
    "# Calcular correlacion\n",
    "correlation = np.corrcoef(wii_games['critic_score'], wii_games['total_sales'])[0, 1]\n",
    "print(f\"Correlación entre la Calificación de la crítica y las Ventas totales en PS4 (2008 a 2016): {correlation}\")\n",
    "\n",
    "plt.show()"
   ]
  },
  {
   "cell_type": "markdown",
   "metadata": {},
   "source": [
    "### Conclusiones de Correlación\n",
    "\n",
    "No parece haber ningún tipo de correlación directa entre la calificación de la critica  y las ventas totales de los videojuegos en ninguna de las plataformas analizadas (PS4, XBoxOne, Wii).\n",
    "\n",
    "La única plataforma de las analizadas que parece guiarse un poco por la critica es la de XboxOne que tiene una correlación positiva de casi 0.4 pero sinceramente esta lejos de 1 por lo que no cataloga como una correlación positiva, solo me pareció importante mencionar que los jugadores de XBoxOne tal vez tiene una ligera inclinación hacia calificaciones positivas de la critica (aunque no realmente)"
   ]
  },
  {
   "cell_type": "code",
   "execution_count": 36,
   "metadata": {
    "trusted": true
   },
   "outputs": [
    {
     "name": "stdout",
     "output_type": "stream",
     "text": [
      "Action          1988\n",
      "Misc             994\n",
      "Sports           958\n",
      "Adventure        869\n",
      "Role-Playing     783\n",
      "Shooter          583\n",
      "Simulation       459\n",
      "Racing           403\n",
      "Fighting         308\n",
      "Strategy         284\n",
      "Puzzle           257\n",
      "Platform         244\n",
      "Name: genre, dtype: int64\n"
     ]
    }
   ],
   "source": [
    "genre_counts = df_games_filtered['genre'].value_counts()\n",
    "print(genre_counts)"
   ]
  },
  {
   "cell_type": "code",
   "execution_count": 37,
   "metadata": {
    "trusted": true
   },
   "outputs": [
    {
     "data": {
      "image/png": "[encoded data removed]",
      "text/plain": [
       "<Figure size 1000x600 with 1 Axes>"
      ]
     },
     "metadata": {},
     "output_type": "display_data"
    }
   ],
   "source": [
    "import matplotlib.pyplot as plt\n",
    "plt.figure(figsize=(10, 6)) \n",
    "plt.bar(genre_counts.index, genre_counts.values)\n",
    "plt.xlabel(\"Genero\")\n",
    "plt.ylabel(\"Número de Videojuegos\")\n",
    "plt.title(\"Distribución de Videojuegos por Genero\")\n",
    "plt.xticks(rotation=45)\n",
    "  \n",
    "plt.show()"
   ]
  },
  {
   "cell_type": "code",
   "execution_count": 38,
   "metadata": {
    "trusted": true
   },
   "outputs": [
    {
     "name": "stdout",
     "output_type": "stream",
     "text": [
      "Generos mas rentables:\n",
      "genre\n",
      "Action          945.74\n",
      "Shooter         608.19\n",
      "Sports          560.34\n",
      "Role-Playing    421.57\n",
      "Misc            396.43\n",
      "Racing          226.41\n",
      "Platform        195.38\n",
      "Simulation      150.78\n",
      "Fighting        148.51\n",
      "Adventure       105.86\n",
      "Name: total_sales, dtype: float64\n"
     ]
    }
   ],
   "source": [
    "# Calcular los generos con mas ventas totales\n",
    "genre_sales = df_games_filtered.groupby('genre')['total_sales'].sum()\n",
    "top_genres = genre_sales.sort_values(ascending=False)\n",
    "\n",
    "print(\"Generos mas rentables:\")\n",
    "print(top_genres.head(10))"
   ]
  },
  {
   "cell_type": "code",
   "execution_count": 39,
   "metadata": {
    "trusted": true
   },
   "outputs": [
    {
     "data": {
      "image/png": "[encoded data removed]",
      "text/plain": [
       "<Figure size 1000x600 with 1 Axes>"
      ]
     },
     "metadata": {},
     "output_type": "display_data"
    }
   ],
   "source": [
    "import matplotlib.pyplot as plt\n",
    "\n",
    "plt.figure(figsize=(10, 6))  \n",
    "plt.bar(top_genres.index, top_genres.values)\n",
    "plt.xlabel(\"Genero\")\n",
    "plt.ylabel(\"Ventas Totales\")\n",
    "plt.title(\"Generos mas rentables\")\n",
    "plt.xticks(rotation=45)  \n",
    " \n",
    "plt.show()"
   ]
  },
  {
   "cell_type": "markdown",
   "metadata": {},
   "source": [
    "### Conclusiones de la Distribución de géneros\n",
    "\n",
    "Existe una marcada tendencia a la compra de videojuegos de acción ya que es el genero de videojuegos con mayor numero de copias vendidas y con las mayores ganancias.\n",
    "\n",
    "En Segundo lugar hay un dato curioso, ya que el segundo genero de videojuegos con mas ganancias son los shooters aunque los videojuegos del genero misceláneos vende mas cantidades de copias.\n",
    "\n",
    "En tercer lugar los videojuegos mas vendidos y con mas ganacias son los de deportes."
   ]
  },
  {
   "cell_type": "markdown",
   "metadata": {},
   "source": [
    "# Paso 4. Crea un perfil de usuario para cada región"
   ]
  },
  {
   "cell_type": "code",
   "execution_count": 40,
   "metadata": {
    "trusted": true
   },
   "outputs": [
    {
     "name": "stdout",
     "output_type": "stream",
     "text": [
      "Top 5 Platformas en NA_SALES:\n",
      "platform\n",
      "X360    490.69\n",
      "PS3     349.13\n",
      "Wii     332.87\n",
      "DS      198.73\n",
      "PS4     108.74\n",
      "Name: na_sales, dtype: float64\n",
      "Top 5 Platformas en EU_SALES:\n",
      "platform\n",
      "PS3     293.73\n",
      "X360    234.88\n",
      "Wii     170.74\n",
      "PS4     141.09\n",
      "PC       92.17\n",
      "Name: eu_sales, dtype: float64\n",
      "Top 5 Platformas en JP_SALES:\n",
      "platform\n",
      "3DS    100.62\n",
      "DS      76.12\n",
      "PS3     74.11\n",
      "PSP     60.46\n",
      "Wii     47.01\n",
      "Name: jp_sales, dtype: float64\n"
     ]
    }
   ],
   "source": [
    "regions = ['na_sales', 'eu_sales', 'jp_sales']\n",
    "\n",
    "# Top 5 Plataformas\n",
    "for region in regions:\n",
    "    top_platforms = df_games_filtered.groupby('platform')[region].sum().sort_values(ascending=False).head(5)\n",
    "    print(f\"Top 5 Platformas en {region.upper()}:\")\n",
    "    print(top_platforms)\n",
    "    "
   ]
  },
  {
   "cell_type": "code",
   "execution_count": 41,
   "metadata": {
    "trusted": true
   },
   "outputs": [
    {
     "name": "stdout",
     "output_type": "stream",
     "text": [
      "Top 5 Generos en NA_SALES:\n",
      "genre\n",
      "Action          433.74\n",
      "Shooter         311.26\n",
      "Sports          276.27\n",
      "Misc            211.61\n",
      "Role-Playing    155.81\n",
      "Name: na_sales, dtype: float64\n",
      "Top 5 Generos en EU_SALES:\n",
      "genre\n",
      "Action          310.59\n",
      "Shooter         208.35\n",
      "Sports          185.19\n",
      "Misc            107.00\n",
      "Role-Playing     94.46\n",
      "Name: eu_sales, dtype: float64\n",
      "Top 5 Generos en JP_SALES:\n",
      "genre\n",
      "Role-Playing    138.12\n",
      "Action           90.16\n",
      "Misc             37.33\n",
      "Sports           30.69\n",
      "Adventure        23.36\n",
      "Name: jp_sales, dtype: float64\n"
     ]
    }
   ],
   "source": [
    "# Top 5 Generos\n",
    "for region in regions:\n",
    "    top_genres = df_games_filtered.groupby('genre')[region].sum().sort_values(ascending=False).head(5)\n",
    "    print(f\"Top 5 Generos en {region.upper()}:\")\n",
    "    print(top_genres)\n",
    "    "
   ]
  },
  {
   "cell_type": "code",
   "execution_count": 42,
   "metadata": {
    "trusted": true
   },
   "outputs": [
    {
     "name": "stdout",
     "output_type": "stream",
     "text": [
      "Impacto del ESRB Rating en NA_SALES:\n",
      "rating\n",
      "E       536.93\n",
      "M       502.60\n",
      "T       303.41\n",
      "E10+    251.88\n",
      "EC        1.32\n",
      "RP        0.00\n",
      "Name: na_sales, dtype: float64\n",
      "Impacto del ESRB Rating en EU_SALES:\n",
      "rating\n",
      "M       362.65\n",
      "E       326.61\n",
      "T       187.62\n",
      "E10+    144.53\n",
      "RP        0.03\n",
      "EC        0.00\n",
      "Name: eu_sales, dtype: float64\n",
      "Impacto del ESRB Rating en JP_SALES:\n",
      "rating\n",
      "E       77.17\n",
      "T       64.51\n",
      "M       39.33\n",
      "E10+    25.67\n",
      "EC       0.00\n",
      "RP       0.00\n",
      "Name: jp_sales, dtype: float64\n"
     ]
    }
   ],
   "source": [
    "# ESRB Rating Impact\n",
    "for region in regions:\n",
    "    esrb_impact = df_games_filtered.groupby('rating')[region].sum().sort_values(ascending=False)\n",
    "    print(f\"Impacto del ESRB Rating en {region.upper()}:\")\n",
    "    print(esrb_impact)\n",
    "\n",
    "# Fue buena decision no borrar la columna rating estaba duditativo de hacerlo\n",
    "# ya que tambien es un buen metodo de categorizacion de videojuegos\n",
    "# despues de ver q no eran tantos los datos ausentes trabajando solo con datos filtrados 2008 a 2016 decidi dejarla \n"
   ]
  },
  {
   "cell_type": "markdown",
   "metadata": {},
   "source": [
    "# Paso 5. Prueba las siguientes hipótesis:"
   ]
  },
  {
   "cell_type": "markdown",
   "metadata": {},
   "source": [
    "Las calificaciones promedio de los usuarios para las plataformas Xbox One y PC son las mismas.\n"
   ]
  },
  {
   "cell_type": "markdown",
   "metadata": {},
   "source": [
    "Realizar la pueba de hipotesis.\n",
    "\n",
    "\n",
    "H0: No existe diferencia entre las calificaciones promedio de los usarios entre Xbox One y PC.\n",
    "\n",
    "\n",
    "H1: Si existe una diferencia estadisticamente significativa entre las calificaciones promedio de los usarios entre Xbox One y PC."
   ]
  },
  {
   "cell_type": "code",
   "execution_count": 43,
   "metadata": {
    "scrolled": true,
    "trusted": true
   },
   "outputs": [
    {
     "name": "stdout",
     "output_type": "stream",
     "text": [
      "Valor P: 0.9636784546453082\n",
      "No podemos rechazar la hipotesis nula\n"
     ]
    }
   ],
   "source": [
    "# Filtramos por Xbox One and PC\n",
    "xbox_one_games = df_games_filtered[df_games_filtered['platform'] == 'XOne']\n",
    "pc_games = df_games_filtered[df_games_filtered['platform'] == 'PC'] \n",
    "\n",
    "# Codigo de la prueba estadistica \n",
    "from scipy import stats as st\n",
    "import numpy as np\n",
    "\n",
    "\n",
    "sample1 = pd.to_numeric(xbox_one_games['user_score'], errors='coerce').dropna().astype(float)\n",
    "sample2 = pd.to_numeric(pc_games['user_score'], errors='coerce').dropna().astype(float)\n",
    "alpha = 0.05\n",
    "results = st.ttest_ind(sample1,sample2,equal_var=False)\n",
    "print(\"Valor P:\",results.pvalue)\n",
    "\n",
    "if results.pvalue<alpha:\n",
    "    print(\"Rechazamos la hipotesis nula (H0)\")\n",
    "else:\n",
    "    print(\"No podemos rechazar la hipotesis nula\")"
   ]
  },
  {
   "cell_type": "code",
   "execution_count": 44,
   "metadata": {
    "trusted": true
   },
   "outputs": [
    {
     "name": "stdout",
     "output_type": "stream",
     "text": [
      "Float64\n",
      "Float64\n"
     ]
    }
   ],
   "source": [
    "print(xbox_one_games['user_score'].dtype)\n",
    "print(pc_games['user_score'].dtype)"
   ]
  },
  {
   "cell_type": "markdown",
   "metadata": {},
   "source": [
    "Valor P: 0.1971187089738797\n",
    "\n",
    "No podemos rechazar la hipotesis nula"
   ]
  },
  {
   "cell_type": "markdown",
   "metadata": {},
   "source": [
    "Conclusiones \n",
    "\n",
    "No existe diferencia estadisitica significativa  para rechazar la hipotesis nula. Lo que quiere decir que las calificaciones para XboxOne y Pc son por lo menos iguales en casi un 20%"
   ]
  },
  {
   "cell_type": "markdown",
   "metadata": {},
   "source": [
    "Las calificaciones promedio de los usuarios para los géneros de Acción y Deportes son diferentes."
   ]
  },
  {
   "cell_type": "code",
   "execution_count": 45,
   "metadata": {
    "trusted": true
   },
   "outputs": [],
   "source": [
    "# Filttramos dataframe por accion y deportes\n",
    "action_games = df_games_filtered[df_games_filtered['genre'] == 'Action']\n",
    "sports_games = df_games_filtered[df_games_filtered['genre'] == 'Sports']\n",
    "\n"
   ]
  },
  {
   "cell_type": "code",
   "execution_count": 46,
   "metadata": {
    "trusted": true
   },
   "outputs": [
    {
     "name": "stdout",
     "output_type": "stream",
     "text": [
      "Float64\n",
      "Float64\n"
     ]
    }
   ],
   "source": [
    "print(action_games['user_score'].dtype)\n",
    "print(sports_games['user_score'].dtype)"
   ]
  },
  {
   "cell_type": "markdown",
   "metadata": {},
   "source": [
    "Realizar la pueba de hipotesis.\n",
    "\n",
    "H0: No existe diferencia entre las calificaciones promedio de los usarios entre videojuegos de accion y de deportes.\n",
    "\n",
    "H1: Si existe una diferencia estadisticamente significativa entre las calificaciones promedio de los usarios entre videojuegos de accion y deportes."
   ]
  },
  {
   "cell_type": "code",
   "execution_count": 49,
   "metadata": {
    "scrolled": true,
    "trusted": true
   },
   "outputs": [
    {
     "name": "stdout",
     "output_type": "stream",
     "text": [
      "Valor P: 1.0634467286363435e-23\n",
      "Rechazamos la hipotesis nula (H0)\n"
     ]
    }
   ],
   "source": [
    "from scipy import stats as st\n",
    "import numpy as np\n",
    "sample1 =  pd.to_numeric(action_games['user_score'], errors='coerce').dropna().astype(float)\n",
    "sample2 = pd.to_numeric(sports_games['user_score'], errors='coerce').dropna().astype(float)\n",
    "alpha = 0.05\n",
    "results = st.ttest_ind(sample1,sample2,equal_var=False)\n",
    "print(\"Valor P:\",results.pvalue)\n",
    "\n",
    "if results.pvalue<alpha:\n",
    "    print(\"Rechazamos la hipotesis nula (H0)\")\n",
    "else:\n",
    "    print(\"No podemos rechazar la hipotesis nula\")"
   ]
  },
  {
   "cell_type": "markdown",
   "metadata": {},
   "source": [
    "Coclusiones \n",
    "\n",
    "Si existe una diferencia estadisticamente significativa entre las calificaciones promedio de los usarios entre videojuegos de accion y deportes."
   ]
  }
 ],
 "metadata": {
  "ExecuteTimeLog": [
   {
    "duration": 390,
    "start_time": "2025-03-26T18:30:05.106Z"
   },
   {
    "duration": 51,
    "start_time": "2025-03-26T18:32:57.684Z"
   },
   {
    "duration": 36,
    "start_time": "2025-03-26T18:34:43.642Z"
   },
   {
    "duration": 41,
    "start_time": "2025-03-26T18:35:08.408Z"
   },
   {
    "duration": 173,
    "start_time": "2025-03-26T18:44:12.393Z"
   },
   {
    "duration": 3,
    "start_time": "2025-03-26T18:44:56.199Z"
   },
   {
    "duration": 20,
    "start_time": "2025-03-26T18:45:08.841Z"
   },
   {
    "duration": 4,
    "start_time": "2025-03-26T18:45:27.433Z"
   },
   {
    "duration": 16,
    "start_time": "2025-03-26T18:45:47.772Z"
   },
   {
    "duration": 500,
    "start_time": "2025-03-26T18:49:03.088Z"
   },
   {
    "duration": 20,
    "start_time": "2025-03-26T18:52:51.469Z"
   },
   {
    "duration": 5,
    "start_time": "2025-03-26T18:53:38.443Z"
   },
   {
    "duration": 14,
    "start_time": "2025-03-26T18:55:12.653Z"
   },
   {
    "duration": 13,
    "start_time": "2025-03-26T18:56:02.763Z"
   },
   {
    "duration": 12,
    "start_time": "2025-03-26T18:57:15.155Z"
   },
   {
    "duration": 7,
    "start_time": "2025-03-26T18:58:21.754Z"
   },
   {
    "duration": 7,
    "start_time": "2025-03-26T18:59:20.381Z"
   },
   {
    "duration": 11,
    "start_time": "2025-03-26T19:02:05.596Z"
   },
   {
    "duration": 13,
    "start_time": "2025-03-26T19:07:37.971Z"
   },
   {
    "duration": 15,
    "start_time": "2025-03-26T19:07:55.853Z"
   },
   {
    "duration": 17,
    "start_time": "2025-03-26T19:08:02.329Z"
   },
   {
    "duration": 125,
    "start_time": "2025-03-26T19:16:13.242Z"
   },
   {
    "duration": 77,
    "start_time": "2025-03-26T19:16:37.946Z"
   },
   {
    "duration": 6,
    "start_time": "2025-03-26T19:17:29.888Z"
   },
   {
    "duration": 6,
    "start_time": "2025-03-26T19:17:34.500Z"
   },
   {
    "duration": 6,
    "start_time": "2025-03-26T19:17:55.735Z"
   },
   {
    "duration": 15,
    "start_time": "2025-03-26T19:18:13.457Z"
   },
   {
    "duration": 32,
    "start_time": "2025-03-26T19:18:44.573Z"
   },
   {
    "duration": 422,
    "start_time": "2025-03-26T19:36:54.114Z"
   },
   {
    "duration": 20,
    "start_time": "2025-03-26T19:36:54.538Z"
   },
   {
    "duration": 7,
    "start_time": "2025-03-26T19:36:54.570Z"
   },
   {
    "duration": 11,
    "start_time": "2025-03-26T19:36:54.579Z"
   },
   {
    "duration": 6,
    "start_time": "2025-03-26T19:36:54.594Z"
   },
   {
    "duration": 0,
    "start_time": "2025-03-26T19:36:54.603Z"
   },
   {
    "duration": 0,
    "start_time": "2025-03-26T19:36:54.609Z"
   },
   {
    "duration": 0,
    "start_time": "2025-03-26T19:36:54.610Z"
   },
   {
    "duration": 401,
    "start_time": "2025-03-26T19:37:15.457Z"
   },
   {
    "duration": 29,
    "start_time": "2025-03-26T19:37:15.860Z"
   },
   {
    "duration": 7,
    "start_time": "2025-03-26T19:37:15.891Z"
   },
   {
    "duration": 10,
    "start_time": "2025-03-26T19:37:15.900Z"
   },
   {
    "duration": 29,
    "start_time": "2025-03-26T19:37:15.912Z"
   },
   {
    "duration": 40,
    "start_time": "2025-03-26T19:37:15.943Z"
   },
   {
    "duration": 10,
    "start_time": "2025-03-26T19:37:15.985Z"
   },
   {
    "duration": 16,
    "start_time": "2025-03-26T19:39:04.376Z"
   },
   {
    "duration": 9,
    "start_time": "2025-03-26T19:39:16.168Z"
   },
   {
    "duration": 9,
    "start_time": "2025-03-26T19:44:36.514Z"
   },
   {
    "duration": 29,
    "start_time": "2025-03-26T19:48:31.740Z"
   },
   {
    "duration": 736,
    "start_time": "2025-03-26T19:49:51.648Z"
   },
   {
    "duration": 19,
    "start_time": "2025-03-26T19:51:01.663Z"
   },
   {
    "duration": 58,
    "start_time": "2025-03-26T19:51:08.686Z"
   },
   {
    "duration": 32,
    "start_time": "2025-03-26T19:51:25.007Z"
   },
   {
    "duration": 7,
    "start_time": "2025-03-26T19:52:55.069Z"
   },
   {
    "duration": 7,
    "start_time": "2025-03-26T19:53:21.006Z"
   },
   {
    "duration": 866,
    "start_time": "2025-03-26T19:54:55.190Z"
   },
   {
    "duration": 125,
    "start_time": "2025-03-26T19:55:44.299Z"
   },
   {
    "duration": 9,
    "start_time": "2025-03-26T19:56:47.709Z"
   },
   {
    "duration": 5,
    "start_time": "2025-03-26T19:56:50.335Z"
   },
   {
    "duration": 12,
    "start_time": "2025-03-26T19:57:08.007Z"
   },
   {
    "duration": 13,
    "start_time": "2025-03-26T19:57:20.130Z"
   },
   {
    "duration": 12,
    "start_time": "2025-03-26T19:59:49.458Z"
   },
   {
    "duration": 6,
    "start_time": "2025-03-26T20:02:30.752Z"
   },
   {
    "duration": 7,
    "start_time": "2025-03-26T20:02:39.930Z"
   },
   {
    "duration": 8,
    "start_time": "2025-03-26T20:03:14.382Z"
   },
   {
    "duration": 5,
    "start_time": "2025-03-26T20:06:43.382Z"
   },
   {
    "duration": 11,
    "start_time": "2025-03-26T20:06:56.495Z"
   },
   {
    "duration": 4,
    "start_time": "2025-03-26T20:07:04.751Z"
   },
   {
    "duration": 13,
    "start_time": "2025-03-26T20:07:06.750Z"
   },
   {
    "duration": 16,
    "start_time": "2025-03-26T20:13:34.191Z"
   },
   {
    "duration": 9,
    "start_time": "2025-03-26T20:13:40.018Z"
   },
   {
    "duration": 164,
    "start_time": "2025-03-26T22:02:48.838Z"
   },
   {
    "duration": 12,
    "start_time": "2025-03-26T22:02:55.718Z"
   },
   {
    "duration": 341,
    "start_time": "2025-03-26T22:03:03.895Z"
   },
   {
    "duration": 16,
    "start_time": "2025-03-26T22:03:04.239Z"
   },
   {
    "duration": 6,
    "start_time": "2025-03-26T22:03:04.257Z"
   },
   {
    "duration": 10,
    "start_time": "2025-03-26T22:03:04.264Z"
   },
   {
    "duration": 54,
    "start_time": "2025-03-26T22:03:04.276Z"
   },
   {
    "duration": 13,
    "start_time": "2025-03-26T22:03:04.331Z"
   },
   {
    "duration": 9,
    "start_time": "2025-03-26T22:03:04.346Z"
   },
   {
    "duration": 6,
    "start_time": "2025-03-26T22:03:04.357Z"
   },
   {
    "duration": 7,
    "start_time": "2025-03-26T22:03:04.364Z"
   },
   {
    "duration": 5,
    "start_time": "2025-03-26T22:03:04.373Z"
   },
   {
    "duration": 46,
    "start_time": "2025-03-26T22:03:04.379Z"
   },
   {
    "duration": 7,
    "start_time": "2025-03-26T22:03:04.427Z"
   },
   {
    "duration": 8,
    "start_time": "2025-03-26T22:03:04.435Z"
   },
   {
    "duration": 5,
    "start_time": "2025-03-26T22:03:04.447Z"
   },
   {
    "duration": 6,
    "start_time": "2025-03-26T22:03:04.454Z"
   },
   {
    "duration": 5,
    "start_time": "2025-03-26T22:03:04.461Z"
   },
   {
    "duration": 51,
    "start_time": "2025-03-26T22:03:04.467Z"
   },
   {
    "duration": 583,
    "start_time": "2025-03-26T22:03:04.519Z"
   },
   {
    "duration": 2,
    "start_time": "2025-03-26T22:03:22.623Z"
   },
   {
    "duration": 3,
    "start_time": "2025-03-26T22:04:51.304Z"
   },
   {
    "duration": 15,
    "start_time": "2025-03-26T22:05:26.968Z"
   },
   {
    "duration": 12,
    "start_time": "2025-03-26T22:06:38.429Z"
   },
   {
    "duration": 10,
    "start_time": "2025-03-26T22:43:16.244Z"
   },
   {
    "duration": 17,
    "start_time": "2025-03-26T22:43:32.841Z"
   },
   {
    "duration": 17,
    "start_time": "2025-03-26T22:44:03.921Z"
   },
   {
    "duration": 18,
    "start_time": "2025-03-26T22:44:07.550Z"
   },
   {
    "duration": 17,
    "start_time": "2025-03-26T22:44:22.886Z"
   },
   {
    "duration": 23,
    "start_time": "2025-03-26T22:44:26.141Z"
   },
   {
    "duration": 7,
    "start_time": "2025-03-26T22:47:23.251Z"
   },
   {
    "duration": 41,
    "start_time": "2025-03-26T22:51:52.110Z"
   },
   {
    "duration": 39,
    "start_time": "2025-03-26T22:51:59.781Z"
   },
   {
    "duration": 51,
    "start_time": "2025-03-26T22:52:13.342Z"
   },
   {
    "duration": 11,
    "start_time": "2025-03-26T22:52:18.856Z"
   },
   {
    "duration": 11,
    "start_time": "2025-03-26T22:55:05.749Z"
   },
   {
    "duration": 13,
    "start_time": "2025-03-26T22:56:41.574Z"
   },
   {
    "duration": 6,
    "start_time": "2025-03-26T22:57:38.504Z"
   },
   {
    "duration": 7,
    "start_time": "2025-03-26T22:57:42.102Z"
   },
   {
    "duration": 5,
    "start_time": "2025-03-26T22:58:06.960Z"
   },
   {
    "duration": 8,
    "start_time": "2025-03-26T22:58:12.511Z"
   },
   {
    "duration": 45,
    "start_time": "2025-03-26T23:04:08.995Z"
   },
   {
    "duration": 4232,
    "start_time": "2025-03-26T23:06:02.485Z"
   },
   {
    "duration": 698,
    "start_time": "2025-03-26T23:06:48.115Z"
   },
   {
    "duration": 5,
    "start_time": "2025-03-26T23:14:15.181Z"
   },
   {
    "duration": 8,
    "start_time": "2025-03-26T23:14:30.054Z"
   },
   {
    "duration": 904,
    "start_time": "2025-03-26T23:15:41.715Z"
   },
   {
    "duration": 1232,
    "start_time": "2025-03-26T23:16:18.458Z"
   },
   {
    "duration": 10,
    "start_time": "2025-03-26T23:16:41.182Z"
   },
   {
    "duration": 845,
    "start_time": "2025-03-26T23:17:13.484Z"
   },
   {
    "duration": 8,
    "start_time": "2025-03-26T23:20:07.281Z"
   },
   {
    "duration": 29,
    "start_time": "2025-03-26T23:23:24.101Z"
   },
   {
    "duration": 19,
    "start_time": "2025-03-26T23:23:28.483Z"
   },
   {
    "duration": 15,
    "start_time": "2025-03-26T23:23:31.774Z"
   },
   {
    "duration": 4,
    "start_time": "2025-03-26T23:23:41.742Z"
   },
   {
    "duration": 8,
    "start_time": "2025-03-26T23:24:09.798Z"
   },
   {
    "duration": 676,
    "start_time": "2025-03-26T23:28:56.094Z"
   },
   {
    "duration": 11,
    "start_time": "2025-03-26T23:33:49.180Z"
   },
   {
    "duration": 29,
    "start_time": "2025-03-26T23:35:26.806Z"
   },
   {
    "duration": 10,
    "start_time": "2025-03-26T23:36:02.165Z"
   },
   {
    "duration": 7,
    "start_time": "2025-03-26T23:36:05.832Z"
   },
   {
    "duration": 7,
    "start_time": "2025-03-26T23:36:14.172Z"
   },
   {
    "duration": 7,
    "start_time": "2025-03-26T23:37:16.808Z"
   },
   {
    "duration": 9,
    "start_time": "2025-03-26T23:37:25.997Z"
   },
   {
    "duration": 512,
    "start_time": "2025-03-26T23:39:09.330Z"
   },
   {
    "duration": 6,
    "start_time": "2025-03-26T23:40:54.344Z"
   },
   {
    "duration": 9,
    "start_time": "2025-03-26T23:50:02.425Z"
   },
   {
    "duration": 14,
    "start_time": "2025-03-26T23:59:18.105Z"
   },
   {
    "duration": 5,
    "start_time": "2025-03-27T00:00:44.866Z"
   },
   {
    "duration": 3,
    "start_time": "2025-03-27T00:00:58.892Z"
   },
   {
    "duration": 3,
    "start_time": "2025-03-27T00:01:02.177Z"
   },
   {
    "duration": 5,
    "start_time": "2025-03-27T00:01:07.405Z"
   },
   {
    "duration": 4,
    "start_time": "2025-03-27T00:02:11.328Z"
   },
   {
    "duration": 16,
    "start_time": "2025-03-27T00:03:07.107Z"
   },
   {
    "duration": 15,
    "start_time": "2025-03-27T00:03:39.259Z"
   },
   {
    "duration": 16,
    "start_time": "2025-03-27T00:04:17.943Z"
   },
   {
    "duration": 15,
    "start_time": "2025-03-27T00:05:51.128Z"
   },
   {
    "duration": 16,
    "start_time": "2025-03-27T00:10:50.715Z"
   },
   {
    "duration": 4,
    "start_time": "2025-03-27T00:18:02.225Z"
   },
   {
    "duration": 4,
    "start_time": "2025-03-27T00:18:18.876Z"
   },
   {
    "duration": 5,
    "start_time": "2025-03-27T00:18:33.499Z"
   },
   {
    "duration": 6,
    "start_time": "2025-03-27T00:20:05.135Z"
   },
   {
    "duration": 7,
    "start_time": "2025-03-27T00:20:11.284Z"
   },
   {
    "duration": 294,
    "start_time": "2025-03-27T00:26:10.190Z"
   },
   {
    "duration": 16,
    "start_time": "2025-03-27T00:26:46.470Z"
   },
   {
    "duration": 16,
    "start_time": "2025-03-27T00:27:33.140Z"
   },
   {
    "duration": 13,
    "start_time": "2025-03-27T00:29:19.022Z"
   },
   {
    "duration": 50,
    "start_time": "2025-03-27T00:32:01.571Z"
   },
   {
    "duration": 697,
    "start_time": "2025-03-27T00:32:30.418Z"
   },
   {
    "duration": 5,
    "start_time": "2025-03-27T00:34:42.575Z"
   },
   {
    "duration": 751,
    "start_time": "2025-03-27T00:34:48.575Z"
   },
   {
    "duration": 346,
    "start_time": "2025-03-27T00:35:09.100Z"
   },
   {
    "duration": 407,
    "start_time": "2025-03-27T00:35:22.970Z"
   },
   {
    "duration": 278,
    "start_time": "2025-03-27T00:39:34.159Z"
   },
   {
    "duration": 660,
    "start_time": "2025-03-27T00:39:49.212Z"
   },
   {
    "duration": 473,
    "start_time": "2025-03-27T00:40:20.832Z"
   },
   {
    "duration": 210,
    "start_time": "2025-03-27T00:58:24.685Z"
   },
   {
    "duration": 5,
    "start_time": "2025-03-27T01:02:08.178Z"
   },
   {
    "duration": 135,
    "start_time": "2025-03-27T01:03:06.374Z"
   },
   {
    "duration": 134,
    "start_time": "2025-03-27T01:03:33.280Z"
   },
   {
    "duration": 133,
    "start_time": "2025-03-27T01:14:08.899Z"
   },
   {
    "duration": 114,
    "start_time": "2025-03-27T01:20:13.390Z"
   },
   {
    "duration": 4,
    "start_time": "2025-03-27T01:21:15.325Z"
   },
   {
    "duration": 3,
    "start_time": "2025-03-27T01:21:20.734Z"
   },
   {
    "duration": 271,
    "start_time": "2025-03-27T01:21:23.525Z"
   },
   {
    "duration": 343,
    "start_time": "2025-03-27T01:21:51.663Z"
   },
   {
    "duration": 16,
    "start_time": "2025-03-27T01:21:52.008Z"
   },
   {
    "duration": 9,
    "start_time": "2025-03-27T01:21:52.026Z"
   },
   {
    "duration": 23,
    "start_time": "2025-03-27T01:21:52.036Z"
   },
   {
    "duration": 13,
    "start_time": "2025-03-27T01:21:52.061Z"
   },
   {
    "duration": 38,
    "start_time": "2025-03-27T01:21:52.075Z"
   },
   {
    "duration": 6,
    "start_time": "2025-03-27T01:21:52.114Z"
   },
   {
    "duration": 7,
    "start_time": "2025-03-27T01:21:52.123Z"
   },
   {
    "duration": 4,
    "start_time": "2025-03-27T01:21:52.132Z"
   },
   {
    "duration": 15,
    "start_time": "2025-03-27T01:21:52.137Z"
   },
   {
    "duration": 5,
    "start_time": "2025-03-27T01:21:52.154Z"
   },
   {
    "duration": 8,
    "start_time": "2025-03-27T01:21:52.161Z"
   },
   {
    "duration": 44,
    "start_time": "2025-03-27T01:21:52.171Z"
   },
   {
    "duration": 6,
    "start_time": "2025-03-27T01:21:52.219Z"
   },
   {
    "duration": 4,
    "start_time": "2025-03-27T01:21:52.226Z"
   },
   {
    "duration": 8,
    "start_time": "2025-03-27T01:21:52.232Z"
   },
   {
    "duration": 11,
    "start_time": "2025-03-27T01:21:52.242Z"
   },
   {
    "duration": 12,
    "start_time": "2025-03-27T01:21:52.255Z"
   },
   {
    "duration": 53,
    "start_time": "2025-03-27T01:21:52.269Z"
   },
   {
    "duration": 7,
    "start_time": "2025-03-27T01:21:52.324Z"
   },
   {
    "duration": 670,
    "start_time": "2025-03-27T01:21:52.332Z"
   },
   {
    "duration": 7,
    "start_time": "2025-03-27T01:21:53.012Z"
   },
   {
    "duration": 10,
    "start_time": "2025-03-27T01:21:53.021Z"
   },
   {
    "duration": 14,
    "start_time": "2025-03-27T01:21:53.032Z"
   },
   {
    "duration": 2,
    "start_time": "2025-03-27T01:21:53.048Z"
   },
   {
    "duration": 3,
    "start_time": "2025-03-27T01:21:53.052Z"
   },
   {
    "duration": 5,
    "start_time": "2025-03-27T01:21:53.056Z"
   },
   {
    "duration": 50,
    "start_time": "2025-03-27T01:21:53.063Z"
   },
   {
    "duration": 822,
    "start_time": "2025-03-27T01:21:53.114Z"
   },
   {
    "duration": 4,
    "start_time": "2025-03-27T01:21:53.938Z"
   },
   {
    "duration": 131,
    "start_time": "2025-03-27T01:21:53.944Z"
   },
   {
    "duration": 3,
    "start_time": "2025-03-27T01:21:54.077Z"
   },
   {
    "duration": 123,
    "start_time": "2025-03-27T01:21:54.081Z"
   },
   {
    "duration": 258,
    "start_time": "2025-03-27T01:23:52.919Z"
   },
   {
    "duration": 3,
    "start_time": "2025-03-27T01:24:01.582Z"
   },
   {
    "duration": 135,
    "start_time": "2025-03-27T01:24:03.821Z"
   },
   {
    "duration": 19,
    "start_time": "2025-03-27T01:25:20.687Z"
   },
   {
    "duration": 4,
    "start_time": "2025-03-27T01:25:25.834Z"
   },
   {
    "duration": 227,
    "start_time": "2025-03-27T01:25:28.674Z"
   },
   {
    "duration": 11,
    "start_time": "2025-03-27T01:26:57.241Z"
   },
   {
    "duration": 161,
    "start_time": "2025-03-27T01:27:51.286Z"
   },
   {
    "duration": 153,
    "start_time": "2025-03-27T01:29:26.653Z"
   },
   {
    "duration": 348,
    "start_time": "2025-03-27T01:30:16.417Z"
   },
   {
    "duration": 16,
    "start_time": "2025-03-27T01:30:16.768Z"
   },
   {
    "duration": 9,
    "start_time": "2025-03-27T01:30:16.786Z"
   },
   {
    "duration": 38,
    "start_time": "2025-03-27T01:30:16.796Z"
   },
   {
    "duration": 13,
    "start_time": "2025-03-27T01:30:16.837Z"
   },
   {
    "duration": 10,
    "start_time": "2025-03-27T01:30:16.851Z"
   },
   {
    "duration": 6,
    "start_time": "2025-03-27T01:30:16.862Z"
   },
   {
    "duration": 7,
    "start_time": "2025-03-27T01:30:16.869Z"
   },
   {
    "duration": 35,
    "start_time": "2025-03-27T01:30:16.878Z"
   },
   {
    "duration": 15,
    "start_time": "2025-03-27T01:30:16.914Z"
   },
   {
    "duration": 6,
    "start_time": "2025-03-27T01:30:16.930Z"
   },
   {
    "duration": 9,
    "start_time": "2025-03-27T01:30:16.937Z"
   },
   {
    "duration": 5,
    "start_time": "2025-03-27T01:30:16.948Z"
   },
   {
    "duration": 6,
    "start_time": "2025-03-27T01:30:16.956Z"
   },
   {
    "duration": 4,
    "start_time": "2025-03-27T01:30:16.963Z"
   },
   {
    "duration": 49,
    "start_time": "2025-03-27T01:30:16.968Z"
   },
   {
    "duration": 10,
    "start_time": "2025-03-27T01:30:17.019Z"
   },
   {
    "duration": 11,
    "start_time": "2025-03-27T01:30:17.031Z"
   },
   {
    "duration": 17,
    "start_time": "2025-03-27T01:30:17.043Z"
   },
   {
    "duration": 6,
    "start_time": "2025-03-27T01:30:17.061Z"
   },
   {
    "duration": 750,
    "start_time": "2025-03-27T01:30:17.069Z"
   },
   {
    "duration": 8,
    "start_time": "2025-03-27T01:30:17.821Z"
   },
   {
    "duration": 9,
    "start_time": "2025-03-27T01:30:17.830Z"
   },
   {
    "duration": 14,
    "start_time": "2025-03-27T01:30:17.841Z"
   },
   {
    "duration": 3,
    "start_time": "2025-03-27T01:30:17.857Z"
   },
   {
    "duration": 3,
    "start_time": "2025-03-27T01:30:17.861Z"
   },
   {
    "duration": 5,
    "start_time": "2025-03-27T01:30:17.867Z"
   },
   {
    "duration": 49,
    "start_time": "2025-03-27T01:30:17.873Z"
   },
   {
    "duration": 804,
    "start_time": "2025-03-27T01:30:17.924Z"
   },
   {
    "duration": 4,
    "start_time": "2025-03-27T01:30:18.731Z"
   },
   {
    "duration": 132,
    "start_time": "2025-03-27T01:30:18.737Z"
   },
   {
    "duration": 4,
    "start_time": "2025-03-27T01:30:18.870Z"
   },
   {
    "duration": 148,
    "start_time": "2025-03-27T01:30:18.876Z"
   },
   {
    "duration": 3,
    "start_time": "2025-03-27T01:30:19.026Z"
   },
   {
    "duration": 143,
    "start_time": "2025-03-27T01:30:19.031Z"
   },
   {
    "duration": 5,
    "start_time": "2025-03-27T01:30:19.176Z"
   },
   {
    "duration": 166,
    "start_time": "2025-03-27T01:30:19.182Z"
   },
   {
    "duration": 153,
    "start_time": "2025-03-27T01:38:15.229Z"
   },
   {
    "duration": 177,
    "start_time": "2025-03-27T01:38:19.066Z"
   },
   {
    "duration": 6,
    "start_time": "2025-03-27T01:58:40.712Z"
   },
   {
    "duration": 145,
    "start_time": "2025-03-27T02:01:33.192Z"
   },
   {
    "duration": 172,
    "start_time": "2025-03-27T02:01:54.661Z"
   },
   {
    "duration": 325,
    "start_time": "2025-03-27T02:08:22.174Z"
   },
   {
    "duration": 19,
    "start_time": "2025-03-27T02:08:22.501Z"
   },
   {
    "duration": 9,
    "start_time": "2025-03-27T02:08:22.522Z"
   },
   {
    "duration": 21,
    "start_time": "2025-03-27T02:08:22.532Z"
   },
   {
    "duration": 13,
    "start_time": "2025-03-27T02:08:22.554Z"
   },
   {
    "duration": 9,
    "start_time": "2025-03-27T02:08:22.569Z"
   },
   {
    "duration": 36,
    "start_time": "2025-03-27T02:08:22.580Z"
   },
   {
    "duration": 6,
    "start_time": "2025-03-27T02:08:22.618Z"
   },
   {
    "duration": 6,
    "start_time": "2025-03-27T02:08:22.626Z"
   },
   {
    "duration": 14,
    "start_time": "2025-03-27T02:08:22.636Z"
   },
   {
    "duration": 5,
    "start_time": "2025-03-27T02:08:22.652Z"
   },
   {
    "duration": 8,
    "start_time": "2025-03-27T02:08:22.658Z"
   },
   {
    "duration": 44,
    "start_time": "2025-03-27T02:08:22.668Z"
   },
   {
    "duration": 6,
    "start_time": "2025-03-27T02:08:22.714Z"
   },
   {
    "duration": 3,
    "start_time": "2025-03-27T02:08:22.722Z"
   },
   {
    "duration": 12,
    "start_time": "2025-03-27T02:08:22.727Z"
   },
   {
    "duration": 15,
    "start_time": "2025-03-27T02:08:22.740Z"
   },
   {
    "duration": 17,
    "start_time": "2025-03-27T02:08:22.758Z"
   },
   {
    "duration": 45,
    "start_time": "2025-03-27T02:08:22.778Z"
   },
   {
    "duration": 7,
    "start_time": "2025-03-27T02:08:22.825Z"
   },
   {
    "duration": 706,
    "start_time": "2025-03-27T02:08:22.834Z"
   },
   {
    "duration": 8,
    "start_time": "2025-03-27T02:08:23.542Z"
   },
   {
    "duration": 10,
    "start_time": "2025-03-27T02:08:23.551Z"
   },
   {
    "duration": 14,
    "start_time": "2025-03-27T02:08:23.562Z"
   },
   {
    "duration": 2,
    "start_time": "2025-03-27T02:08:23.578Z"
   },
   {
    "duration": 31,
    "start_time": "2025-03-27T02:08:23.582Z"
   },
   {
    "duration": 6,
    "start_time": "2025-03-27T02:08:23.615Z"
   },
   {
    "duration": 11,
    "start_time": "2025-03-27T02:08:23.624Z"
   },
   {
    "duration": 788,
    "start_time": "2025-03-27T02:08:23.636Z"
   },
   {
    "duration": 4,
    "start_time": "2025-03-27T02:08:24.426Z"
   },
   {
    "duration": 135,
    "start_time": "2025-03-27T02:08:24.432Z"
   },
   {
    "duration": 4,
    "start_time": "2025-03-27T02:08:24.568Z"
   },
   {
    "duration": 160,
    "start_time": "2025-03-27T02:08:24.574Z"
   },
   {
    "duration": 4,
    "start_time": "2025-03-27T02:08:24.736Z"
   },
   {
    "duration": 141,
    "start_time": "2025-03-27T02:08:24.742Z"
   },
   {
    "duration": 5,
    "start_time": "2025-03-27T02:08:24.884Z"
   },
   {
    "duration": 167,
    "start_time": "2025-03-27T02:08:24.891Z"
   },
   {
    "duration": 6,
    "start_time": "2025-03-27T02:08:25.060Z"
   },
   {
    "duration": 167,
    "start_time": "2025-03-27T02:08:25.068Z"
   },
   {
    "duration": 4,
    "start_time": "2025-03-27T02:15:28.922Z"
   },
   {
    "duration": 10,
    "start_time": "2025-03-27T02:15:59.429Z"
   },
   {
    "duration": 10,
    "start_time": "2025-03-27T02:16:27.248Z"
   },
   {
    "duration": 10,
    "start_time": "2025-03-27T02:18:18.399Z"
   },
   {
    "duration": 11,
    "start_time": "2025-03-27T02:18:53.094Z"
   },
   {
    "duration": 8,
    "start_time": "2025-03-27T02:50:52.019Z"
   },
   {
    "duration": 561,
    "start_time": "2025-03-27T02:54:39.801Z"
   },
   {
    "duration": 6,
    "start_time": "2025-03-27T02:56:03.599Z"
   },
   {
    "duration": 60,
    "start_time": "2025-03-27T02:56:06.552Z"
   },
   {
    "duration": 16,
    "start_time": "2025-03-27T02:58:09.582Z"
   },
   {
    "duration": 411,
    "start_time": "2025-03-27T02:58:17.627Z"
   },
   {
    "duration": 28,
    "start_time": "2025-03-27T02:58:18.044Z"
   },
   {
    "duration": 11,
    "start_time": "2025-03-27T02:58:18.078Z"
   },
   {
    "duration": 31,
    "start_time": "2025-03-27T02:58:18.091Z"
   },
   {
    "duration": 17,
    "start_time": "2025-03-27T02:58:18.125Z"
   },
   {
    "duration": 12,
    "start_time": "2025-03-27T02:58:18.144Z"
   },
   {
    "duration": 7,
    "start_time": "2025-03-27T02:58:18.158Z"
   },
   {
    "duration": 8,
    "start_time": "2025-03-27T02:58:18.166Z"
   },
   {
    "duration": 37,
    "start_time": "2025-03-27T02:58:18.176Z"
   },
   {
    "duration": 19,
    "start_time": "2025-03-27T02:58:18.215Z"
   },
   {
    "duration": 6,
    "start_time": "2025-03-27T02:58:18.235Z"
   },
   {
    "duration": 9,
    "start_time": "2025-03-27T02:58:18.243Z"
   },
   {
    "duration": 6,
    "start_time": "2025-03-27T02:58:18.254Z"
   },
   {
    "duration": 7,
    "start_time": "2025-03-27T02:58:18.264Z"
   },
   {
    "duration": 40,
    "start_time": "2025-03-27T02:58:18.273Z"
   },
   {
    "duration": 10,
    "start_time": "2025-03-27T02:58:18.315Z"
   },
   {
    "duration": 14,
    "start_time": "2025-03-27T02:58:18.326Z"
   },
   {
    "duration": 13,
    "start_time": "2025-03-27T02:58:18.341Z"
   },
   {
    "duration": 20,
    "start_time": "2025-03-27T02:58:18.355Z"
   },
   {
    "duration": 11,
    "start_time": "2025-03-27T02:58:18.412Z"
   },
   {
    "duration": 977,
    "start_time": "2025-03-27T02:58:18.425Z"
   },
   {
    "duration": 15,
    "start_time": "2025-03-27T02:58:19.407Z"
   },
   {
    "duration": 15,
    "start_time": "2025-03-27T02:58:19.426Z"
   },
   {
    "duration": 24,
    "start_time": "2025-03-27T02:58:19.443Z"
   },
   {
    "duration": 6,
    "start_time": "2025-03-27T02:58:19.469Z"
   },
   {
    "duration": 3,
    "start_time": "2025-03-27T02:58:19.481Z"
   },
   {
    "duration": 6,
    "start_time": "2025-03-27T02:58:19.487Z"
   },
   {
    "duration": 22,
    "start_time": "2025-03-27T02:58:19.495Z"
   },
   {
    "duration": 1077,
    "start_time": "2025-03-27T02:58:19.520Z"
   },
   {
    "duration": 4,
    "start_time": "2025-03-27T02:58:20.598Z"
   },
   {
    "duration": 173,
    "start_time": "2025-03-27T02:58:20.605Z"
   },
   {
    "duration": 4,
    "start_time": "2025-03-27T02:58:20.780Z"
   },
   {
    "duration": 176,
    "start_time": "2025-03-27T02:58:20.786Z"
   },
   {
    "duration": 5,
    "start_time": "2025-03-27T02:58:20.964Z"
   },
   {
    "duration": 200,
    "start_time": "2025-03-27T02:58:20.970Z"
   },
   {
    "duration": 6,
    "start_time": "2025-03-27T02:58:21.174Z"
   },
   {
    "duration": 211,
    "start_time": "2025-03-27T02:58:21.182Z"
   },
   {
    "duration": 18,
    "start_time": "2025-03-27T02:58:21.395Z"
   },
   {
    "duration": 195,
    "start_time": "2025-03-27T02:58:21.415Z"
   },
   {
    "duration": 11,
    "start_time": "2025-03-27T02:58:21.612Z"
   },
   {
    "duration": 10,
    "start_time": "2025-03-27T02:58:21.628Z"
   },
   {
    "duration": 10,
    "start_time": "2025-03-27T02:58:21.640Z"
   },
   {
    "duration": 5,
    "start_time": "2025-03-27T02:58:21.652Z"
   },
   {
    "duration": 819,
    "start_time": "2025-03-27T02:58:21.659Z"
   },
   {
    "duration": 0,
    "start_time": "2025-03-27T02:58:22.481Z"
   },
   {
    "duration": 5,
    "start_time": "2025-03-27T03:04:16.135Z"
   },
   {
    "duration": 238,
    "start_time": "2025-03-27T03:04:37.368Z"
   },
   {
    "duration": 30,
    "start_time": "2025-03-27T03:06:19.179Z"
   },
   {
    "duration": 13,
    "start_time": "2025-03-27T03:06:31.195Z"
   },
   {
    "duration": 12,
    "start_time": "2025-03-27T03:07:09.409Z"
   },
   {
    "duration": 363,
    "start_time": "2025-03-27T03:09:20.037Z"
   },
   {
    "duration": 23,
    "start_time": "2025-03-27T03:09:20.402Z"
   },
   {
    "duration": 12,
    "start_time": "2025-03-27T03:09:20.426Z"
   },
   {
    "duration": 21,
    "start_time": "2025-03-27T03:09:20.441Z"
   },
   {
    "duration": 13,
    "start_time": "2025-03-27T03:09:20.465Z"
   },
   {
    "duration": 10,
    "start_time": "2025-03-27T03:09:20.479Z"
   },
   {
    "duration": 6,
    "start_time": "2025-03-27T03:09:20.512Z"
   },
   {
    "duration": 6,
    "start_time": "2025-03-27T03:09:20.521Z"
   },
   {
    "duration": 5,
    "start_time": "2025-03-27T03:09:20.529Z"
   },
   {
    "duration": 15,
    "start_time": "2025-03-27T03:09:20.536Z"
   },
   {
    "duration": 6,
    "start_time": "2025-03-27T03:09:20.552Z"
   },
   {
    "duration": 10,
    "start_time": "2025-03-27T03:09:20.559Z"
   },
   {
    "duration": 5,
    "start_time": "2025-03-27T03:09:20.571Z"
   },
   {
    "duration": 5,
    "start_time": "2025-03-27T03:09:20.615Z"
   },
   {
    "duration": 4,
    "start_time": "2025-03-27T03:09:20.622Z"
   },
   {
    "duration": 11,
    "start_time": "2025-03-27T03:09:20.627Z"
   },
   {
    "duration": 11,
    "start_time": "2025-03-27T03:09:20.640Z"
   },
   {
    "duration": 12,
    "start_time": "2025-03-27T03:09:20.653Z"
   },
   {
    "duration": 53,
    "start_time": "2025-03-27T03:09:20.667Z"
   },
   {
    "duration": 7,
    "start_time": "2025-03-27T03:09:20.722Z"
   },
   {
    "duration": 695,
    "start_time": "2025-03-27T03:09:20.731Z"
   },
   {
    "duration": 9,
    "start_time": "2025-03-27T03:09:21.428Z"
   },
   {
    "duration": 10,
    "start_time": "2025-03-27T03:09:21.440Z"
   },
   {
    "duration": 15,
    "start_time": "2025-03-27T03:09:21.451Z"
   },
   {
    "duration": 3,
    "start_time": "2025-03-27T03:09:21.467Z"
   },
   {
    "duration": 3,
    "start_time": "2025-03-27T03:09:21.471Z"
   },
   {
    "duration": 38,
    "start_time": "2025-03-27T03:09:21.476Z"
   },
   {
    "duration": 11,
    "start_time": "2025-03-27T03:09:21.516Z"
   },
   {
    "duration": 808,
    "start_time": "2025-03-27T03:09:21.529Z"
   },
   {
    "duration": 4,
    "start_time": "2025-03-27T03:09:22.339Z"
   },
   {
    "duration": 136,
    "start_time": "2025-03-27T03:09:22.345Z"
   },
   {
    "duration": 4,
    "start_time": "2025-03-27T03:09:22.482Z"
   },
   {
    "duration": 165,
    "start_time": "2025-03-27T03:09:22.488Z"
   },
   {
    "duration": 4,
    "start_time": "2025-03-27T03:09:22.655Z"
   },
   {
    "duration": 152,
    "start_time": "2025-03-27T03:09:22.661Z"
   },
   {
    "duration": 4,
    "start_time": "2025-03-27T03:09:22.815Z"
   },
   {
    "duration": 169,
    "start_time": "2025-03-27T03:09:22.821Z"
   },
   {
    "duration": 8,
    "start_time": "2025-03-27T03:09:22.992Z"
   },
   {
    "duration": 199,
    "start_time": "2025-03-27T03:09:23.001Z"
   },
   {
    "duration": 15,
    "start_time": "2025-03-27T03:09:23.201Z"
   },
   {
    "duration": 10,
    "start_time": "2025-03-27T03:09:23.221Z"
   },
   {
    "duration": 17,
    "start_time": "2025-03-27T03:09:23.234Z"
   },
   {
    "duration": 433,
    "start_time": "2025-03-27T03:09:23.253Z"
   },
   {
    "duration": 0,
    "start_time": "2025-03-27T03:09:23.688Z"
   },
   {
    "duration": 0,
    "start_time": "2025-03-27T03:09:23.689Z"
   },
   {
    "duration": 5,
    "start_time": "2025-03-27T03:12:26.995Z"
   },
   {
    "duration": 382,
    "start_time": "2025-03-27T03:12:31.360Z"
   },
   {
    "duration": 6,
    "start_time": "2025-03-27T03:12:37.000Z"
   },
   {
    "duration": 52,
    "start_time": "2025-03-27T03:13:21.728Z"
   },
   {
    "duration": 62,
    "start_time": "2025-03-27T03:14:50.065Z"
   },
   {
    "duration": 165,
    "start_time": "2025-03-27T03:38:12.637Z"
   },
   {
    "duration": 382,
    "start_time": "2025-03-27T03:38:28.328Z"
   },
   {
    "duration": 18,
    "start_time": "2025-03-27T03:38:28.712Z"
   },
   {
    "duration": 9,
    "start_time": "2025-03-27T03:38:28.732Z"
   },
   {
    "duration": 24,
    "start_time": "2025-03-27T03:38:28.742Z"
   },
   {
    "duration": 40,
    "start_time": "2025-03-27T03:38:28.768Z"
   },
   {
    "duration": 11,
    "start_time": "2025-03-27T03:38:28.810Z"
   },
   {
    "duration": 6,
    "start_time": "2025-03-27T03:38:28.823Z"
   },
   {
    "duration": 8,
    "start_time": "2025-03-27T03:38:28.831Z"
   },
   {
    "duration": 5,
    "start_time": "2025-03-27T03:38:28.841Z"
   },
   {
    "duration": 16,
    "start_time": "2025-03-27T03:38:28.848Z"
   },
   {
    "duration": 43,
    "start_time": "2025-03-27T03:38:28.865Z"
   },
   {
    "duration": 9,
    "start_time": "2025-03-27T03:38:28.910Z"
   },
   {
    "duration": 4,
    "start_time": "2025-03-27T03:38:28.921Z"
   },
   {
    "duration": 6,
    "start_time": "2025-03-27T03:38:28.930Z"
   },
   {
    "duration": 4,
    "start_time": "2025-03-27T03:38:28.938Z"
   },
   {
    "duration": 9,
    "start_time": "2025-03-27T03:38:28.943Z"
   },
   {
    "duration": 11,
    "start_time": "2025-03-27T03:38:28.954Z"
   },
   {
    "duration": 12,
    "start_time": "2025-03-27T03:38:29.006Z"
   },
   {
    "duration": 16,
    "start_time": "2025-03-27T03:38:29.020Z"
   },
   {
    "duration": 6,
    "start_time": "2025-03-27T03:38:29.038Z"
   },
   {
    "duration": 2446,
    "start_time": "2025-03-27T03:38:29.046Z"
   },
   {
    "duration": 13,
    "start_time": "2025-03-27T03:38:31.495Z"
   },
   {
    "duration": 10,
    "start_time": "2025-03-27T03:38:31.509Z"
   },
   {
    "duration": 15,
    "start_time": "2025-03-27T03:38:31.520Z"
   },
   {
    "duration": 2,
    "start_time": "2025-03-27T03:38:31.538Z"
   },
   {
    "duration": 3,
    "start_time": "2025-03-27T03:38:31.542Z"
   },
   {
    "duration": 7,
    "start_time": "2025-03-27T03:38:31.547Z"
   },
   {
    "duration": 14,
    "start_time": "2025-03-27T03:38:31.555Z"
   },
   {
    "duration": 776,
    "start_time": "2025-03-27T03:38:31.606Z"
   },
   {
    "duration": 4,
    "start_time": "2025-03-27T03:38:32.384Z"
   },
   {
    "duration": 141,
    "start_time": "2025-03-27T03:38:32.390Z"
   },
   {
    "duration": 4,
    "start_time": "2025-03-27T03:38:32.533Z"
   },
   {
    "duration": 169,
    "start_time": "2025-03-27T03:38:32.539Z"
   },
   {
    "duration": 8,
    "start_time": "2025-03-27T03:38:32.712Z"
   },
   {
    "duration": 202,
    "start_time": "2025-03-27T03:38:32.722Z"
   },
   {
    "duration": 5,
    "start_time": "2025-03-27T03:38:32.926Z"
   },
   {
    "duration": 172,
    "start_time": "2025-03-27T03:38:32.933Z"
   },
   {
    "duration": 9,
    "start_time": "2025-03-27T03:38:33.106Z"
   },
   {
    "duration": 159,
    "start_time": "2025-03-27T03:38:33.117Z"
   },
   {
    "duration": 9,
    "start_time": "2025-03-27T03:38:33.278Z"
   },
   {
    "duration": 20,
    "start_time": "2025-03-27T03:38:33.291Z"
   },
   {
    "duration": 9,
    "start_time": "2025-03-27T03:38:33.312Z"
   },
   {
    "duration": 5,
    "start_time": "2025-03-27T03:38:33.323Z"
   },
   {
    "duration": 593,
    "start_time": "2025-03-27T03:38:33.329Z"
   },
   {
    "duration": 0,
    "start_time": "2025-03-27T03:38:33.924Z"
   },
   {
    "duration": 0,
    "start_time": "2025-03-27T03:38:33.925Z"
   },
   {
    "duration": 9,
    "start_time": "2025-03-27T03:39:14.901Z"
   },
   {
    "duration": 12,
    "start_time": "2025-03-27T03:39:21.685Z"
   },
   {
    "duration": 9,
    "start_time": "2025-03-27T03:39:52.647Z"
   },
   {
    "duration": 9,
    "start_time": "2025-03-27T03:40:12.067Z"
   },
   {
    "duration": 26,
    "start_time": "2025-03-27T03:41:40.548Z"
   },
   {
    "duration": 14,
    "start_time": "2025-03-27T03:43:55.579Z"
   },
   {
    "duration": 5,
    "start_time": "2025-03-27T03:44:10.252Z"
   },
   {
    "duration": 18,
    "start_time": "2025-03-27T03:46:21.220Z"
   },
   {
    "duration": 6,
    "start_time": "2025-03-27T03:49:13.258Z"
   },
   {
    "duration": 24,
    "start_time": "2025-03-27T03:49:19.209Z"
   },
   {
    "duration": 37,
    "start_time": "2025-03-27T03:50:43.673Z"
   },
   {
    "duration": 36,
    "start_time": "2025-03-27T03:50:52.040Z"
   },
   {
    "duration": 26,
    "start_time": "2025-03-27T03:51:30.431Z"
   },
   {
    "duration": 24,
    "start_time": "2025-03-27T03:52:11.744Z"
   },
   {
    "duration": 11,
    "start_time": "2025-03-27T03:52:32.070Z"
   },
   {
    "duration": 9,
    "start_time": "2025-03-27T03:54:04.077Z"
   },
   {
    "duration": 9,
    "start_time": "2025-03-27T03:54:27.008Z"
   },
   {
    "duration": 8,
    "start_time": "2025-03-27T03:54:43.214Z"
   },
   {
    "duration": 16,
    "start_time": "2025-03-27T03:58:20.626Z"
   },
   {
    "duration": 5,
    "start_time": "2025-03-27T04:01:45.362Z"
   },
   {
    "duration": 4,
    "start_time": "2025-03-27T04:02:30.888Z"
   },
   {
    "duration": 156,
    "start_time": "2025-03-27T04:02:55.687Z"
   },
   {
    "duration": 6,
    "start_time": "2025-03-27T04:03:45.880Z"
   },
   {
    "duration": 138,
    "start_time": "2025-03-27T04:04:03.633Z"
   },
   {
    "duration": 328,
    "start_time": "2025-03-27T04:09:29.387Z"
   },
   {
    "duration": 19,
    "start_time": "2025-03-27T04:09:33.420Z"
   },
   {
    "duration": 6,
    "start_time": "2025-03-27T04:09:36.522Z"
   },
   {
    "duration": 160,
    "start_time": "2025-03-27T04:10:06.053Z"
   },
   {
    "duration": 378,
    "start_time": "2025-03-27T04:10:17.322Z"
   },
   {
    "duration": 17,
    "start_time": "2025-03-27T04:10:20.894Z"
   },
   {
    "duration": 10,
    "start_time": "2025-03-27T04:10:24.331Z"
   },
   {
    "duration": 26,
    "start_time": "2025-03-27T04:10:27.475Z"
   },
   {
    "duration": 15,
    "start_time": "2025-03-27T04:10:37.970Z"
   },
   {
    "duration": 11,
    "start_time": "2025-03-27T04:10:41.282Z"
   },
   {
    "duration": 6,
    "start_time": "2025-03-27T04:10:43.058Z"
   },
   {
    "duration": 8,
    "start_time": "2025-03-27T04:10:44.764Z"
   },
   {
    "duration": 5,
    "start_time": "2025-03-27T04:10:46.260Z"
   },
   {
    "duration": 17,
    "start_time": "2025-03-27T04:10:48.889Z"
   },
   {
    "duration": 7,
    "start_time": "2025-03-27T04:10:51.440Z"
   },
   {
    "duration": 11,
    "start_time": "2025-03-27T04:10:53.502Z"
   },
   {
    "duration": 6,
    "start_time": "2025-03-27T04:10:55.362Z"
   },
   {
    "duration": 7,
    "start_time": "2025-03-27T04:10:57.628Z"
   },
   {
    "duration": 4,
    "start_time": "2025-03-27T04:10:59.350Z"
   },
   {
    "duration": 9,
    "start_time": "2025-03-27T04:11:00.943Z"
   },
   {
    "duration": 15,
    "start_time": "2025-03-27T04:11:04.052Z"
   },
   {
    "duration": 12,
    "start_time": "2025-03-27T04:11:06.144Z"
   },
   {
    "duration": 21,
    "start_time": "2025-03-27T04:11:18.071Z"
   },
   {
    "duration": 8,
    "start_time": "2025-03-27T04:11:20.744Z"
   },
   {
    "duration": 682,
    "start_time": "2025-03-27T04:11:22.589Z"
   },
   {
    "duration": 8,
    "start_time": "2025-03-27T04:11:25.402Z"
   },
   {
    "duration": 10,
    "start_time": "2025-03-27T04:11:27.204Z"
   },
   {
    "duration": 16,
    "start_time": "2025-03-27T04:11:33.777Z"
   },
   {
    "duration": 6,
    "start_time": "2025-03-27T04:11:36.750Z"
   },
   {
    "duration": 15,
    "start_time": "2025-03-27T04:11:39.145Z"
   },
   {
    "duration": 798,
    "start_time": "2025-03-27T04:11:44.027Z"
   },
   {
    "duration": 4,
    "start_time": "2025-03-27T04:12:42.694Z"
   },
   {
    "duration": 134,
    "start_time": "2025-03-27T04:12:44.745Z"
   },
   {
    "duration": 4,
    "start_time": "2025-03-27T04:12:51.873Z"
   },
   {
    "duration": 137,
    "start_time": "2025-03-27T04:12:55.192Z"
   },
   {
    "duration": 4,
    "start_time": "2025-03-27T04:13:02.290Z"
   },
   {
    "duration": 142,
    "start_time": "2025-03-27T04:13:03.706Z"
   },
   {
    "duration": 4,
    "start_time": "2025-03-27T04:13:07.008Z"
   },
   {
    "duration": 156,
    "start_time": "2025-03-27T04:13:08.940Z"
   },
   {
    "duration": 7,
    "start_time": "2025-03-27T04:13:10.882Z"
   },
   {
    "duration": 168,
    "start_time": "2025-03-27T04:13:12.359Z"
   },
   {
    "duration": 9,
    "start_time": "2025-03-27T04:13:15.350Z"
   },
   {
    "duration": 9,
    "start_time": "2025-03-27T04:13:18.015Z"
   },
   {
    "duration": 8,
    "start_time": "2025-03-27T04:13:19.736Z"
   },
   {
    "duration": 6,
    "start_time": "2025-03-27T04:13:32.587Z"
   },
   {
    "duration": 593,
    "start_time": "2025-03-27T04:13:34.857Z"
   },
   {
    "duration": 45,
    "start_time": "2025-03-27T04:14:23.916Z"
   },
   {
    "duration": 4,
    "start_time": "2025-03-27T04:14:50.835Z"
   },
   {
    "duration": 44,
    "start_time": "2025-03-27T04:14:55.854Z"
   },
   {
    "duration": 15,
    "start_time": "2025-03-27T04:15:57.218Z"
   },
   {
    "duration": 6,
    "start_time": "2025-03-27T04:16:05.096Z"
   },
   {
    "duration": 45,
    "start_time": "2025-03-27T04:16:06.887Z"
   },
   {
    "duration": 418,
    "start_time": "2025-03-27T04:16:56.287Z"
   },
   {
    "duration": 28,
    "start_time": "2025-03-27T04:16:56.708Z"
   },
   {
    "duration": 22,
    "start_time": "2025-03-27T04:16:56.739Z"
   },
   {
    "duration": 46,
    "start_time": "2025-03-27T04:16:56.763Z"
   },
   {
    "duration": 16,
    "start_time": "2025-03-27T04:16:56.813Z"
   },
   {
    "duration": 10,
    "start_time": "2025-03-27T04:16:56.833Z"
   },
   {
    "duration": 7,
    "start_time": "2025-03-27T04:16:56.846Z"
   },
   {
    "duration": 9,
    "start_time": "2025-03-27T04:16:56.856Z"
   },
   {
    "duration": 39,
    "start_time": "2025-03-27T04:16:56.866Z"
   },
   {
    "duration": 16,
    "start_time": "2025-03-27T04:16:56.907Z"
   },
   {
    "duration": 5,
    "start_time": "2025-03-27T04:16:56.925Z"
   },
   {
    "duration": 9,
    "start_time": "2025-03-27T04:16:56.931Z"
   },
   {
    "duration": 5,
    "start_time": "2025-03-27T04:16:56.942Z"
   },
   {
    "duration": 8,
    "start_time": "2025-03-27T04:16:56.951Z"
   },
   {
    "duration": 44,
    "start_time": "2025-03-27T04:16:56.961Z"
   },
   {
    "duration": 9,
    "start_time": "2025-03-27T04:16:57.007Z"
   },
   {
    "duration": 16,
    "start_time": "2025-03-27T04:16:57.018Z"
   },
   {
    "duration": 15,
    "start_time": "2025-03-27T04:16:57.036Z"
   },
   {
    "duration": 25,
    "start_time": "2025-03-27T04:16:57.053Z"
   },
   {
    "duration": 7,
    "start_time": "2025-03-27T04:16:57.106Z"
   },
   {
    "duration": 743,
    "start_time": "2025-03-27T04:16:57.115Z"
   },
   {
    "duration": 9,
    "start_time": "2025-03-27T04:16:57.860Z"
   },
   {
    "duration": 10,
    "start_time": "2025-03-27T04:16:57.871Z"
   },
   {
    "duration": 41,
    "start_time": "2025-03-27T04:16:57.882Z"
   },
   {
    "duration": 2,
    "start_time": "2025-03-27T04:16:57.925Z"
   },
   {
    "duration": 2,
    "start_time": "2025-03-27T04:16:57.930Z"
   },
   {
    "duration": 6,
    "start_time": "2025-03-27T04:16:57.934Z"
   },
   {
    "duration": 16,
    "start_time": "2025-03-27T04:16:57.942Z"
   },
   {
    "duration": 871,
    "start_time": "2025-03-27T04:16:57.959Z"
   },
   {
    "duration": 5,
    "start_time": "2025-03-27T04:16:58.833Z"
   },
   {
    "duration": 156,
    "start_time": "2025-03-27T04:16:58.840Z"
   },
   {
    "duration": 9,
    "start_time": "2025-03-27T04:16:58.999Z"
   },
   {
    "duration": 146,
    "start_time": "2025-03-27T04:16:59.010Z"
   },
   {
    "duration": 4,
    "start_time": "2025-03-27T04:16:59.160Z"
   },
   {
    "duration": 177,
    "start_time": "2025-03-27T04:16:59.166Z"
   },
   {
    "duration": 5,
    "start_time": "2025-03-27T04:16:59.344Z"
   },
   {
    "duration": 172,
    "start_time": "2025-03-27T04:16:59.351Z"
   },
   {
    "duration": 7,
    "start_time": "2025-03-27T04:16:59.525Z"
   },
   {
    "duration": 160,
    "start_time": "2025-03-27T04:16:59.534Z"
   },
   {
    "duration": 17,
    "start_time": "2025-03-27T04:16:59.696Z"
   },
   {
    "duration": 12,
    "start_time": "2025-03-27T04:16:59.719Z"
   },
   {
    "duration": 10,
    "start_time": "2025-03-27T04:16:59.732Z"
   },
   {
    "duration": 7,
    "start_time": "2025-03-27T04:16:59.743Z"
   },
   {
    "duration": 653,
    "start_time": "2025-03-27T04:16:59.753Z"
   },
   {
    "duration": 0,
    "start_time": "2025-03-27T04:17:00.408Z"
   },
   {
    "duration": 0,
    "start_time": "2025-03-27T04:17:00.411Z"
   },
   {
    "duration": 47,
    "start_time": "2025-03-27T04:18:13.045Z"
   },
   {
    "duration": 48,
    "start_time": "2025-03-27T04:18:39.240Z"
   },
   {
    "duration": 17,
    "start_time": "2025-03-27T04:21:02.149Z"
   },
   {
    "duration": 6,
    "start_time": "2025-03-27T04:21:07.203Z"
   },
   {
    "duration": 47,
    "start_time": "2025-03-27T04:21:09.809Z"
   },
   {
    "duration": 16,
    "start_time": "2025-03-27T04:22:22.851Z"
   },
   {
    "duration": 18,
    "start_time": "2025-03-27T04:22:37.734Z"
   },
   {
    "duration": 14,
    "start_time": "2025-03-27T04:23:06.590Z"
   },
   {
    "duration": 5,
    "start_time": "2025-03-27T04:23:41.890Z"
   },
   {
    "duration": 7,
    "start_time": "2025-03-27T04:23:56.455Z"
   },
   {
    "duration": 14,
    "start_time": "2025-03-27T04:23:59.385Z"
   },
   {
    "duration": 15,
    "start_time": "2025-03-27T04:25:16.820Z"
   },
   {
    "duration": 7,
    "start_time": "2025-03-27T04:25:51.681Z"
   },
   {
    "duration": 3,
    "start_time": "2025-03-27T04:26:37.646Z"
   },
   {
    "duration": 4,
    "start_time": "2025-03-27T04:27:48.951Z"
   },
   {
    "duration": 47,
    "start_time": "2025-03-27T04:28:34.704Z"
   },
   {
    "duration": 5,
    "start_time": "2025-03-27T04:29:51.646Z"
   },
   {
    "duration": 47,
    "start_time": "2025-03-27T04:29:58.440Z"
   },
   {
    "duration": 3,
    "start_time": "2025-03-27T04:30:50.144Z"
   },
   {
    "duration": 326,
    "start_time": "2025-03-27T04:34:12.786Z"
   },
   {
    "duration": 19,
    "start_time": "2025-03-27T04:34:16.814Z"
   },
   {
    "duration": 10,
    "start_time": "2025-03-27T04:34:20.007Z"
   },
   {
    "duration": 23,
    "start_time": "2025-03-27T04:34:23.913Z"
   },
   {
    "duration": 15,
    "start_time": "2025-03-27T04:34:26.318Z"
   },
   {
    "duration": 13,
    "start_time": "2025-03-27T04:34:30.014Z"
   },
   {
    "duration": 7,
    "start_time": "2025-03-27T04:34:31.675Z"
   },
   {
    "duration": 8,
    "start_time": "2025-03-27T04:34:33.322Z"
   },
   {
    "duration": 5,
    "start_time": "2025-03-27T04:34:34.912Z"
   },
   {
    "duration": 17,
    "start_time": "2025-03-27T04:34:36.810Z"
   },
   {
    "duration": 6,
    "start_time": "2025-03-27T04:34:38.608Z"
   },
   {
    "duration": 9,
    "start_time": "2025-03-27T04:34:40.473Z"
   },
   {
    "duration": 6,
    "start_time": "2025-03-27T04:34:42.292Z"
   },
   {
    "duration": 7,
    "start_time": "2025-03-27T04:34:45.196Z"
   },
   {
    "duration": 4,
    "start_time": "2025-03-27T04:34:48.844Z"
   },
   {
    "duration": 11,
    "start_time": "2025-03-27T04:34:50.858Z"
   },
   {
    "duration": 12,
    "start_time": "2025-03-27T04:34:53.217Z"
   },
   {
    "duration": 13,
    "start_time": "2025-03-27T04:34:55.575Z"
   },
   {
    "duration": 22,
    "start_time": "2025-03-27T04:34:58.613Z"
   },
   {
    "duration": 8,
    "start_time": "2025-03-27T04:35:00.654Z"
   },
   {
    "duration": 678,
    "start_time": "2025-03-27T04:35:02.657Z"
   },
   {
    "duration": 8,
    "start_time": "2025-03-27T04:35:05.237Z"
   },
   {
    "duration": 11,
    "start_time": "2025-03-27T04:35:06.933Z"
   },
   {
    "duration": 15,
    "start_time": "2025-03-27T04:35:09.518Z"
   },
   {
    "duration": 2,
    "start_time": "2025-03-27T04:35:12.449Z"
   },
   {
    "duration": 4,
    "start_time": "2025-03-27T04:35:13.635Z"
   },
   {
    "duration": 6,
    "start_time": "2025-03-27T04:35:15.337Z"
   },
   {
    "duration": 13,
    "start_time": "2025-03-27T04:35:16.974Z"
   },
   {
    "duration": 779,
    "start_time": "2025-03-27T04:35:20.283Z"
   },
   {
    "duration": 4,
    "start_time": "2025-03-27T04:35:27.584Z"
   },
   {
    "duration": 132,
    "start_time": "2025-03-27T04:35:30.931Z"
   },
   {
    "duration": 4,
    "start_time": "2025-03-27T04:35:34.617Z"
   },
   {
    "duration": 133,
    "start_time": "2025-03-27T04:35:37.172Z"
   },
   {
    "duration": 5,
    "start_time": "2025-03-27T04:35:38.982Z"
   },
   {
    "duration": 141,
    "start_time": "2025-03-27T04:35:42.329Z"
   },
   {
    "duration": 5,
    "start_time": "2025-03-27T04:35:44.684Z"
   },
   {
    "duration": 157,
    "start_time": "2025-03-27T04:35:46.069Z"
   },
   {
    "duration": 5,
    "start_time": "2025-03-27T04:35:47.680Z"
   },
   {
    "duration": 151,
    "start_time": "2025-03-27T04:35:48.905Z"
   },
   {
    "duration": 10,
    "start_time": "2025-03-27T04:35:51.667Z"
   },
   {
    "duration": 9,
    "start_time": "2025-03-27T04:35:53.187Z"
   },
   {
    "duration": 12,
    "start_time": "2025-03-27T04:35:54.706Z"
   },
   {
    "duration": 585,
    "start_time": "2025-03-27T04:35:57.151Z"
   },
   {
    "duration": 4,
    "start_time": "2025-03-27T04:36:13.693Z"
   },
   {
    "duration": 6,
    "start_time": "2025-03-27T04:36:23.382Z"
   },
   {
    "duration": 4,
    "start_time": "2025-03-27T04:36:25.114Z"
   },
   {
    "duration": 47,
    "start_time": "2025-03-27T04:36:29.756Z"
   },
   {
    "duration": 52,
    "start_time": "2025-03-27T04:47:11.986Z"
   },
   {
    "duration": 369,
    "start_time": "2025-03-27T18:04:11.086Z"
   },
   {
    "duration": 16,
    "start_time": "2025-03-27T18:04:15.302Z"
   },
   {
    "duration": 10,
    "start_time": "2025-03-27T18:04:18.974Z"
   },
   {
    "duration": 24,
    "start_time": "2025-03-27T18:04:22.419Z"
   },
   {
    "duration": 14,
    "start_time": "2025-03-27T18:04:26.896Z"
   },
   {
    "duration": 11,
    "start_time": "2025-03-27T18:04:53.157Z"
   },
   {
    "duration": 8,
    "start_time": "2025-03-27T18:04:56.007Z"
   },
   {
    "duration": 9,
    "start_time": "2025-03-27T18:05:05.997Z"
   },
   {
    "duration": 5,
    "start_time": "2025-03-27T18:05:10.380Z"
   },
   {
    "duration": 15,
    "start_time": "2025-03-27T18:05:13.793Z"
   },
   {
    "duration": 7,
    "start_time": "2025-03-27T18:05:36.977Z"
   },
   {
    "duration": 10,
    "start_time": "2025-03-27T18:53:36.163Z"
   },
   {
    "duration": 5,
    "start_time": "2025-03-27T18:53:39.268Z"
   },
   {
    "duration": 6,
    "start_time": "2025-03-27T18:53:44.363Z"
   },
   {
    "duration": 4,
    "start_time": "2025-03-27T18:53:47.049Z"
   },
   {
    "duration": 9,
    "start_time": "2025-03-27T18:53:49.930Z"
   },
   {
    "duration": 12,
    "start_time": "2025-03-27T18:53:53.031Z"
   },
   {
    "duration": 12,
    "start_time": "2025-03-27T18:53:56.110Z"
   },
   {
    "duration": 27,
    "start_time": "2025-03-27T18:54:02.241Z"
   },
   {
    "duration": 8,
    "start_time": "2025-03-27T18:54:04.985Z"
   },
   {
    "duration": 2364,
    "start_time": "2025-03-27T18:54:08.113Z"
   },
   {
    "duration": 9,
    "start_time": "2025-03-27T18:54:14.523Z"
   },
   {
    "duration": 10,
    "start_time": "2025-03-27T18:54:17.583Z"
   },
   {
    "duration": 15,
    "start_time": "2025-03-27T18:54:20.277Z"
   },
   {
    "duration": 2,
    "start_time": "2025-03-27T18:54:23.154Z"
   },
   {
    "duration": 2,
    "start_time": "2025-03-27T18:54:24.978Z"
   },
   {
    "duration": 6,
    "start_time": "2025-03-27T18:54:27.538Z"
   },
   {
    "duration": 13,
    "start_time": "2025-03-27T18:54:29.850Z"
   },
   {
    "duration": 792,
    "start_time": "2025-03-27T18:54:32.723Z"
   },
   {
    "duration": 4,
    "start_time": "2025-03-27T18:54:55.862Z"
   },
   {
    "duration": 149,
    "start_time": "2025-03-27T18:54:58.164Z"
   },
   {
    "duration": 4,
    "start_time": "2025-03-27T18:55:00.884Z"
   },
   {
    "duration": 132,
    "start_time": "2025-03-27T18:55:04.713Z"
   },
   {
    "duration": 5,
    "start_time": "2025-03-27T18:55:07.554Z"
   },
   {
    "duration": 131,
    "start_time": "2025-03-27T18:55:09.838Z"
   },
   {
    "duration": 5,
    "start_time": "2025-03-27T18:55:13.656Z"
   },
   {
    "duration": 152,
    "start_time": "2025-03-27T18:55:16.132Z"
   },
   {
    "duration": 6,
    "start_time": "2025-03-27T18:55:18.638Z"
   },
   {
    "duration": 141,
    "start_time": "2025-03-27T18:55:20.975Z"
   },
   {
    "duration": 11,
    "start_time": "2025-03-27T18:55:24.065Z"
   },
   {
    "duration": 8,
    "start_time": "2025-03-27T18:55:26.619Z"
   },
   {
    "duration": 9,
    "start_time": "2025-03-27T18:55:30.048Z"
   },
   {
    "duration": 615,
    "start_time": "2025-03-27T18:55:34.296Z"
   },
   {
    "duration": 4,
    "start_time": "2025-03-27T18:55:37.452Z"
   },
   {
    "duration": 6,
    "start_time": "2025-03-27T18:55:40.059Z"
   },
   {
    "duration": 3,
    "start_time": "2025-03-27T18:55:42.740Z"
   },
   {
    "duration": 46,
    "start_time": "2025-03-27T18:55:45.069Z"
   },
   {
    "duration": 508,
    "start_time": "2025-03-27T18:55:49.654Z"
   },
   {
    "duration": 158,
    "start_time": "2025-03-27T19:00:37.768Z"
   },
   {
    "duration": 362,
    "start_time": "2025-03-27T19:03:47.361Z"
   },
   {
    "duration": 19,
    "start_time": "2025-03-27T19:03:51.367Z"
   },
   {
    "duration": 9,
    "start_time": "2025-03-27T19:03:54.388Z"
   },
   {
    "duration": 23,
    "start_time": "2025-03-27T19:04:07.337Z"
   },
   {
    "duration": 8,
    "start_time": "2025-03-27T19:04:14.102Z"
   },
   {
    "duration": 202,
    "start_time": "2025-03-27T19:04:29.794Z"
   },
   {
    "duration": 9,
    "start_time": "2025-03-27T19:05:20.928Z"
   },
   {
    "duration": 18,
    "start_time": "2025-03-27T19:05:23.124Z"
   },
   {
    "duration": 11,
    "start_time": "2025-03-27T19:06:33.870Z"
   },
   {
    "duration": 8,
    "start_time": "2025-03-27T19:06:35.905Z"
   },
   {
    "duration": 11,
    "start_time": "2025-03-27T19:06:39.009Z"
   },
   {
    "duration": 5,
    "start_time": "2025-03-27T19:06:41.678Z"
   },
   {
    "duration": 16,
    "start_time": "2025-03-27T19:06:44.469Z"
   },
   {
    "duration": 162,
    "start_time": "2025-03-27T19:07:50.590Z"
   },
   {
    "duration": 310,
    "start_time": "2025-03-27T19:08:05.818Z"
   },
   {
    "duration": 18,
    "start_time": "2025-03-27T19:08:08.844Z"
   },
   {
    "duration": 9,
    "start_time": "2025-03-27T19:08:11.554Z"
   },
   {
    "duration": 23,
    "start_time": "2025-03-27T19:08:17.874Z"
   },
   {
    "duration": 7,
    "start_time": "2025-03-27T19:08:21.482Z"
   },
   {
    "duration": 8,
    "start_time": "2025-03-27T19:08:23.349Z"
   },
   {
    "duration": 14,
    "start_time": "2025-03-27T19:08:25.430Z"
   },
   {
    "duration": 11,
    "start_time": "2025-03-27T19:08:29.678Z"
   },
   {
    "duration": 6,
    "start_time": "2025-03-27T19:08:31.560Z"
   },
   {
    "duration": 8,
    "start_time": "2025-03-27T19:08:33.511Z"
   },
   {
    "duration": 4,
    "start_time": "2025-03-27T19:08:37.222Z"
   },
   {
    "duration": 21,
    "start_time": "2025-03-27T19:08:43.301Z"
   },
   {
    "duration": 311,
    "start_time": "2025-03-27T19:09:35.723Z"
   },
   {
    "duration": 20,
    "start_time": "2025-03-27T19:09:39.310Z"
   },
   {
    "duration": 10,
    "start_time": "2025-03-27T19:09:42.323Z"
   },
   {
    "duration": 22,
    "start_time": "2025-03-27T19:09:52.453Z"
   },
   {
    "duration": 5,
    "start_time": "2025-03-27T19:09:58.528Z"
   },
   {
    "duration": 10,
    "start_time": "2025-03-27T19:10:00.860Z"
   },
   {
    "duration": 7,
    "start_time": "2025-03-27T19:10:02.516Z"
   },
   {
    "duration": 14,
    "start_time": "2025-03-27T19:10:04.637Z"
   },
   {
    "duration": 10,
    "start_time": "2025-03-27T19:10:16.822Z"
   },
   {
    "duration": 6,
    "start_time": "2025-03-27T19:10:18.551Z"
   },
   {
    "duration": 7,
    "start_time": "2025-03-27T19:10:20.834Z"
   },
   {
    "duration": 5,
    "start_time": "2025-03-27T19:10:27.477Z"
   },
   {
    "duration": 16,
    "start_time": "2025-03-27T19:10:30.389Z"
   },
   {
    "duration": 7,
    "start_time": "2025-03-27T19:10:54.533Z"
   },
   {
    "duration": 9,
    "start_time": "2025-03-27T19:10:57.348Z"
   },
   {
    "duration": 7,
    "start_time": "2025-03-27T19:11:21.036Z"
   },
   {
    "duration": 319,
    "start_time": "2025-03-27T19:11:43.432Z"
   },
   {
    "duration": 15,
    "start_time": "2025-03-27T19:11:43.753Z"
   },
   {
    "duration": 9,
    "start_time": "2025-03-27T19:11:43.770Z"
   },
   {
    "duration": 22,
    "start_time": "2025-03-27T19:11:43.780Z"
   },
   {
    "duration": 5,
    "start_time": "2025-03-27T19:11:43.804Z"
   },
   {
    "duration": 37,
    "start_time": "2025-03-27T19:11:43.811Z"
   },
   {
    "duration": 14,
    "start_time": "2025-03-27T19:11:43.849Z"
   },
   {
    "duration": 10,
    "start_time": "2025-03-27T19:11:43.865Z"
   },
   {
    "duration": 6,
    "start_time": "2025-03-27T19:11:43.876Z"
   },
   {
    "duration": 7,
    "start_time": "2025-03-27T19:11:43.883Z"
   },
   {
    "duration": 4,
    "start_time": "2025-03-27T19:11:43.892Z"
   },
   {
    "duration": 52,
    "start_time": "2025-03-27T19:11:43.897Z"
   },
   {
    "duration": 6,
    "start_time": "2025-03-27T19:11:43.950Z"
   },
   {
    "duration": 8,
    "start_time": "2025-03-27T19:11:43.959Z"
   },
   {
    "duration": 2,
    "start_time": "2025-03-27T19:11:43.969Z"
   },
   {
    "duration": 8,
    "start_time": "2025-03-27T19:11:43.972Z"
   },
   {
    "duration": 4,
    "start_time": "2025-03-27T19:11:43.981Z"
   },
   {
    "duration": 8,
    "start_time": "2025-03-27T19:11:43.987Z"
   },
   {
    "duration": 48,
    "start_time": "2025-03-27T19:11:43.996Z"
   },
   {
    "duration": 13,
    "start_time": "2025-03-27T19:11:44.045Z"
   },
   {
    "duration": 16,
    "start_time": "2025-03-27T19:11:44.061Z"
   },
   {
    "duration": 6,
    "start_time": "2025-03-27T19:11:44.079Z"
   },
   {
    "duration": 701,
    "start_time": "2025-03-27T19:11:44.087Z"
   },
   {
    "duration": 8,
    "start_time": "2025-03-27T19:11:44.790Z"
   },
   {
    "duration": 10,
    "start_time": "2025-03-27T19:11:44.800Z"
   },
   {
    "duration": 35,
    "start_time": "2025-03-27T19:11:44.811Z"
   },
   {
    "duration": 2,
    "start_time": "2025-03-27T19:11:44.848Z"
   },
   {
    "duration": 3,
    "start_time": "2025-03-27T19:11:44.852Z"
   },
   {
    "duration": 6,
    "start_time": "2025-03-27T19:11:44.856Z"
   },
   {
    "duration": 11,
    "start_time": "2025-03-27T19:11:44.863Z"
   },
   {
    "duration": 788,
    "start_time": "2025-03-27T19:11:44.875Z"
   },
   {
    "duration": 4,
    "start_time": "2025-03-27T19:11:45.665Z"
   },
   {
    "duration": 129,
    "start_time": "2025-03-27T19:11:45.671Z"
   },
   {
    "duration": 4,
    "start_time": "2025-03-27T19:11:45.802Z"
   },
   {
    "duration": 143,
    "start_time": "2025-03-27T19:11:45.807Z"
   },
   {
    "duration": 4,
    "start_time": "2025-03-27T19:11:45.952Z"
   },
   {
    "duration": 143,
    "start_time": "2025-03-27T19:11:45.957Z"
   },
   {
    "duration": 5,
    "start_time": "2025-03-27T19:11:46.101Z"
   },
   {
    "duration": 169,
    "start_time": "2025-03-27T19:11:46.107Z"
   },
   {
    "duration": 5,
    "start_time": "2025-03-27T19:11:46.278Z"
   },
   {
    "duration": 153,
    "start_time": "2025-03-27T19:11:46.287Z"
   },
   {
    "duration": 8,
    "start_time": "2025-03-27T19:11:46.443Z"
   },
   {
    "duration": 9,
    "start_time": "2025-03-27T19:11:46.453Z"
   },
   {
    "duration": 8,
    "start_time": "2025-03-27T19:11:46.463Z"
   },
   {
    "duration": 570,
    "start_time": "2025-03-27T19:11:46.473Z"
   },
   {
    "duration": 0,
    "start_time": "2025-03-27T19:11:47.045Z"
   },
   {
    "duration": 0,
    "start_time": "2025-03-27T19:11:47.047Z"
   },
   {
    "duration": 0,
    "start_time": "2025-03-27T19:11:47.049Z"
   },
   {
    "duration": 0,
    "start_time": "2025-03-27T19:11:47.050Z"
   },
   {
    "duration": 5,
    "start_time": "2025-03-27T19:13:10.119Z"
   },
   {
    "duration": 324,
    "start_time": "2025-03-27T19:13:16.599Z"
   },
   {
    "duration": 23,
    "start_time": "2025-03-27T19:13:16.926Z"
   },
   {
    "duration": 10,
    "start_time": "2025-03-27T19:13:16.951Z"
   },
   {
    "duration": 22,
    "start_time": "2025-03-27T19:13:16.962Z"
   },
   {
    "duration": 5,
    "start_time": "2025-03-27T19:13:16.986Z"
   },
   {
    "duration": 8,
    "start_time": "2025-03-27T19:13:16.992Z"
   },
   {
    "duration": 41,
    "start_time": "2025-03-27T19:13:17.002Z"
   },
   {
    "duration": 12,
    "start_time": "2025-03-27T19:13:17.044Z"
   },
   {
    "duration": 7,
    "start_time": "2025-03-27T19:13:17.058Z"
   },
   {
    "duration": 8,
    "start_time": "2025-03-27T19:13:17.066Z"
   },
   {
    "duration": 5,
    "start_time": "2025-03-27T19:13:17.076Z"
   },
   {
    "duration": 17,
    "start_time": "2025-03-27T19:13:17.083Z"
   },
   {
    "duration": 41,
    "start_time": "2025-03-27T19:13:17.102Z"
   },
   {
    "duration": 9,
    "start_time": "2025-03-27T19:13:17.146Z"
   },
   {
    "duration": 6,
    "start_time": "2025-03-27T19:13:17.157Z"
   },
   {
    "duration": 6,
    "start_time": "2025-03-27T19:13:17.165Z"
   },
   {
    "duration": 3,
    "start_time": "2025-03-27T19:13:17.173Z"
   },
   {
    "duration": 9,
    "start_time": "2025-03-27T19:13:17.178Z"
   },
   {
    "duration": 11,
    "start_time": "2025-03-27T19:13:17.189Z"
   },
   {
    "duration": 44,
    "start_time": "2025-03-27T19:13:17.202Z"
   },
   {
    "duration": 19,
    "start_time": "2025-03-27T19:13:17.248Z"
   },
   {
    "duration": 6,
    "start_time": "2025-03-27T19:13:17.268Z"
   },
   {
    "duration": 668,
    "start_time": "2025-03-27T19:13:17.276Z"
   },
   {
    "duration": 7,
    "start_time": "2025-03-27T19:13:17.946Z"
   },
   {
    "duration": 9,
    "start_time": "2025-03-27T19:13:17.955Z"
   },
   {
    "duration": 14,
    "start_time": "2025-03-27T19:13:17.965Z"
   },
   {
    "duration": 3,
    "start_time": "2025-03-27T19:13:17.980Z"
   },
   {
    "duration": 3,
    "start_time": "2025-03-27T19:13:17.984Z"
   },
   {
    "duration": 6,
    "start_time": "2025-03-27T19:13:17.988Z"
   },
   {
    "duration": 52,
    "start_time": "2025-03-27T19:13:17.996Z"
   },
   {
    "duration": 798,
    "start_time": "2025-03-27T19:13:18.049Z"
   },
   {
    "duration": 5,
    "start_time": "2025-03-27T19:13:18.849Z"
   },
   {
    "duration": 133,
    "start_time": "2025-03-27T19:13:18.856Z"
   },
   {
    "duration": 4,
    "start_time": "2025-03-27T19:13:18.990Z"
   },
   {
    "duration": 166,
    "start_time": "2025-03-27T19:13:18.995Z"
   },
   {
    "duration": 5,
    "start_time": "2025-03-27T19:13:19.162Z"
   },
   {
    "duration": 146,
    "start_time": "2025-03-27T19:13:19.168Z"
   },
   {
    "duration": 5,
    "start_time": "2025-03-27T19:13:19.315Z"
   },
   {
    "duration": 159,
    "start_time": "2025-03-27T19:13:19.322Z"
   },
   {
    "duration": 6,
    "start_time": "2025-03-27T19:13:19.483Z"
   },
   {
    "duration": 151,
    "start_time": "2025-03-27T19:13:19.494Z"
   },
   {
    "duration": 9,
    "start_time": "2025-03-27T19:13:19.647Z"
   },
   {
    "duration": 7,
    "start_time": "2025-03-27T19:13:19.658Z"
   },
   {
    "duration": 8,
    "start_time": "2025-03-27T19:13:19.667Z"
   },
   {
    "duration": 569,
    "start_time": "2025-03-27T19:13:19.676Z"
   },
   {
    "duration": 0,
    "start_time": "2025-03-27T19:13:20.247Z"
   },
   {
    "duration": 0,
    "start_time": "2025-03-27T19:13:20.249Z"
   },
   {
    "duration": 0,
    "start_time": "2025-03-27T19:13:20.250Z"
   },
   {
    "duration": 0,
    "start_time": "2025-03-27T19:13:20.252Z"
   },
   {
    "duration": 324,
    "start_time": "2025-03-27T19:16:42.919Z"
   },
   {
    "duration": 15,
    "start_time": "2025-03-27T19:16:43.246Z"
   },
   {
    "duration": 9,
    "start_time": "2025-03-27T19:16:43.263Z"
   },
   {
    "duration": 21,
    "start_time": "2025-03-27T19:16:43.274Z"
   },
   {
    "duration": 5,
    "start_time": "2025-03-27T19:16:43.298Z"
   },
   {
    "duration": 39,
    "start_time": "2025-03-27T19:16:43.304Z"
   },
   {
    "duration": 14,
    "start_time": "2025-03-27T19:16:43.344Z"
   },
   {
    "duration": 10,
    "start_time": "2025-03-27T19:16:43.359Z"
   },
   {
    "duration": 6,
    "start_time": "2025-03-27T19:16:43.370Z"
   },
   {
    "duration": 7,
    "start_time": "2025-03-27T19:16:43.377Z"
   },
   {
    "duration": 4,
    "start_time": "2025-03-27T19:16:43.386Z"
   },
   {
    "duration": 14,
    "start_time": "2025-03-27T19:16:43.392Z"
   },
   {
    "duration": 39,
    "start_time": "2025-03-27T19:16:43.408Z"
   },
   {
    "duration": 9,
    "start_time": "2025-03-27T19:16:43.451Z"
   },
   {
    "duration": 4,
    "start_time": "2025-03-27T19:16:43.462Z"
   },
   {
    "duration": 6,
    "start_time": "2025-03-27T19:16:43.468Z"
   },
   {
    "duration": 4,
    "start_time": "2025-03-27T19:16:43.475Z"
   },
   {
    "duration": 8,
    "start_time": "2025-03-27T19:16:43.481Z"
   },
   {
    "duration": 11,
    "start_time": "2025-03-27T19:16:43.492Z"
   },
   {
    "duration": 14,
    "start_time": "2025-03-27T19:16:43.544Z"
   },
   {
    "duration": 18,
    "start_time": "2025-03-27T19:16:43.560Z"
   },
   {
    "duration": 6,
    "start_time": "2025-03-27T19:16:43.580Z"
   },
   {
    "duration": 675,
    "start_time": "2025-03-27T19:16:43.588Z"
   },
   {
    "duration": 8,
    "start_time": "2025-03-27T19:16:44.265Z"
   },
   {
    "duration": 9,
    "start_time": "2025-03-27T19:16:44.275Z"
   },
   {
    "duration": 15,
    "start_time": "2025-03-27T19:16:44.285Z"
   },
   {
    "duration": 3,
    "start_time": "2025-03-27T19:16:44.301Z"
   },
   {
    "duration": 3,
    "start_time": "2025-03-27T19:16:44.306Z"
   },
   {
    "duration": 36,
    "start_time": "2025-03-27T19:16:44.310Z"
   },
   {
    "duration": 11,
    "start_time": "2025-03-27T19:16:44.349Z"
   },
   {
    "duration": 781,
    "start_time": "2025-03-27T19:16:44.362Z"
   },
   {
    "duration": 4,
    "start_time": "2025-03-27T19:16:45.145Z"
   },
   {
    "duration": 148,
    "start_time": "2025-03-27T19:16:45.151Z"
   },
   {
    "duration": 3,
    "start_time": "2025-03-27T19:16:45.301Z"
   },
   {
    "duration": 142,
    "start_time": "2025-03-27T19:16:45.306Z"
   },
   {
    "duration": 4,
    "start_time": "2025-03-27T19:16:45.450Z"
   },
   {
    "duration": 151,
    "start_time": "2025-03-27T19:16:45.456Z"
   },
   {
    "duration": 5,
    "start_time": "2025-03-27T19:16:45.608Z"
   },
   {
    "duration": 170,
    "start_time": "2025-03-27T19:16:45.615Z"
   },
   {
    "duration": 6,
    "start_time": "2025-03-27T19:16:45.786Z"
   },
   {
    "duration": 158,
    "start_time": "2025-03-27T19:16:45.795Z"
   },
   {
    "duration": 9,
    "start_time": "2025-03-27T19:16:45.955Z"
   },
   {
    "duration": 8,
    "start_time": "2025-03-27T19:16:45.965Z"
   },
   {
    "duration": 8,
    "start_time": "2025-03-27T19:16:45.975Z"
   },
   {
    "duration": 596,
    "start_time": "2025-03-27T19:16:45.985Z"
   },
   {
    "duration": 0,
    "start_time": "2025-03-27T19:16:46.582Z"
   },
   {
    "duration": 0,
    "start_time": "2025-03-27T19:16:46.583Z"
   },
   {
    "duration": 0,
    "start_time": "2025-03-27T19:16:46.585Z"
   },
   {
    "duration": 0,
    "start_time": "2025-03-27T19:16:46.586Z"
   },
   {
    "duration": 3,
    "start_time": "2025-03-27T19:18:58.823Z"
   },
   {
    "duration": 352,
    "start_time": "2025-03-27T19:19:06.278Z"
   },
   {
    "duration": 19,
    "start_time": "2025-03-27T19:19:06.632Z"
   },
   {
    "duration": 9,
    "start_time": "2025-03-27T19:19:06.653Z"
   },
   {
    "duration": 22,
    "start_time": "2025-03-27T19:19:06.663Z"
   },
   {
    "duration": 5,
    "start_time": "2025-03-27T19:19:06.687Z"
   },
   {
    "duration": 7,
    "start_time": "2025-03-27T19:19:06.694Z"
   },
   {
    "duration": 41,
    "start_time": "2025-03-27T19:19:06.703Z"
   },
   {
    "duration": 10,
    "start_time": "2025-03-27T19:19:06.745Z"
   },
   {
    "duration": 6,
    "start_time": "2025-03-27T19:19:06.757Z"
   },
   {
    "duration": 8,
    "start_time": "2025-03-27T19:19:06.764Z"
   },
   {
    "duration": 4,
    "start_time": "2025-03-27T19:19:06.774Z"
   },
   {
    "duration": 14,
    "start_time": "2025-03-27T19:19:06.779Z"
   },
   {
    "duration": 6,
    "start_time": "2025-03-27T19:19:06.795Z"
   },
   {
    "duration": 46,
    "start_time": "2025-03-27T19:19:06.804Z"
   },
   {
    "duration": 6,
    "start_time": "2025-03-27T19:19:06.851Z"
   },
   {
    "duration": 6,
    "start_time": "2025-03-27T19:19:06.858Z"
   },
   {
    "duration": 4,
    "start_time": "2025-03-27T19:19:06.866Z"
   },
   {
    "duration": 10,
    "start_time": "2025-03-27T19:19:06.871Z"
   },
   {
    "duration": 11,
    "start_time": "2025-03-27T19:19:06.882Z"
   },
   {
    "duration": 51,
    "start_time": "2025-03-27T19:19:06.895Z"
   },
   {
    "duration": 16,
    "start_time": "2025-03-27T19:19:06.947Z"
   },
   {
    "duration": 6,
    "start_time": "2025-03-27T19:19:06.965Z"
   },
   {
    "duration": 692,
    "start_time": "2025-03-27T19:19:06.974Z"
   },
   {
    "duration": 8,
    "start_time": "2025-03-27T19:19:07.668Z"
   },
   {
    "duration": 9,
    "start_time": "2025-03-27T19:19:07.678Z"
   },
   {
    "duration": 14,
    "start_time": "2025-03-27T19:19:07.689Z"
   },
   {
    "duration": 2,
    "start_time": "2025-03-27T19:19:07.705Z"
   },
   {
    "duration": 3,
    "start_time": "2025-03-27T19:19:07.709Z"
   },
   {
    "duration": 34,
    "start_time": "2025-03-27T19:19:07.713Z"
   },
   {
    "duration": 12,
    "start_time": "2025-03-27T19:19:07.748Z"
   },
   {
    "duration": 789,
    "start_time": "2025-03-27T19:19:07.762Z"
   },
   {
    "duration": 4,
    "start_time": "2025-03-27T19:19:08.553Z"
   },
   {
    "duration": 134,
    "start_time": "2025-03-27T19:19:08.559Z"
   },
   {
    "duration": 5,
    "start_time": "2025-03-27T19:19:08.694Z"
   },
   {
    "duration": 143,
    "start_time": "2025-03-27T19:19:08.701Z"
   },
   {
    "duration": 5,
    "start_time": "2025-03-27T19:19:08.845Z"
   },
   {
    "duration": 141,
    "start_time": "2025-03-27T19:19:08.851Z"
   },
   {
    "duration": 4,
    "start_time": "2025-03-27T19:19:08.994Z"
   },
   {
    "duration": 166,
    "start_time": "2025-03-27T19:19:09.000Z"
   },
   {
    "duration": 6,
    "start_time": "2025-03-27T19:19:09.168Z"
   },
   {
    "duration": 155,
    "start_time": "2025-03-27T19:19:09.177Z"
   },
   {
    "duration": 14,
    "start_time": "2025-03-27T19:19:09.333Z"
   },
   {
    "duration": 8,
    "start_time": "2025-03-27T19:19:09.349Z"
   },
   {
    "duration": 7,
    "start_time": "2025-03-27T19:19:09.359Z"
   },
   {
    "duration": 561,
    "start_time": "2025-03-27T19:19:09.368Z"
   },
   {
    "duration": 0,
    "start_time": "2025-03-27T19:19:09.931Z"
   },
   {
    "duration": 0,
    "start_time": "2025-03-27T19:19:09.932Z"
   },
   {
    "duration": 0,
    "start_time": "2025-03-27T19:19:09.942Z"
   },
   {
    "duration": 0,
    "start_time": "2025-03-27T19:19:09.943Z"
   },
   {
    "duration": 49,
    "start_time": "2025-03-27T19:22:02.859Z"
   },
   {
    "duration": 351,
    "start_time": "2025-03-27T19:27:13.815Z"
   },
   {
    "duration": 16,
    "start_time": "2025-03-27T19:27:14.168Z"
   },
   {
    "duration": 8,
    "start_time": "2025-03-27T19:27:14.186Z"
   },
   {
    "duration": 22,
    "start_time": "2025-03-27T19:27:14.196Z"
   },
   {
    "duration": 25,
    "start_time": "2025-03-27T19:27:14.220Z"
   },
   {
    "duration": 7,
    "start_time": "2025-03-27T19:27:14.246Z"
   },
   {
    "duration": 13,
    "start_time": "2025-03-27T19:27:14.255Z"
   },
   {
    "duration": 9,
    "start_time": "2025-03-27T19:27:14.269Z"
   },
   {
    "duration": 6,
    "start_time": "2025-03-27T19:27:14.280Z"
   },
   {
    "duration": 7,
    "start_time": "2025-03-27T19:27:14.288Z"
   },
   {
    "duration": 5,
    "start_time": "2025-03-27T19:27:14.297Z"
   },
   {
    "duration": 52,
    "start_time": "2025-03-27T19:27:14.304Z"
   },
   {
    "duration": 5,
    "start_time": "2025-03-27T19:27:14.358Z"
   },
   {
    "duration": 10,
    "start_time": "2025-03-27T19:27:14.366Z"
   },
   {
    "duration": 5,
    "start_time": "2025-03-27T19:27:14.378Z"
   },
   {
    "duration": 7,
    "start_time": "2025-03-27T19:27:14.384Z"
   },
   {
    "duration": 4,
    "start_time": "2025-03-27T19:27:14.392Z"
   },
   {
    "duration": 45,
    "start_time": "2025-03-27T19:27:14.397Z"
   },
   {
    "duration": 13,
    "start_time": "2025-03-27T19:27:14.443Z"
   },
   {
    "duration": 12,
    "start_time": "2025-03-27T19:27:14.457Z"
   },
   {
    "duration": 19,
    "start_time": "2025-03-27T19:27:14.470Z"
   },
   {
    "duration": 8,
    "start_time": "2025-03-27T19:27:14.490Z"
   },
   {
    "duration": 698,
    "start_time": "2025-03-27T19:27:14.500Z"
   },
   {
    "duration": 7,
    "start_time": "2025-03-27T19:27:15.200Z"
   },
   {
    "duration": 8,
    "start_time": "2025-03-27T19:27:15.209Z"
   },
   {
    "duration": 31,
    "start_time": "2025-03-27T19:27:15.219Z"
   },
   {
    "duration": 2,
    "start_time": "2025-03-27T19:27:15.252Z"
   },
   {
    "duration": 3,
    "start_time": "2025-03-27T19:27:15.258Z"
   },
   {
    "duration": 6,
    "start_time": "2025-03-27T19:27:15.263Z"
   },
   {
    "duration": 12,
    "start_time": "2025-03-27T19:27:15.271Z"
   },
   {
    "duration": 783,
    "start_time": "2025-03-27T19:27:15.284Z"
   },
   {
    "duration": 4,
    "start_time": "2025-03-27T19:27:16.069Z"
   },
   {
    "duration": 133,
    "start_time": "2025-03-27T19:27:16.075Z"
   },
   {
    "duration": 4,
    "start_time": "2025-03-27T19:27:16.210Z"
   },
   {
    "duration": 165,
    "start_time": "2025-03-27T19:27:16.216Z"
   },
   {
    "duration": 5,
    "start_time": "2025-03-27T19:27:16.383Z"
   },
   {
    "duration": 142,
    "start_time": "2025-03-27T19:27:16.389Z"
   },
   {
    "duration": 13,
    "start_time": "2025-03-27T19:27:16.533Z"
   },
   {
    "duration": 169,
    "start_time": "2025-03-27T19:27:16.547Z"
   },
   {
    "duration": 6,
    "start_time": "2025-03-27T19:27:16.718Z"
   },
   {
    "duration": 157,
    "start_time": "2025-03-27T19:27:16.728Z"
   },
   {
    "duration": 9,
    "start_time": "2025-03-27T19:27:16.886Z"
   },
   {
    "duration": 8,
    "start_time": "2025-03-27T19:27:16.896Z"
   },
   {
    "duration": 8,
    "start_time": "2025-03-27T19:27:16.906Z"
   },
   {
    "duration": 573,
    "start_time": "2025-03-27T19:27:16.915Z"
   },
   {
    "duration": 0,
    "start_time": "2025-03-27T19:27:17.489Z"
   },
   {
    "duration": 0,
    "start_time": "2025-03-27T19:27:17.491Z"
   },
   {
    "duration": 0,
    "start_time": "2025-03-27T19:27:17.492Z"
   },
   {
    "duration": 0,
    "start_time": "2025-03-27T19:27:17.494Z"
   },
   {
    "duration": 170,
    "start_time": "2025-03-28T18:38:58.525Z"
   },
   {
    "duration": 361,
    "start_time": "2025-03-28T18:39:06.626Z"
   },
   {
    "duration": 16,
    "start_time": "2025-03-28T18:39:06.989Z"
   },
   {
    "duration": 9,
    "start_time": "2025-03-28T18:39:07.007Z"
   },
   {
    "duration": 24,
    "start_time": "2025-03-28T18:39:07.018Z"
   },
   {
    "duration": 5,
    "start_time": "2025-03-28T18:39:07.045Z"
   },
   {
    "duration": 36,
    "start_time": "2025-03-28T18:39:07.052Z"
   },
   {
    "duration": 13,
    "start_time": "2025-03-28T18:39:07.089Z"
   },
   {
    "duration": 10,
    "start_time": "2025-03-28T18:39:07.104Z"
   },
   {
    "duration": 7,
    "start_time": "2025-03-28T18:39:07.115Z"
   },
   {
    "duration": 8,
    "start_time": "2025-03-28T18:39:07.123Z"
   },
   {
    "duration": 5,
    "start_time": "2025-03-28T18:39:07.133Z"
   },
   {
    "duration": 52,
    "start_time": "2025-03-28T18:39:07.140Z"
   },
   {
    "duration": 8,
    "start_time": "2025-03-28T18:39:07.194Z"
   },
   {
    "duration": 12,
    "start_time": "2025-03-28T18:39:07.206Z"
   },
   {
    "duration": 4,
    "start_time": "2025-03-28T18:39:07.220Z"
   },
   {
    "duration": 8,
    "start_time": "2025-03-28T18:39:07.226Z"
   },
   {
    "duration": 5,
    "start_time": "2025-03-28T18:39:07.236Z"
   },
   {
    "duration": 10,
    "start_time": "2025-03-28T18:39:07.242Z"
   },
   {
    "duration": 44,
    "start_time": "2025-03-28T18:39:07.253Z"
   },
   {
    "duration": 14,
    "start_time": "2025-03-28T18:39:07.298Z"
   },
   {
    "duration": 18,
    "start_time": "2025-03-28T18:39:07.314Z"
   },
   {
    "duration": 8,
    "start_time": "2025-03-28T18:39:07.334Z"
   },
   {
    "duration": 2442,
    "start_time": "2025-03-28T18:39:07.344Z"
   },
   {
    "duration": 10,
    "start_time": "2025-03-28T18:39:09.789Z"
   },
   {
    "duration": 11,
    "start_time": "2025-03-28T18:39:09.801Z"
   },
   {
    "duration": 21,
    "start_time": "2025-03-28T18:39:09.814Z"
   },
   {
    "duration": 3,
    "start_time": "2025-03-28T18:39:09.836Z"
   },
   {
    "duration": 3,
    "start_time": "2025-03-28T18:39:09.841Z"
   },
   {
    "duration": 41,
    "start_time": "2025-03-28T18:39:09.846Z"
   },
   {
    "duration": 16,
    "start_time": "2025-03-28T18:39:09.890Z"
   },
   {
    "duration": 909,
    "start_time": "2025-03-28T18:39:09.908Z"
   },
   {
    "duration": 4,
    "start_time": "2025-03-28T18:39:10.818Z"
   },
   {
    "duration": 133,
    "start_time": "2025-03-28T18:39:10.824Z"
   },
   {
    "duration": 4,
    "start_time": "2025-03-28T18:39:10.959Z"
   },
   {
    "duration": 151,
    "start_time": "2025-03-28T18:39:10.964Z"
   },
   {
    "duration": 4,
    "start_time": "2025-03-28T18:39:11.117Z"
   },
   {
    "duration": 148,
    "start_time": "2025-03-28T18:39:11.123Z"
   },
   {
    "duration": 19,
    "start_time": "2025-03-28T18:39:11.273Z"
   },
   {
    "duration": 242,
    "start_time": "2025-03-28T18:39:11.294Z"
   },
   {
    "duration": 6,
    "start_time": "2025-03-28T18:39:11.538Z"
   },
   {
    "duration": 170,
    "start_time": "2025-03-28T18:39:11.548Z"
   },
   {
    "duration": 13,
    "start_time": "2025-03-28T18:39:11.722Z"
   },
   {
    "duration": 9,
    "start_time": "2025-03-28T18:39:11.738Z"
   },
   {
    "duration": 9,
    "start_time": "2025-03-28T18:39:11.748Z"
   },
   {
    "duration": 633,
    "start_time": "2025-03-28T18:39:11.759Z"
   },
   {
    "duration": 0,
    "start_time": "2025-03-28T18:39:12.397Z"
   },
   {
    "duration": 0,
    "start_time": "2025-03-28T18:39:12.402Z"
   },
   {
    "duration": 0,
    "start_time": "2025-03-28T18:39:12.403Z"
   },
   {
    "duration": 0,
    "start_time": "2025-03-28T18:39:12.404Z"
   },
   {
    "duration": 0,
    "start_time": "2025-03-28T18:39:12.407Z"
   },
   {
    "duration": 11,
    "start_time": "2025-03-28T18:39:14.154Z"
   },
   {
    "duration": 19,
    "start_time": "2025-03-28T18:41:12.971Z"
   },
   {
    "duration": 18,
    "start_time": "2025-03-28T18:41:24.471Z"
   },
   {
    "duration": 19,
    "start_time": "2025-03-28T18:41:31.543Z"
   },
   {
    "duration": 423,
    "start_time": "2025-03-28T18:41:38.789Z"
   },
   {
    "duration": 26,
    "start_time": "2025-03-28T18:41:39.218Z"
   },
   {
    "duration": 10,
    "start_time": "2025-03-28T18:41:39.246Z"
   },
   {
    "duration": 35,
    "start_time": "2025-03-28T18:41:39.258Z"
   },
   {
    "duration": 6,
    "start_time": "2025-03-28T18:41:39.297Z"
   },
   {
    "duration": 10,
    "start_time": "2025-03-28T18:41:39.306Z"
   },
   {
    "duration": 209,
    "start_time": "2025-03-28T18:41:39.319Z"
   },
   {
    "duration": 0,
    "start_time": "2025-03-28T18:41:39.532Z"
   },
   {
    "duration": 0,
    "start_time": "2025-03-28T18:41:39.533Z"
   },
   {
    "duration": 0,
    "start_time": "2025-03-28T18:41:39.534Z"
   },
   {
    "duration": 0,
    "start_time": "2025-03-28T18:41:39.535Z"
   },
   {
    "duration": 0,
    "start_time": "2025-03-28T18:41:39.536Z"
   },
   {
    "duration": 0,
    "start_time": "2025-03-28T18:41:39.537Z"
   },
   {
    "duration": 0,
    "start_time": "2025-03-28T18:41:39.538Z"
   },
   {
    "duration": 0,
    "start_time": "2025-03-28T18:41:39.539Z"
   },
   {
    "duration": 0,
    "start_time": "2025-03-28T18:41:39.540Z"
   },
   {
    "duration": 0,
    "start_time": "2025-03-28T18:41:39.541Z"
   },
   {
    "duration": 0,
    "start_time": "2025-03-28T18:41:39.542Z"
   },
   {
    "duration": 0,
    "start_time": "2025-03-28T18:41:39.543Z"
   },
   {
    "duration": 0,
    "start_time": "2025-03-28T18:41:39.544Z"
   },
   {
    "duration": 0,
    "start_time": "2025-03-28T18:41:39.545Z"
   },
   {
    "duration": 0,
    "start_time": "2025-03-28T18:41:39.546Z"
   },
   {
    "duration": 0,
    "start_time": "2025-03-28T18:41:39.547Z"
   },
   {
    "duration": 0,
    "start_time": "2025-03-28T18:41:39.548Z"
   },
   {
    "duration": 0,
    "start_time": "2025-03-28T18:41:39.549Z"
   },
   {
    "duration": 0,
    "start_time": "2025-03-28T18:41:39.550Z"
   },
   {
    "duration": 0,
    "start_time": "2025-03-28T18:41:39.551Z"
   },
   {
    "duration": 0,
    "start_time": "2025-03-28T18:41:39.552Z"
   },
   {
    "duration": 0,
    "start_time": "2025-03-28T18:41:39.552Z"
   },
   {
    "duration": 0,
    "start_time": "2025-03-28T18:41:39.554Z"
   },
   {
    "duration": 0,
    "start_time": "2025-03-28T18:41:39.587Z"
   },
   {
    "duration": 0,
    "start_time": "2025-03-28T18:41:39.589Z"
   },
   {
    "duration": 0,
    "start_time": "2025-03-28T18:41:39.590Z"
   },
   {
    "duration": 0,
    "start_time": "2025-03-28T18:41:39.591Z"
   },
   {
    "duration": 0,
    "start_time": "2025-03-28T18:41:39.592Z"
   },
   {
    "duration": 0,
    "start_time": "2025-03-28T18:41:39.593Z"
   },
   {
    "duration": 0,
    "start_time": "2025-03-28T18:41:39.594Z"
   },
   {
    "duration": 0,
    "start_time": "2025-03-28T18:41:39.595Z"
   },
   {
    "duration": 0,
    "start_time": "2025-03-28T18:41:39.597Z"
   },
   {
    "duration": 0,
    "start_time": "2025-03-28T18:41:39.598Z"
   },
   {
    "duration": 0,
    "start_time": "2025-03-28T18:41:39.599Z"
   },
   {
    "duration": 0,
    "start_time": "2025-03-28T18:41:39.600Z"
   },
   {
    "duration": 0,
    "start_time": "2025-03-28T18:41:39.602Z"
   },
   {
    "duration": 0,
    "start_time": "2025-03-28T18:41:39.603Z"
   },
   {
    "duration": 0,
    "start_time": "2025-03-28T18:41:39.604Z"
   },
   {
    "duration": 0,
    "start_time": "2025-03-28T18:41:39.606Z"
   },
   {
    "duration": 0,
    "start_time": "2025-03-28T18:41:39.607Z"
   },
   {
    "duration": 0,
    "start_time": "2025-03-28T18:41:39.608Z"
   },
   {
    "duration": 0,
    "start_time": "2025-03-28T18:41:39.609Z"
   },
   {
    "duration": 0,
    "start_time": "2025-03-28T18:41:39.610Z"
   },
   {
    "duration": 12,
    "start_time": "2025-03-28T18:42:51.790Z"
   },
   {
    "duration": 13,
    "start_time": "2025-03-28T18:43:05.740Z"
   },
   {
    "duration": 345,
    "start_time": "2025-03-28T18:43:23.078Z"
   },
   {
    "duration": 16,
    "start_time": "2025-03-28T18:43:23.426Z"
   },
   {
    "duration": 9,
    "start_time": "2025-03-28T18:43:23.443Z"
   },
   {
    "duration": 44,
    "start_time": "2025-03-28T18:43:23.453Z"
   },
   {
    "duration": 5,
    "start_time": "2025-03-28T18:43:23.500Z"
   },
   {
    "duration": 7,
    "start_time": "2025-03-28T18:43:23.506Z"
   },
   {
    "duration": 13,
    "start_time": "2025-03-28T18:43:23.515Z"
   },
   {
    "duration": 10,
    "start_time": "2025-03-28T18:43:23.529Z"
   },
   {
    "duration": 7,
    "start_time": "2025-03-28T18:43:23.540Z"
   },
   {
    "duration": 40,
    "start_time": "2025-03-28T18:43:23.548Z"
   },
   {
    "duration": 7,
    "start_time": "2025-03-28T18:43:23.590Z"
   },
   {
    "duration": 17,
    "start_time": "2025-03-28T18:43:23.598Z"
   },
   {
    "duration": 5,
    "start_time": "2025-03-28T18:43:23.617Z"
   },
   {
    "duration": 9,
    "start_time": "2025-03-28T18:43:23.625Z"
   },
   {
    "duration": 5,
    "start_time": "2025-03-28T18:43:23.635Z"
   },
   {
    "duration": 6,
    "start_time": "2025-03-28T18:43:23.641Z"
   },
   {
    "duration": 39,
    "start_time": "2025-03-28T18:43:23.649Z"
   },
   {
    "duration": 9,
    "start_time": "2025-03-28T18:43:23.693Z"
   },
   {
    "duration": 12,
    "start_time": "2025-03-28T18:43:23.704Z"
   },
   {
    "duration": 12,
    "start_time": "2025-03-28T18:43:23.717Z"
   },
   {
    "duration": 17,
    "start_time": "2025-03-28T18:43:23.731Z"
   },
   {
    "duration": 36,
    "start_time": "2025-03-28T18:43:23.750Z"
   },
   {
    "duration": 723,
    "start_time": "2025-03-28T18:43:23.788Z"
   },
   {
    "duration": 7,
    "start_time": "2025-03-28T18:43:24.513Z"
   },
   {
    "duration": 9,
    "start_time": "2025-03-28T18:43:24.522Z"
   },
   {
    "duration": 14,
    "start_time": "2025-03-28T18:43:24.532Z"
   },
   {
    "duration": 2,
    "start_time": "2025-03-28T18:43:24.548Z"
   },
   {
    "duration": 3,
    "start_time": "2025-03-28T18:43:24.551Z"
   },
   {
    "duration": 5,
    "start_time": "2025-03-28T18:43:24.555Z"
   },
   {
    "duration": 11,
    "start_time": "2025-03-28T18:43:24.562Z"
   },
   {
    "duration": 873,
    "start_time": "2025-03-28T18:43:24.574Z"
   },
   {
    "duration": 3,
    "start_time": "2025-03-28T18:43:25.450Z"
   },
   {
    "duration": 133,
    "start_time": "2025-03-28T18:43:25.455Z"
   },
   {
    "duration": 4,
    "start_time": "2025-03-28T18:43:25.589Z"
   },
   {
    "duration": 143,
    "start_time": "2025-03-28T18:43:25.595Z"
   },
   {
    "duration": 5,
    "start_time": "2025-03-28T18:43:25.740Z"
   },
   {
    "duration": 149,
    "start_time": "2025-03-28T18:43:25.746Z"
   },
   {
    "duration": 5,
    "start_time": "2025-03-28T18:43:25.897Z"
   },
   {
    "duration": 165,
    "start_time": "2025-03-28T18:43:25.904Z"
   },
   {
    "duration": 7,
    "start_time": "2025-03-28T18:43:26.071Z"
   },
   {
    "duration": 146,
    "start_time": "2025-03-28T18:43:26.090Z"
   },
   {
    "duration": 9,
    "start_time": "2025-03-28T18:43:26.238Z"
   },
   {
    "duration": 8,
    "start_time": "2025-03-28T18:43:26.249Z"
   },
   {
    "duration": 8,
    "start_time": "2025-03-28T18:43:26.258Z"
   },
   {
    "duration": 565,
    "start_time": "2025-03-28T18:43:26.268Z"
   },
   {
    "duration": 0,
    "start_time": "2025-03-28T18:43:26.835Z"
   },
   {
    "duration": 0,
    "start_time": "2025-03-28T18:43:26.836Z"
   },
   {
    "duration": 0,
    "start_time": "2025-03-28T18:43:26.837Z"
   },
   {
    "duration": 0,
    "start_time": "2025-03-28T18:43:26.839Z"
   },
   {
    "duration": 0,
    "start_time": "2025-03-28T18:43:26.840Z"
   },
   {
    "duration": 372,
    "start_time": "2025-03-28T18:55:17.201Z"
   },
   {
    "duration": 21,
    "start_time": "2025-03-28T18:55:17.575Z"
   },
   {
    "duration": 8,
    "start_time": "2025-03-28T18:55:17.598Z"
   },
   {
    "duration": 21,
    "start_time": "2025-03-28T18:55:17.608Z"
   },
   {
    "duration": 3,
    "start_time": "2025-03-28T18:55:17.633Z"
   },
   {
    "duration": 351,
    "start_time": "2025-03-28T18:55:17.638Z"
   },
   {
    "duration": 0,
    "start_time": "2025-03-28T18:55:17.991Z"
   },
   {
    "duration": 0,
    "start_time": "2025-03-28T18:55:17.993Z"
   },
   {
    "duration": 0,
    "start_time": "2025-03-28T18:55:17.994Z"
   },
   {
    "duration": 0,
    "start_time": "2025-03-28T18:55:17.995Z"
   },
   {
    "duration": 0,
    "start_time": "2025-03-28T18:55:17.996Z"
   },
   {
    "duration": 0,
    "start_time": "2025-03-28T18:55:17.997Z"
   },
   {
    "duration": 0,
    "start_time": "2025-03-28T18:55:17.998Z"
   },
   {
    "duration": 0,
    "start_time": "2025-03-28T18:55:17.999Z"
   },
   {
    "duration": 0,
    "start_time": "2025-03-28T18:55:18.000Z"
   },
   {
    "duration": 0,
    "start_time": "2025-03-28T18:55:18.001Z"
   },
   {
    "duration": 0,
    "start_time": "2025-03-28T18:55:18.002Z"
   },
   {
    "duration": 0,
    "start_time": "2025-03-28T18:55:18.003Z"
   },
   {
    "duration": 0,
    "start_time": "2025-03-28T18:55:18.004Z"
   },
   {
    "duration": 0,
    "start_time": "2025-03-28T18:55:18.005Z"
   },
   {
    "duration": 0,
    "start_time": "2025-03-28T18:55:18.005Z"
   },
   {
    "duration": 0,
    "start_time": "2025-03-28T18:55:18.006Z"
   },
   {
    "duration": 0,
    "start_time": "2025-03-28T18:55:18.007Z"
   },
   {
    "duration": 0,
    "start_time": "2025-03-28T18:55:18.008Z"
   },
   {
    "duration": 0,
    "start_time": "2025-03-28T18:55:18.009Z"
   },
   {
    "duration": 0,
    "start_time": "2025-03-28T18:55:18.010Z"
   },
   {
    "duration": 0,
    "start_time": "2025-03-28T18:55:18.011Z"
   },
   {
    "duration": 0,
    "start_time": "2025-03-28T18:55:18.012Z"
   },
   {
    "duration": 0,
    "start_time": "2025-03-28T18:55:18.013Z"
   },
   {
    "duration": 0,
    "start_time": "2025-03-28T18:55:18.013Z"
   },
   {
    "duration": 0,
    "start_time": "2025-03-28T18:55:18.015Z"
   },
   {
    "duration": 0,
    "start_time": "2025-03-28T18:55:18.016Z"
   },
   {
    "duration": 0,
    "start_time": "2025-03-28T18:55:18.017Z"
   },
   {
    "duration": 0,
    "start_time": "2025-03-28T18:55:18.018Z"
   },
   {
    "duration": 0,
    "start_time": "2025-03-28T18:55:18.019Z"
   },
   {
    "duration": 0,
    "start_time": "2025-03-28T18:55:18.020Z"
   },
   {
    "duration": 0,
    "start_time": "2025-03-28T18:55:18.021Z"
   },
   {
    "duration": 0,
    "start_time": "2025-03-28T18:55:18.022Z"
   },
   {
    "duration": 0,
    "start_time": "2025-03-28T18:55:18.023Z"
   },
   {
    "duration": 0,
    "start_time": "2025-03-28T18:55:18.023Z"
   },
   {
    "duration": 0,
    "start_time": "2025-03-28T18:55:18.086Z"
   },
   {
    "duration": 0,
    "start_time": "2025-03-28T18:55:18.087Z"
   },
   {
    "duration": 0,
    "start_time": "2025-03-28T18:55:18.089Z"
   },
   {
    "duration": 0,
    "start_time": "2025-03-28T18:55:18.090Z"
   },
   {
    "duration": 0,
    "start_time": "2025-03-28T18:55:18.092Z"
   },
   {
    "duration": 0,
    "start_time": "2025-03-28T18:55:18.093Z"
   },
   {
    "duration": 0,
    "start_time": "2025-03-28T18:55:18.094Z"
   },
   {
    "duration": 0,
    "start_time": "2025-03-28T18:55:18.095Z"
   },
   {
    "duration": 0,
    "start_time": "2025-03-28T18:55:18.096Z"
   },
   {
    "duration": 0,
    "start_time": "2025-03-28T18:55:18.098Z"
   },
   {
    "duration": 374,
    "start_time": "2025-03-28T18:56:43.925Z"
   },
   {
    "duration": 16,
    "start_time": "2025-03-28T18:56:44.301Z"
   },
   {
    "duration": 8,
    "start_time": "2025-03-28T18:56:44.319Z"
   },
   {
    "duration": 22,
    "start_time": "2025-03-28T18:56:44.328Z"
   },
   {
    "duration": 3,
    "start_time": "2025-03-28T18:56:44.353Z"
   },
   {
    "duration": 2,
    "start_time": "2025-03-28T18:56:44.386Z"
   },
   {
    "duration": 315,
    "start_time": "2025-03-28T18:56:44.389Z"
   },
   {
    "duration": 0,
    "start_time": "2025-03-28T18:56:44.707Z"
   },
   {
    "duration": 0,
    "start_time": "2025-03-28T18:56:44.709Z"
   },
   {
    "duration": 0,
    "start_time": "2025-03-28T18:56:44.711Z"
   },
   {
    "duration": 0,
    "start_time": "2025-03-28T18:56:44.712Z"
   },
   {
    "duration": 0,
    "start_time": "2025-03-28T18:56:44.713Z"
   },
   {
    "duration": 0,
    "start_time": "2025-03-28T18:56:44.715Z"
   },
   {
    "duration": 0,
    "start_time": "2025-03-28T18:56:44.716Z"
   },
   {
    "duration": 0,
    "start_time": "2025-03-28T18:56:44.717Z"
   },
   {
    "duration": 0,
    "start_time": "2025-03-28T18:56:44.718Z"
   },
   {
    "duration": 0,
    "start_time": "2025-03-28T18:56:44.719Z"
   },
   {
    "duration": 0,
    "start_time": "2025-03-28T18:56:44.720Z"
   },
   {
    "duration": 0,
    "start_time": "2025-03-28T18:56:44.721Z"
   },
   {
    "duration": 0,
    "start_time": "2025-03-28T18:56:44.722Z"
   },
   {
    "duration": 0,
    "start_time": "2025-03-28T18:56:44.724Z"
   },
   {
    "duration": 0,
    "start_time": "2025-03-28T18:56:44.725Z"
   },
   {
    "duration": 0,
    "start_time": "2025-03-28T18:56:44.726Z"
   },
   {
    "duration": 0,
    "start_time": "2025-03-28T18:56:44.727Z"
   },
   {
    "duration": 0,
    "start_time": "2025-03-28T18:56:44.728Z"
   },
   {
    "duration": 0,
    "start_time": "2025-03-28T18:56:44.729Z"
   },
   {
    "duration": 0,
    "start_time": "2025-03-28T18:56:44.730Z"
   },
   {
    "duration": 0,
    "start_time": "2025-03-28T18:56:44.731Z"
   },
   {
    "duration": 0,
    "start_time": "2025-03-28T18:56:44.732Z"
   },
   {
    "duration": 0,
    "start_time": "2025-03-28T18:56:44.733Z"
   },
   {
    "duration": 0,
    "start_time": "2025-03-28T18:56:44.734Z"
   },
   {
    "duration": 0,
    "start_time": "2025-03-28T18:56:44.735Z"
   },
   {
    "duration": 0,
    "start_time": "2025-03-28T18:56:44.736Z"
   },
   {
    "duration": 0,
    "start_time": "2025-03-28T18:56:44.737Z"
   },
   {
    "duration": 0,
    "start_time": "2025-03-28T18:56:44.738Z"
   },
   {
    "duration": 0,
    "start_time": "2025-03-28T18:56:44.787Z"
   },
   {
    "duration": 0,
    "start_time": "2025-03-28T18:56:44.788Z"
   },
   {
    "duration": 0,
    "start_time": "2025-03-28T18:56:44.789Z"
   },
   {
    "duration": 0,
    "start_time": "2025-03-28T18:56:44.790Z"
   },
   {
    "duration": 0,
    "start_time": "2025-03-28T18:56:44.791Z"
   },
   {
    "duration": 1,
    "start_time": "2025-03-28T18:56:44.792Z"
   },
   {
    "duration": 0,
    "start_time": "2025-03-28T18:56:44.794Z"
   },
   {
    "duration": 0,
    "start_time": "2025-03-28T18:56:44.795Z"
   },
   {
    "duration": 0,
    "start_time": "2025-03-28T18:56:44.796Z"
   },
   {
    "duration": 0,
    "start_time": "2025-03-28T18:56:44.797Z"
   },
   {
    "duration": 0,
    "start_time": "2025-03-28T18:56:44.798Z"
   },
   {
    "duration": 0,
    "start_time": "2025-03-28T18:56:44.799Z"
   },
   {
    "duration": 0,
    "start_time": "2025-03-28T18:56:44.800Z"
   },
   {
    "duration": 0,
    "start_time": "2025-03-28T18:56:44.801Z"
   },
   {
    "duration": 0,
    "start_time": "2025-03-28T18:56:44.803Z"
   },
   {
    "duration": 344,
    "start_time": "2025-03-28T18:57:50.083Z"
   },
   {
    "duration": 16,
    "start_time": "2025-03-28T18:57:50.429Z"
   },
   {
    "duration": 9,
    "start_time": "2025-03-28T18:57:50.446Z"
   },
   {
    "duration": 42,
    "start_time": "2025-03-28T18:57:50.457Z"
   },
   {
    "duration": 2,
    "start_time": "2025-03-28T18:57:50.503Z"
   },
   {
    "duration": 4,
    "start_time": "2025-03-28T18:57:50.506Z"
   },
   {
    "duration": 217,
    "start_time": "2025-03-28T18:57:50.511Z"
   },
   {
    "duration": 0,
    "start_time": "2025-03-28T18:57:50.731Z"
   },
   {
    "duration": 0,
    "start_time": "2025-03-28T18:57:50.732Z"
   },
   {
    "duration": 0,
    "start_time": "2025-03-28T18:57:50.734Z"
   },
   {
    "duration": 0,
    "start_time": "2025-03-28T18:57:50.735Z"
   },
   {
    "duration": 0,
    "start_time": "2025-03-28T18:57:50.736Z"
   },
   {
    "duration": 0,
    "start_time": "2025-03-28T18:57:50.738Z"
   },
   {
    "duration": 0,
    "start_time": "2025-03-28T18:57:50.739Z"
   },
   {
    "duration": 0,
    "start_time": "2025-03-28T18:57:50.740Z"
   },
   {
    "duration": 0,
    "start_time": "2025-03-28T18:57:50.741Z"
   },
   {
    "duration": 0,
    "start_time": "2025-03-28T18:57:50.742Z"
   },
   {
    "duration": 0,
    "start_time": "2025-03-28T18:57:50.743Z"
   },
   {
    "duration": 0,
    "start_time": "2025-03-28T18:57:50.744Z"
   },
   {
    "duration": 0,
    "start_time": "2025-03-28T18:57:50.745Z"
   },
   {
    "duration": 0,
    "start_time": "2025-03-28T18:57:50.746Z"
   },
   {
    "duration": 0,
    "start_time": "2025-03-28T18:57:50.748Z"
   },
   {
    "duration": 0,
    "start_time": "2025-03-28T18:57:50.750Z"
   },
   {
    "duration": 0,
    "start_time": "2025-03-28T18:57:50.786Z"
   },
   {
    "duration": 0,
    "start_time": "2025-03-28T18:57:50.787Z"
   },
   {
    "duration": 0,
    "start_time": "2025-03-28T18:57:50.788Z"
   },
   {
    "duration": 0,
    "start_time": "2025-03-28T18:57:50.790Z"
   },
   {
    "duration": 0,
    "start_time": "2025-03-28T18:57:50.791Z"
   },
   {
    "duration": 0,
    "start_time": "2025-03-28T18:57:50.792Z"
   },
   {
    "duration": 0,
    "start_time": "2025-03-28T18:57:50.793Z"
   },
   {
    "duration": 0,
    "start_time": "2025-03-28T18:57:50.795Z"
   },
   {
    "duration": 0,
    "start_time": "2025-03-28T18:57:50.796Z"
   },
   {
    "duration": 0,
    "start_time": "2025-03-28T18:57:50.797Z"
   },
   {
    "duration": 0,
    "start_time": "2025-03-28T18:57:50.798Z"
   },
   {
    "duration": 0,
    "start_time": "2025-03-28T18:57:50.799Z"
   },
   {
    "duration": 0,
    "start_time": "2025-03-28T18:57:50.800Z"
   },
   {
    "duration": 0,
    "start_time": "2025-03-28T18:57:50.801Z"
   },
   {
    "duration": 0,
    "start_time": "2025-03-28T18:57:50.801Z"
   },
   {
    "duration": 0,
    "start_time": "2025-03-28T18:57:50.802Z"
   },
   {
    "duration": 0,
    "start_time": "2025-03-28T18:57:50.803Z"
   },
   {
    "duration": 0,
    "start_time": "2025-03-28T18:57:50.804Z"
   },
   {
    "duration": 0,
    "start_time": "2025-03-28T18:57:50.805Z"
   },
   {
    "duration": 0,
    "start_time": "2025-03-28T18:57:50.806Z"
   },
   {
    "duration": 0,
    "start_time": "2025-03-28T18:57:50.807Z"
   },
   {
    "duration": 0,
    "start_time": "2025-03-28T18:57:50.808Z"
   },
   {
    "duration": 0,
    "start_time": "2025-03-28T18:57:50.809Z"
   },
   {
    "duration": 0,
    "start_time": "2025-03-28T18:57:50.811Z"
   },
   {
    "duration": 0,
    "start_time": "2025-03-28T18:57:50.812Z"
   },
   {
    "duration": 0,
    "start_time": "2025-03-28T18:57:50.813Z"
   },
   {
    "duration": 0,
    "start_time": "2025-03-28T18:57:50.815Z"
   },
   {
    "duration": 415,
    "start_time": "2025-03-28T18:58:27.462Z"
   },
   {
    "duration": 18,
    "start_time": "2025-03-28T18:58:33.006Z"
   },
   {
    "duration": 9,
    "start_time": "2025-03-28T18:58:36.799Z"
   },
   {
    "duration": 23,
    "start_time": "2025-03-28T18:58:41.944Z"
   },
   {
    "duration": 6,
    "start_time": "2025-03-28T18:58:53.451Z"
   },
   {
    "duration": 311,
    "start_time": "2025-03-28T19:00:09.256Z"
   },
   {
    "duration": 26,
    "start_time": "2025-03-28T19:00:30.849Z"
   },
   {
    "duration": 343,
    "start_time": "2025-03-28T19:01:35.384Z"
   },
   {
    "duration": 16,
    "start_time": "2025-03-28T19:01:38.629Z"
   },
   {
    "duration": 9,
    "start_time": "2025-03-28T19:01:41.768Z"
   },
   {
    "duration": 24,
    "start_time": "2025-03-28T19:01:44.674Z"
   },
   {
    "duration": 4,
    "start_time": "2025-03-28T19:01:47.295Z"
   },
   {
    "duration": 307,
    "start_time": "2025-03-28T19:01:49.911Z"
   },
   {
    "duration": 13,
    "start_time": "2025-03-28T19:02:50.842Z"
   },
   {
    "duration": 11,
    "start_time": "2025-03-28T19:02:54.893Z"
   },
   {
    "duration": 350,
    "start_time": "2025-03-28T19:03:41.119Z"
   },
   {
    "duration": 22,
    "start_time": "2025-03-28T19:03:44.260Z"
   },
   {
    "duration": 10,
    "start_time": "2025-03-28T19:03:47.363Z"
   },
   {
    "duration": 24,
    "start_time": "2025-03-28T19:03:49.813Z"
   },
   {
    "duration": 6,
    "start_time": "2025-03-28T19:03:52.209Z"
   },
   {
    "duration": 10,
    "start_time": "2025-03-28T19:04:05.156Z"
   },
   {
    "duration": 4,
    "start_time": "2025-03-28T19:04:21.822Z"
   },
   {
    "duration": 3,
    "start_time": "2025-03-28T19:04:35.803Z"
   },
   {
    "duration": 103,
    "start_time": "2025-03-28T19:04:52.060Z"
   },
   {
    "duration": 232,
    "start_time": "2025-03-28T19:05:02.435Z"
   },
   {
    "duration": 28,
    "start_time": "2025-03-28T19:05:07.055Z"
   },
   {
    "duration": 331,
    "start_time": "2025-03-28T19:05:19.741Z"
   },
   {
    "duration": 16,
    "start_time": "2025-03-28T19:05:23.262Z"
   },
   {
    "duration": 9,
    "start_time": "2025-03-28T19:05:27.382Z"
   },
   {
    "duration": 22,
    "start_time": "2025-03-28T19:05:30.032Z"
   },
   {
    "duration": 7,
    "start_time": "2025-03-28T19:05:32.790Z"
   },
   {
    "duration": 12,
    "start_time": "2025-03-28T19:05:35.507Z"
   },
   {
    "duration": 4,
    "start_time": "2025-03-28T19:05:38.041Z"
   },
   {
    "duration": 5,
    "start_time": "2025-03-28T19:05:40.353Z"
   },
   {
    "duration": 24,
    "start_time": "2025-03-28T19:05:50.480Z"
   },
   {
    "duration": 342,
    "start_time": "2025-03-28T19:07:21.052Z"
   },
   {
    "duration": 16,
    "start_time": "2025-03-28T19:07:24.713Z"
   },
   {
    "duration": 10,
    "start_time": "2025-03-28T19:07:27.890Z"
   },
   {
    "duration": 23,
    "start_time": "2025-03-28T19:07:31.830Z"
   },
   {
    "duration": 7,
    "start_time": "2025-03-28T19:07:37.024Z"
   },
   {
    "duration": 11,
    "start_time": "2025-03-28T19:07:44.716Z"
   },
   {
    "duration": 5,
    "start_time": "2025-03-28T19:07:54.949Z"
   },
   {
    "duration": 4,
    "start_time": "2025-03-28T19:07:58.446Z"
   },
   {
    "duration": 11,
    "start_time": "2025-03-28T19:08:00.335Z"
   },
   {
    "duration": 199,
    "start_time": "2025-03-28T19:08:09.368Z"
   },
   {
    "duration": 4,
    "start_time": "2025-03-28T19:08:37.702Z"
   },
   {
    "duration": 328,
    "start_time": "2025-03-28T19:08:47.957Z"
   },
   {
    "duration": 17,
    "start_time": "2025-03-28T19:08:51.100Z"
   },
   {
    "duration": 12,
    "start_time": "2025-03-28T19:08:53.909Z"
   },
   {
    "duration": 24,
    "start_time": "2025-03-28T19:08:56.682Z"
   },
   {
    "duration": 3,
    "start_time": "2025-03-28T19:08:59.440Z"
   },
   {
    "duration": 12,
    "start_time": "2025-03-28T19:09:01.460Z"
   },
   {
    "duration": 5,
    "start_time": "2025-03-28T19:09:05.309Z"
   },
   {
    "duration": 4,
    "start_time": "2025-03-28T19:09:07.580Z"
   },
   {
    "duration": 11,
    "start_time": "2025-03-28T19:09:09.940Z"
   },
   {
    "duration": 14,
    "start_time": "2025-03-28T19:09:13.365Z"
   },
   {
    "duration": 10,
    "start_time": "2025-03-28T19:09:20.616Z"
   },
   {
    "duration": 7,
    "start_time": "2025-03-28T19:09:22.824Z"
   },
   {
    "duration": 7,
    "start_time": "2025-03-28T19:09:28.251Z"
   },
   {
    "duration": 4,
    "start_time": "2025-03-28T19:09:30.587Z"
   },
   {
    "duration": 12,
    "start_time": "2025-03-28T19:09:34.628Z"
   },
   {
    "duration": 7,
    "start_time": "2025-03-28T19:09:53.656Z"
   },
   {
    "duration": 11,
    "start_time": "2025-03-28T19:09:56.218Z"
   },
   {
    "duration": 7,
    "start_time": "2025-03-28T19:10:19.018Z"
   },
   {
    "duration": 12,
    "start_time": "2025-03-28T19:10:29.273Z"
   },
   {
    "duration": 13,
    "start_time": "2025-03-28T19:10:35.014Z"
   },
   {
    "duration": 13,
    "start_time": "2025-03-28T19:10:38.406Z"
   },
   {
    "duration": 21,
    "start_time": "2025-03-28T19:10:44.129Z"
   },
   {
    "duration": 10,
    "start_time": "2025-03-28T19:10:46.696Z"
   },
   {
    "duration": 661,
    "start_time": "2025-03-28T19:10:49.674Z"
   },
   {
    "duration": 8,
    "start_time": "2025-03-28T19:10:53.708Z"
   },
   {
    "duration": 10,
    "start_time": "2025-03-28T19:10:55.802Z"
   },
   {
    "duration": 15,
    "start_time": "2025-03-28T19:10:58.163Z"
   },
   {
    "duration": 6,
    "start_time": "2025-03-28T19:11:07.170Z"
   },
   {
    "duration": 14,
    "start_time": "2025-03-28T19:11:09.354Z"
   },
   {
    "duration": 766,
    "start_time": "2025-03-28T19:11:11.457Z"
   },
   {
    "duration": 4,
    "start_time": "2025-03-28T19:11:15.854Z"
   },
   {
    "duration": 132,
    "start_time": "2025-03-28T19:11:19.513Z"
   },
   {
    "duration": 4,
    "start_time": "2025-03-28T19:11:22.498Z"
   },
   {
    "duration": 136,
    "start_time": "2025-03-28T19:11:24.759Z"
   },
   {
    "duration": 5,
    "start_time": "2025-03-28T19:11:29.941Z"
   },
   {
    "duration": 133,
    "start_time": "2025-03-28T19:11:32.369Z"
   },
   {
    "duration": 5,
    "start_time": "2025-03-28T19:11:36.025Z"
   },
   {
    "duration": 150,
    "start_time": "2025-03-28T19:11:38.692Z"
   },
   {
    "duration": 6,
    "start_time": "2025-03-28T19:11:41.156Z"
   },
   {
    "duration": 140,
    "start_time": "2025-03-28T19:11:43.600Z"
   },
   {
    "duration": 9,
    "start_time": "2025-03-28T19:11:46.365Z"
   },
   {
    "duration": 9,
    "start_time": "2025-03-28T19:11:48.856Z"
   },
   {
    "duration": 8,
    "start_time": "2025-03-28T19:11:52.501Z"
   },
   {
    "duration": 544,
    "start_time": "2025-03-28T19:11:55.549Z"
   },
   {
    "duration": 3,
    "start_time": "2025-03-28T19:12:15.678Z"
   },
   {
    "duration": 5,
    "start_time": "2025-03-28T19:12:17.931Z"
   },
   {
    "duration": 5,
    "start_time": "2025-03-28T19:12:20.240Z"
   },
   {
    "duration": 47,
    "start_time": "2025-03-28T19:12:22.742Z"
   },
   {
    "duration": 347,
    "start_time": "2025-03-28T19:14:54.050Z"
   },
   {
    "duration": 18,
    "start_time": "2025-03-28T19:14:54.400Z"
   },
   {
    "duration": 10,
    "start_time": "2025-03-28T19:14:54.420Z"
   },
   {
    "duration": 25,
    "start_time": "2025-03-28T19:14:54.432Z"
   },
   {
    "duration": 31,
    "start_time": "2025-03-28T19:14:54.460Z"
   },
   {
    "duration": 189,
    "start_time": "2025-03-28T19:14:54.492Z"
   },
   {
    "duration": 0,
    "start_time": "2025-03-28T19:14:54.687Z"
   },
   {
    "duration": 0,
    "start_time": "2025-03-28T19:14:54.688Z"
   },
   {
    "duration": 0,
    "start_time": "2025-03-28T19:14:54.689Z"
   },
   {
    "duration": 0,
    "start_time": "2025-03-28T19:14:54.690Z"
   },
   {
    "duration": 0,
    "start_time": "2025-03-28T19:14:54.691Z"
   },
   {
    "duration": 0,
    "start_time": "2025-03-28T19:14:54.693Z"
   },
   {
    "duration": 0,
    "start_time": "2025-03-28T19:14:54.694Z"
   },
   {
    "duration": 0,
    "start_time": "2025-03-28T19:14:54.695Z"
   },
   {
    "duration": 0,
    "start_time": "2025-03-28T19:14:54.696Z"
   },
   {
    "duration": 0,
    "start_time": "2025-03-28T19:14:54.697Z"
   },
   {
    "duration": 0,
    "start_time": "2025-03-28T19:14:54.698Z"
   },
   {
    "duration": 0,
    "start_time": "2025-03-28T19:14:54.699Z"
   },
   {
    "duration": 0,
    "start_time": "2025-03-28T19:14:54.700Z"
   },
   {
    "duration": 0,
    "start_time": "2025-03-28T19:14:54.701Z"
   },
   {
    "duration": 0,
    "start_time": "2025-03-28T19:14:54.702Z"
   },
   {
    "duration": 0,
    "start_time": "2025-03-28T19:14:54.703Z"
   },
   {
    "duration": 0,
    "start_time": "2025-03-28T19:14:54.705Z"
   },
   {
    "duration": 0,
    "start_time": "2025-03-28T19:14:54.706Z"
   },
   {
    "duration": 0,
    "start_time": "2025-03-28T19:14:54.707Z"
   },
   {
    "duration": 0,
    "start_time": "2025-03-28T19:14:54.708Z"
   },
   {
    "duration": 0,
    "start_time": "2025-03-28T19:14:54.709Z"
   },
   {
    "duration": 0,
    "start_time": "2025-03-28T19:14:54.711Z"
   },
   {
    "duration": 0,
    "start_time": "2025-03-28T19:14:54.712Z"
   },
   {
    "duration": 0,
    "start_time": "2025-03-28T19:14:54.713Z"
   },
   {
    "duration": 0,
    "start_time": "2025-03-28T19:14:54.714Z"
   },
   {
    "duration": 0,
    "start_time": "2025-03-28T19:14:54.715Z"
   },
   {
    "duration": 0,
    "start_time": "2025-03-28T19:14:54.716Z"
   },
   {
    "duration": 0,
    "start_time": "2025-03-28T19:14:54.717Z"
   },
   {
    "duration": 0,
    "start_time": "2025-03-28T19:14:54.718Z"
   },
   {
    "duration": 0,
    "start_time": "2025-03-28T19:14:54.720Z"
   },
   {
    "duration": 0,
    "start_time": "2025-03-28T19:14:54.721Z"
   },
   {
    "duration": 0,
    "start_time": "2025-03-28T19:14:54.722Z"
   },
   {
    "duration": 0,
    "start_time": "2025-03-28T19:14:54.723Z"
   },
   {
    "duration": 0,
    "start_time": "2025-03-28T19:14:54.724Z"
   },
   {
    "duration": 1,
    "start_time": "2025-03-28T19:14:54.725Z"
   },
   {
    "duration": 0,
    "start_time": "2025-03-28T19:14:54.727Z"
   },
   {
    "duration": 0,
    "start_time": "2025-03-28T19:14:54.728Z"
   },
   {
    "duration": 0,
    "start_time": "2025-03-28T19:14:54.729Z"
   },
   {
    "duration": 0,
    "start_time": "2025-03-28T19:14:54.787Z"
   },
   {
    "duration": 0,
    "start_time": "2025-03-28T19:14:54.788Z"
   },
   {
    "duration": 0,
    "start_time": "2025-03-28T19:14:54.789Z"
   },
   {
    "duration": 0,
    "start_time": "2025-03-28T19:14:54.791Z"
   },
   {
    "duration": 0,
    "start_time": "2025-03-28T19:14:54.792Z"
   },
   {
    "duration": 0,
    "start_time": "2025-03-28T19:14:54.793Z"
   },
   {
    "duration": 0,
    "start_time": "2025-03-28T19:14:54.794Z"
   },
   {
    "duration": 13,
    "start_time": "2025-03-28T19:15:14.969Z"
   },
   {
    "duration": 350,
    "start_time": "2025-03-28T19:15:21.581Z"
   },
   {
    "duration": 17,
    "start_time": "2025-03-28T19:15:21.933Z"
   },
   {
    "duration": 9,
    "start_time": "2025-03-28T19:15:21.951Z"
   },
   {
    "duration": 43,
    "start_time": "2025-03-28T19:15:21.962Z"
   },
   {
    "duration": 3,
    "start_time": "2025-03-28T19:15:22.008Z"
   },
   {
    "duration": 10,
    "start_time": "2025-03-28T19:15:22.013Z"
   },
   {
    "duration": 5,
    "start_time": "2025-03-28T19:15:22.024Z"
   },
   {
    "duration": 4,
    "start_time": "2025-03-28T19:15:22.030Z"
   },
   {
    "duration": 11,
    "start_time": "2025-03-28T19:15:22.035Z"
   },
   {
    "duration": 42,
    "start_time": "2025-03-28T19:15:22.048Z"
   },
   {
    "duration": 12,
    "start_time": "2025-03-28T19:15:22.092Z"
   },
   {
    "duration": 6,
    "start_time": "2025-03-28T19:15:22.106Z"
   },
   {
    "duration": 7,
    "start_time": "2025-03-28T19:15:22.114Z"
   },
   {
    "duration": 5,
    "start_time": "2025-03-28T19:15:22.124Z"
   },
   {
    "duration": 10,
    "start_time": "2025-03-28T19:15:22.131Z"
   },
   {
    "duration": 5,
    "start_time": "2025-03-28T19:15:22.143Z"
   },
   {
    "duration": 45,
    "start_time": "2025-03-28T19:15:22.150Z"
   },
   {
    "duration": 2,
    "start_time": "2025-03-28T19:15:22.197Z"
   },
   {
    "duration": 6,
    "start_time": "2025-03-28T19:15:22.201Z"
   },
   {
    "duration": 2,
    "start_time": "2025-03-28T19:15:22.209Z"
   },
   {
    "duration": 12,
    "start_time": "2025-03-28T19:15:22.212Z"
   },
   {
    "duration": 12,
    "start_time": "2025-03-28T19:15:22.225Z"
   },
   {
    "duration": 50,
    "start_time": "2025-03-28T19:15:22.238Z"
   },
   {
    "duration": 18,
    "start_time": "2025-03-28T19:15:22.289Z"
   },
   {
    "duration": 7,
    "start_time": "2025-03-28T19:15:22.308Z"
   },
   {
    "duration": 689,
    "start_time": "2025-03-28T19:15:22.316Z"
   },
   {
    "duration": 7,
    "start_time": "2025-03-28T19:15:23.007Z"
   },
   {
    "duration": 9,
    "start_time": "2025-03-28T19:15:23.017Z"
   },
   {
    "duration": 14,
    "start_time": "2025-03-28T19:15:23.028Z"
   },
   {
    "duration": 5,
    "start_time": "2025-03-28T19:15:23.044Z"
   },
   {
    "duration": 39,
    "start_time": "2025-03-28T19:15:23.050Z"
   },
   {
    "duration": 824,
    "start_time": "2025-03-28T19:15:23.091Z"
   },
   {
    "duration": 5,
    "start_time": "2025-03-28T19:15:23.917Z"
   },
   {
    "duration": 139,
    "start_time": "2025-03-28T19:15:23.923Z"
   },
   {
    "duration": 4,
    "start_time": "2025-03-28T19:15:24.064Z"
   },
   {
    "duration": 151,
    "start_time": "2025-03-28T19:15:24.069Z"
   },
   {
    "duration": 4,
    "start_time": "2025-03-28T19:15:24.222Z"
   },
   {
    "duration": 146,
    "start_time": "2025-03-28T19:15:24.228Z"
   },
   {
    "duration": 12,
    "start_time": "2025-03-28T19:15:24.376Z"
   },
   {
    "duration": 161,
    "start_time": "2025-03-28T19:15:24.390Z"
   },
   {
    "duration": 6,
    "start_time": "2025-03-28T19:15:24.556Z"
   },
   {
    "duration": 154,
    "start_time": "2025-03-28T19:15:24.563Z"
   },
   {
    "duration": 8,
    "start_time": "2025-03-28T19:15:24.719Z"
   },
   {
    "duration": 7,
    "start_time": "2025-03-28T19:15:24.729Z"
   },
   {
    "duration": 8,
    "start_time": "2025-03-28T19:15:24.738Z"
   },
   {
    "duration": 658,
    "start_time": "2025-03-28T19:15:24.747Z"
   },
   {
    "duration": 0,
    "start_time": "2025-03-28T19:15:25.406Z"
   },
   {
    "duration": 0,
    "start_time": "2025-03-28T19:15:25.408Z"
   },
   {
    "duration": 0,
    "start_time": "2025-03-28T19:15:25.409Z"
   },
   {
    "duration": 0,
    "start_time": "2025-03-28T19:15:25.411Z"
   },
   {
    "duration": 1,
    "start_time": "2025-03-28T19:15:25.411Z"
   },
   {
    "duration": 17,
    "start_time": "2025-03-28T19:20:00.227Z"
   },
   {
    "duration": 6,
    "start_time": "2025-03-28T19:20:10.196Z"
   },
   {
    "duration": 5,
    "start_time": "2025-03-28T19:22:29.006Z"
   },
   {
    "duration": 4,
    "start_time": "2025-03-28T19:22:35.731Z"
   },
   {
    "duration": 6,
    "start_time": "2025-03-28T19:22:52.622Z"
   },
   {
    "duration": 4,
    "start_time": "2025-03-28T19:27:04.216Z"
   },
   {
    "duration": 7,
    "start_time": "2025-03-28T19:27:08.922Z"
   },
   {
    "duration": 17,
    "start_time": "2025-03-28T19:27:46.121Z"
   },
   {
    "duration": 6,
    "start_time": "2025-03-28T19:27:55.100Z"
   },
   {
    "duration": 354,
    "start_time": "2025-03-28T19:28:11.421Z"
   },
   {
    "duration": 25,
    "start_time": "2025-03-28T19:28:11.777Z"
   },
   {
    "duration": 10,
    "start_time": "2025-03-28T19:28:11.803Z"
   },
   {
    "duration": 22,
    "start_time": "2025-03-28T19:28:11.815Z"
   },
   {
    "duration": 4,
    "start_time": "2025-03-28T19:28:11.839Z"
   },
   {
    "duration": 9,
    "start_time": "2025-03-28T19:28:11.845Z"
   },
   {
    "duration": 33,
    "start_time": "2025-03-28T19:28:11.856Z"
   },
   {
    "duration": 6,
    "start_time": "2025-03-28T19:28:11.890Z"
   },
   {
    "duration": 7,
    "start_time": "2025-03-28T19:28:11.897Z"
   },
   {
    "duration": 2,
    "start_time": "2025-03-28T19:28:11.907Z"
   },
   {
    "duration": 9,
    "start_time": "2025-03-28T19:28:11.911Z"
   },
   {
    "duration": 13,
    "start_time": "2025-03-28T19:28:11.922Z"
   },
   {
    "duration": 10,
    "start_time": "2025-03-28T19:28:11.937Z"
   },
   {
    "duration": 43,
    "start_time": "2025-03-28T19:28:11.948Z"
   },
   {
    "duration": 9,
    "start_time": "2025-03-28T19:28:11.993Z"
   },
   {
    "duration": 4,
    "start_time": "2025-03-28T19:28:12.004Z"
   },
   {
    "duration": 15,
    "start_time": "2025-03-28T19:28:12.009Z"
   },
   {
    "duration": 5,
    "start_time": "2025-03-28T19:28:12.026Z"
   },
   {
    "duration": 9,
    "start_time": "2025-03-28T19:28:12.033Z"
   },
   {
    "duration": 43,
    "start_time": "2025-03-28T19:28:12.043Z"
   },
   {
    "duration": 7,
    "start_time": "2025-03-28T19:28:12.089Z"
   },
   {
    "duration": 2,
    "start_time": "2025-03-28T19:28:12.098Z"
   },
   {
    "duration": 12,
    "start_time": "2025-03-28T19:28:12.101Z"
   },
   {
    "duration": 12,
    "start_time": "2025-03-28T19:28:12.115Z"
   },
   {
    "duration": 12,
    "start_time": "2025-03-28T19:28:12.129Z"
   },
   {
    "duration": 45,
    "start_time": "2025-03-28T19:28:12.144Z"
   },
   {
    "duration": 7,
    "start_time": "2025-03-28T19:28:12.190Z"
   },
   {
    "duration": 674,
    "start_time": "2025-03-28T19:28:12.201Z"
   },
   {
    "duration": 14,
    "start_time": "2025-03-28T19:28:12.878Z"
   },
   {
    "duration": 9,
    "start_time": "2025-03-28T19:28:12.895Z"
   },
   {
    "duration": 14,
    "start_time": "2025-03-28T19:28:12.907Z"
   },
   {
    "duration": 5,
    "start_time": "2025-03-28T19:28:12.922Z"
   },
   {
    "duration": 12,
    "start_time": "2025-03-28T19:28:12.929Z"
   },
   {
    "duration": 841,
    "start_time": "2025-03-28T19:28:12.942Z"
   },
   {
    "duration": 5,
    "start_time": "2025-03-28T19:28:13.785Z"
   },
   {
    "duration": 152,
    "start_time": "2025-03-28T19:28:13.792Z"
   },
   {
    "duration": 4,
    "start_time": "2025-03-28T19:28:13.947Z"
   },
   {
    "duration": 147,
    "start_time": "2025-03-28T19:28:13.954Z"
   },
   {
    "duration": 5,
    "start_time": "2025-03-28T19:28:14.103Z"
   },
   {
    "duration": 145,
    "start_time": "2025-03-28T19:28:14.109Z"
   },
   {
    "duration": 5,
    "start_time": "2025-03-28T19:28:14.255Z"
   },
   {
    "duration": 167,
    "start_time": "2025-03-28T19:28:14.262Z"
   },
   {
    "duration": 6,
    "start_time": "2025-03-28T19:28:14.430Z"
   },
   {
    "duration": 155,
    "start_time": "2025-03-28T19:28:14.438Z"
   },
   {
    "duration": 8,
    "start_time": "2025-03-28T19:28:14.595Z"
   },
   {
    "duration": 7,
    "start_time": "2025-03-28T19:28:14.605Z"
   },
   {
    "duration": 7,
    "start_time": "2025-03-28T19:28:14.614Z"
   },
   {
    "duration": 579,
    "start_time": "2025-03-28T19:28:14.623Z"
   },
   {
    "duration": 0,
    "start_time": "2025-03-28T19:28:15.204Z"
   },
   {
    "duration": 0,
    "start_time": "2025-03-28T19:28:15.206Z"
   },
   {
    "duration": 0,
    "start_time": "2025-03-28T19:28:15.207Z"
   },
   {
    "duration": 0,
    "start_time": "2025-03-28T19:28:15.209Z"
   },
   {
    "duration": 0,
    "start_time": "2025-03-28T19:28:15.210Z"
   },
   {
    "duration": 5,
    "start_time": "2025-03-28T19:32:13.388Z"
   },
   {
    "duration": 400,
    "start_time": "2025-03-28T19:32:19.698Z"
   },
   {
    "duration": 15,
    "start_time": "2025-03-28T19:32:20.101Z"
   },
   {
    "duration": 9,
    "start_time": "2025-03-28T19:32:20.118Z"
   },
   {
    "duration": 22,
    "start_time": "2025-03-28T19:32:20.128Z"
   },
   {
    "duration": 4,
    "start_time": "2025-03-28T19:32:20.153Z"
   },
   {
    "duration": 10,
    "start_time": "2025-03-28T19:32:20.186Z"
   },
   {
    "duration": 5,
    "start_time": "2025-03-28T19:32:20.197Z"
   },
   {
    "duration": 5,
    "start_time": "2025-03-28T19:32:20.203Z"
   },
   {
    "duration": 6,
    "start_time": "2025-03-28T19:32:20.209Z"
   },
   {
    "duration": 3,
    "start_time": "2025-03-28T19:32:20.216Z"
   },
   {
    "duration": 10,
    "start_time": "2025-03-28T19:32:20.221Z"
   },
   {
    "duration": 13,
    "start_time": "2025-03-28T19:32:20.232Z"
   },
   {
    "duration": 46,
    "start_time": "2025-03-28T19:32:20.247Z"
   },
   {
    "duration": 6,
    "start_time": "2025-03-28T19:32:20.297Z"
   },
   {
    "duration": 7,
    "start_time": "2025-03-28T19:32:20.305Z"
   },
   {
    "duration": 5,
    "start_time": "2025-03-28T19:32:20.313Z"
   },
   {
    "duration": 15,
    "start_time": "2025-03-28T19:32:20.319Z"
   },
   {
    "duration": 9,
    "start_time": "2025-03-28T19:32:20.336Z"
   },
   {
    "duration": 42,
    "start_time": "2025-03-28T19:32:20.347Z"
   },
   {
    "duration": 2,
    "start_time": "2025-03-28T19:32:20.391Z"
   },
   {
    "duration": 6,
    "start_time": "2025-03-28T19:32:20.395Z"
   },
   {
    "duration": 2,
    "start_time": "2025-03-28T19:32:20.403Z"
   },
   {
    "duration": 9,
    "start_time": "2025-03-28T19:32:20.407Z"
   },
   {
    "duration": 11,
    "start_time": "2025-03-28T19:32:20.418Z"
   },
   {
    "duration": 11,
    "start_time": "2025-03-28T19:32:20.432Z"
   },
   {
    "duration": 57,
    "start_time": "2025-03-28T19:32:20.444Z"
   },
   {
    "duration": 7,
    "start_time": "2025-03-28T19:32:20.503Z"
   },
   {
    "duration": 714,
    "start_time": "2025-03-28T19:32:20.511Z"
   },
   {
    "duration": 9,
    "start_time": "2025-03-28T19:32:21.227Z"
   },
   {
    "duration": 9,
    "start_time": "2025-03-28T19:32:21.237Z"
   },
   {
    "duration": 15,
    "start_time": "2025-03-28T19:32:21.247Z"
   },
   {
    "duration": 26,
    "start_time": "2025-03-28T19:32:21.263Z"
   },
   {
    "duration": 12,
    "start_time": "2025-03-28T19:32:21.291Z"
   },
   {
    "duration": 802,
    "start_time": "2025-03-28T19:32:21.305Z"
   },
   {
    "duration": 5,
    "start_time": "2025-03-28T19:32:22.109Z"
   },
   {
    "duration": 140,
    "start_time": "2025-03-28T19:32:22.116Z"
   },
   {
    "duration": 4,
    "start_time": "2025-03-28T19:32:22.258Z"
   },
   {
    "duration": 144,
    "start_time": "2025-03-28T19:32:22.263Z"
   },
   {
    "duration": 4,
    "start_time": "2025-03-28T19:32:22.409Z"
   },
   {
    "duration": 147,
    "start_time": "2025-03-28T19:32:22.415Z"
   },
   {
    "duration": 4,
    "start_time": "2025-03-28T19:32:22.567Z"
   },
   {
    "duration": 179,
    "start_time": "2025-03-28T19:32:22.573Z"
   },
   {
    "duration": 7,
    "start_time": "2025-03-28T19:32:22.753Z"
   },
   {
    "duration": 152,
    "start_time": "2025-03-28T19:32:22.761Z"
   },
   {
    "duration": 9,
    "start_time": "2025-03-28T19:32:22.915Z"
   },
   {
    "duration": 8,
    "start_time": "2025-03-28T19:32:22.925Z"
   },
   {
    "duration": 9,
    "start_time": "2025-03-28T19:32:22.935Z"
   },
   {
    "duration": 642,
    "start_time": "2025-03-28T19:32:22.945Z"
   },
   {
    "duration": 0,
    "start_time": "2025-03-28T19:32:23.589Z"
   },
   {
    "duration": 1,
    "start_time": "2025-03-28T19:32:23.590Z"
   },
   {
    "duration": 0,
    "start_time": "2025-03-28T19:32:23.593Z"
   },
   {
    "duration": 0,
    "start_time": "2025-03-28T19:32:23.594Z"
   },
   {
    "duration": 0,
    "start_time": "2025-03-28T19:32:23.597Z"
   },
   {
    "duration": 347,
    "start_time": "2025-03-28T19:34:50.335Z"
   },
   {
    "duration": 20,
    "start_time": "2025-03-28T19:34:50.688Z"
   },
   {
    "duration": 11,
    "start_time": "2025-03-28T19:34:50.709Z"
   },
   {
    "duration": 23,
    "start_time": "2025-03-28T19:34:50.724Z"
   },
   {
    "duration": 7,
    "start_time": "2025-03-28T19:34:50.751Z"
   },
   {
    "duration": 31,
    "start_time": "2025-03-28T19:34:50.760Z"
   },
   {
    "duration": 4,
    "start_time": "2025-03-28T19:34:50.793Z"
   },
   {
    "duration": 5,
    "start_time": "2025-03-28T19:34:50.800Z"
   },
   {
    "duration": 6,
    "start_time": "2025-03-28T19:34:50.806Z"
   },
   {
    "duration": 4,
    "start_time": "2025-03-28T19:34:50.814Z"
   },
   {
    "duration": 4,
    "start_time": "2025-03-28T19:34:50.819Z"
   },
   {
    "duration": 10,
    "start_time": "2025-03-28T19:34:50.824Z"
   },
   {
    "duration": 14,
    "start_time": "2025-03-28T19:34:50.836Z"
   },
   {
    "duration": 10,
    "start_time": "2025-03-28T19:34:50.886Z"
   },
   {
    "duration": 7,
    "start_time": "2025-03-28T19:34:50.898Z"
   },
   {
    "duration": 7,
    "start_time": "2025-03-28T19:34:50.906Z"
   },
   {
    "duration": 5,
    "start_time": "2025-03-28T19:34:50.915Z"
   },
   {
    "duration": 16,
    "start_time": "2025-03-28T19:34:50.921Z"
   },
   {
    "duration": 7,
    "start_time": "2025-03-28T19:34:50.938Z"
   },
   {
    "duration": 48,
    "start_time": "2025-03-28T19:34:50.947Z"
   },
   {
    "duration": 2,
    "start_time": "2025-03-28T19:34:50.997Z"
   },
   {
    "duration": 6,
    "start_time": "2025-03-28T19:34:51.001Z"
   },
   {
    "duration": 2,
    "start_time": "2025-03-28T19:34:51.009Z"
   },
   {
    "duration": 11,
    "start_time": "2025-03-28T19:34:51.013Z"
   },
   {
    "duration": 11,
    "start_time": "2025-03-28T19:34:51.026Z"
   },
   {
    "duration": 12,
    "start_time": "2025-03-28T19:34:51.039Z"
   },
   {
    "duration": 19,
    "start_time": "2025-03-28T19:34:51.086Z"
   },
   {
    "duration": 7,
    "start_time": "2025-03-28T19:34:51.106Z"
   },
   {
    "duration": 700,
    "start_time": "2025-03-28T19:34:51.114Z"
   },
   {
    "duration": 10,
    "start_time": "2025-03-28T19:34:51.816Z"
   },
   {
    "duration": 11,
    "start_time": "2025-03-28T19:34:51.827Z"
   },
   {
    "duration": 16,
    "start_time": "2025-03-28T19:34:51.841Z"
   },
   {
    "duration": 28,
    "start_time": "2025-03-28T19:34:51.859Z"
   },
   {
    "duration": 12,
    "start_time": "2025-03-28T19:34:51.888Z"
   },
   {
    "duration": 798,
    "start_time": "2025-03-28T19:34:51.901Z"
   },
   {
    "duration": 4,
    "start_time": "2025-03-28T19:34:52.702Z"
   },
   {
    "duration": 131,
    "start_time": "2025-03-28T19:34:52.708Z"
   },
   {
    "duration": 5,
    "start_time": "2025-03-28T19:34:52.841Z"
   },
   {
    "duration": 156,
    "start_time": "2025-03-28T19:34:52.848Z"
   },
   {
    "duration": 4,
    "start_time": "2025-03-28T19:34:53.006Z"
   },
   {
    "duration": 166,
    "start_time": "2025-03-28T19:34:53.015Z"
   },
   {
    "duration": 7,
    "start_time": "2025-03-28T19:34:53.190Z"
   },
   {
    "duration": 163,
    "start_time": "2025-03-28T19:34:53.199Z"
   },
   {
    "duration": 6,
    "start_time": "2025-03-28T19:34:53.364Z"
   },
   {
    "duration": 156,
    "start_time": "2025-03-28T19:34:53.372Z"
   },
   {
    "duration": 9,
    "start_time": "2025-03-28T19:34:53.530Z"
   },
   {
    "duration": 8,
    "start_time": "2025-03-28T19:34:53.541Z"
   },
   {
    "duration": 8,
    "start_time": "2025-03-28T19:34:53.551Z"
   },
   {
    "duration": 620,
    "start_time": "2025-03-28T19:34:53.560Z"
   },
   {
    "duration": 0,
    "start_time": "2025-03-28T19:34:54.182Z"
   },
   {
    "duration": 0,
    "start_time": "2025-03-28T19:34:54.186Z"
   },
   {
    "duration": 0,
    "start_time": "2025-03-28T19:34:54.187Z"
   },
   {
    "duration": 0,
    "start_time": "2025-03-28T19:34:54.188Z"
   },
   {
    "duration": 0,
    "start_time": "2025-03-28T19:34:54.189Z"
   },
   {
    "duration": 6,
    "start_time": "2025-03-28T19:42:45.372Z"
   },
   {
    "duration": 5,
    "start_time": "2025-03-28T19:42:56.966Z"
   },
   {
    "duration": 6,
    "start_time": "2025-03-28T19:43:04.242Z"
   },
   {
    "duration": 6,
    "start_time": "2025-03-28T19:44:20.428Z"
   },
   {
    "duration": 6,
    "start_time": "2025-03-28T19:46:18.499Z"
   },
   {
    "duration": 6,
    "start_time": "2025-03-28T19:46:32.115Z"
   },
   {
    "duration": 49,
    "start_time": "2025-03-28T19:47:37.319Z"
   },
   {
    "duration": 7,
    "start_time": "2025-03-28T19:47:58.216Z"
   },
   {
    "duration": 6,
    "start_time": "2025-03-28T19:50:11.451Z"
   },
   {
    "duration": 6,
    "start_time": "2025-03-28T19:50:13.723Z"
   },
   {
    "duration": 14,
    "start_time": "2025-03-28T19:51:07.822Z"
   },
   {
    "duration": 6,
    "start_time": "2025-03-28T19:51:17.942Z"
   },
   {
    "duration": 4,
    "start_time": "2025-03-28T19:51:28.713Z"
   },
   {
    "duration": 10,
    "start_time": "2025-03-28T19:51:40.942Z"
   },
   {
    "duration": 6,
    "start_time": "2025-03-28T19:53:23.064Z"
   },
   {
    "duration": 333,
    "start_time": "2025-03-28T19:55:03.368Z"
   },
   {
    "duration": 16,
    "start_time": "2025-03-28T19:55:03.704Z"
   },
   {
    "duration": 9,
    "start_time": "2025-03-28T19:55:03.721Z"
   },
   {
    "duration": 23,
    "start_time": "2025-03-28T19:55:03.731Z"
   },
   {
    "duration": 35,
    "start_time": "2025-03-28T19:55:03.756Z"
   },
   {
    "duration": 12,
    "start_time": "2025-03-28T19:55:03.793Z"
   },
   {
    "duration": 3,
    "start_time": "2025-03-28T19:55:03.807Z"
   },
   {
    "duration": 15,
    "start_time": "2025-03-28T19:55:03.812Z"
   },
   {
    "duration": 5,
    "start_time": "2025-03-28T19:55:03.828Z"
   },
   {
    "duration": 9,
    "start_time": "2025-03-28T19:55:03.835Z"
   },
   {
    "duration": 6,
    "start_time": "2025-03-28T19:55:03.847Z"
   },
   {
    "duration": 39,
    "start_time": "2025-03-28T19:55:03.854Z"
   },
   {
    "duration": 4,
    "start_time": "2025-03-28T19:55:03.895Z"
   },
   {
    "duration": 15,
    "start_time": "2025-03-28T19:55:03.903Z"
   },
   {
    "duration": 6,
    "start_time": "2025-03-28T19:55:03.919Z"
   },
   {
    "duration": 9,
    "start_time": "2025-03-28T19:55:03.926Z"
   },
   {
    "duration": 2,
    "start_time": "2025-03-28T19:55:03.937Z"
   },
   {
    "duration": 6,
    "start_time": "2025-03-28T19:55:03.941Z"
   },
   {
    "duration": 39,
    "start_time": "2025-03-28T19:55:03.948Z"
   },
   {
    "duration": 10,
    "start_time": "2025-03-28T19:55:03.989Z"
   },
   {
    "duration": 13,
    "start_time": "2025-03-28T19:55:04.001Z"
   },
   {
    "duration": 12,
    "start_time": "2025-03-28T19:55:04.015Z"
   },
   {
    "duration": 19,
    "start_time": "2025-03-28T19:55:04.028Z"
   },
   {
    "duration": 6,
    "start_time": "2025-03-28T19:55:04.048Z"
   },
   {
    "duration": 685,
    "start_time": "2025-03-28T19:55:04.087Z"
   },
   {
    "duration": 13,
    "start_time": "2025-03-28T19:55:04.774Z"
   },
   {
    "duration": 10,
    "start_time": "2025-03-28T19:55:04.788Z"
   },
   {
    "duration": 14,
    "start_time": "2025-03-28T19:55:04.799Z"
   },
   {
    "duration": 5,
    "start_time": "2025-03-28T19:55:04.815Z"
   },
   {
    "duration": 11,
    "start_time": "2025-03-28T19:55:04.822Z"
   },
   {
    "duration": 817,
    "start_time": "2025-03-28T19:55:04.835Z"
   },
   {
    "duration": 4,
    "start_time": "2025-03-28T19:55:05.654Z"
   },
   {
    "duration": 133,
    "start_time": "2025-03-28T19:55:05.660Z"
   },
   {
    "duration": 3,
    "start_time": "2025-03-28T19:55:05.795Z"
   },
   {
    "duration": 144,
    "start_time": "2025-03-28T19:55:05.800Z"
   },
   {
    "duration": 4,
    "start_time": "2025-03-28T19:55:05.946Z"
   },
   {
    "duration": 150,
    "start_time": "2025-03-28T19:55:05.951Z"
   },
   {
    "duration": 4,
    "start_time": "2025-03-28T19:55:06.104Z"
   },
   {
    "duration": 185,
    "start_time": "2025-03-28T19:55:06.110Z"
   },
   {
    "duration": 5,
    "start_time": "2025-03-28T19:55:06.298Z"
   },
   {
    "duration": 163,
    "start_time": "2025-03-28T19:55:06.308Z"
   },
   {
    "duration": 18,
    "start_time": "2025-03-28T19:55:06.473Z"
   },
   {
    "duration": 9,
    "start_time": "2025-03-28T19:55:06.493Z"
   },
   {
    "duration": 9,
    "start_time": "2025-03-28T19:55:06.504Z"
   },
   {
    "duration": 578,
    "start_time": "2025-03-28T19:55:06.515Z"
   },
   {
    "duration": 0,
    "start_time": "2025-03-28T19:55:07.095Z"
   },
   {
    "duration": 0,
    "start_time": "2025-03-28T19:55:07.096Z"
   },
   {
    "duration": 0,
    "start_time": "2025-03-28T19:55:07.098Z"
   },
   {
    "duration": 0,
    "start_time": "2025-03-28T19:55:07.099Z"
   },
   {
    "duration": 0,
    "start_time": "2025-03-28T19:55:07.100Z"
   },
   {
    "duration": 339,
    "start_time": "2025-03-28T20:12:01.864Z"
   },
   {
    "duration": 16,
    "start_time": "2025-03-28T20:12:02.205Z"
   },
   {
    "duration": 10,
    "start_time": "2025-03-28T20:12:02.223Z"
   },
   {
    "duration": 22,
    "start_time": "2025-03-28T20:12:02.234Z"
   },
   {
    "duration": 29,
    "start_time": "2025-03-28T20:12:02.258Z"
   },
   {
    "duration": 11,
    "start_time": "2025-03-28T20:12:02.289Z"
   },
   {
    "duration": 3,
    "start_time": "2025-03-28T20:12:02.301Z"
   },
   {
    "duration": 13,
    "start_time": "2025-03-28T20:12:02.306Z"
   },
   {
    "duration": 5,
    "start_time": "2025-03-28T20:12:02.320Z"
   },
   {
    "duration": 10,
    "start_time": "2025-03-28T20:12:02.326Z"
   },
   {
    "duration": 6,
    "start_time": "2025-03-28T20:12:02.338Z"
   },
   {
    "duration": 44,
    "start_time": "2025-03-28T20:12:02.345Z"
   },
   {
    "duration": 5,
    "start_time": "2025-03-28T20:12:02.390Z"
   },
   {
    "duration": 14,
    "start_time": "2025-03-28T20:12:02.400Z"
   },
   {
    "duration": 5,
    "start_time": "2025-03-28T20:12:02.416Z"
   },
   {
    "duration": 8,
    "start_time": "2025-03-28T20:12:02.424Z"
   },
   {
    "duration": 6,
    "start_time": "2025-03-28T20:12:02.434Z"
   },
   {
    "duration": 45,
    "start_time": "2025-03-28T20:12:02.442Z"
   },
   {
    "duration": 12,
    "start_time": "2025-03-28T20:12:02.489Z"
   },
   {
    "duration": 12,
    "start_time": "2025-03-28T20:12:02.502Z"
   },
   {
    "duration": 17,
    "start_time": "2025-03-28T20:12:02.515Z"
   },
   {
    "duration": 7,
    "start_time": "2025-03-28T20:12:02.534Z"
   },
   {
    "duration": 718,
    "start_time": "2025-03-28T20:12:02.542Z"
   },
   {
    "duration": 8,
    "start_time": "2025-03-28T20:12:03.262Z"
   },
   {
    "duration": 18,
    "start_time": "2025-03-28T20:12:03.271Z"
   },
   {
    "duration": 16,
    "start_time": "2025-03-28T20:12:03.291Z"
   },
   {
    "duration": 5,
    "start_time": "2025-03-28T20:12:03.309Z"
   },
   {
    "duration": 12,
    "start_time": "2025-03-28T20:12:03.316Z"
   },
   {
    "duration": 798,
    "start_time": "2025-03-28T20:12:03.329Z"
   },
   {
    "duration": 4,
    "start_time": "2025-03-28T20:12:04.129Z"
   },
   {
    "duration": 143,
    "start_time": "2025-03-28T20:12:04.134Z"
   },
   {
    "duration": 7,
    "start_time": "2025-03-28T20:12:04.279Z"
   },
   {
    "duration": 150,
    "start_time": "2025-03-28T20:12:04.288Z"
   },
   {
    "duration": 5,
    "start_time": "2025-03-28T20:12:04.439Z"
   },
   {
    "duration": 148,
    "start_time": "2025-03-28T20:12:04.446Z"
   },
   {
    "duration": 4,
    "start_time": "2025-03-28T20:12:04.596Z"
   },
   {
    "duration": 171,
    "start_time": "2025-03-28T20:12:04.603Z"
   },
   {
    "duration": 10,
    "start_time": "2025-03-28T20:12:04.776Z"
   },
   {
    "duration": 152,
    "start_time": "2025-03-28T20:12:04.788Z"
   },
   {
    "duration": 8,
    "start_time": "2025-03-28T20:12:04.942Z"
   },
   {
    "duration": 8,
    "start_time": "2025-03-28T20:12:04.955Z"
   },
   {
    "duration": 25,
    "start_time": "2025-03-28T20:12:04.964Z"
   },
   {
    "duration": 562,
    "start_time": "2025-03-28T20:12:04.990Z"
   },
   {
    "duration": 0,
    "start_time": "2025-03-28T20:12:05.554Z"
   },
   {
    "duration": 0,
    "start_time": "2025-03-28T20:12:05.556Z"
   },
   {
    "duration": 0,
    "start_time": "2025-03-28T20:12:05.557Z"
   },
   {
    "duration": 0,
    "start_time": "2025-03-28T20:12:05.558Z"
   },
   {
    "duration": 371,
    "start_time": "2025-03-29T05:08:10.963Z"
   },
   {
    "duration": 15,
    "start_time": "2025-03-29T05:08:11.337Z"
   },
   {
    "duration": 9,
    "start_time": "2025-03-29T05:08:11.353Z"
   },
   {
    "duration": 42,
    "start_time": "2025-03-29T05:08:11.363Z"
   },
   {
    "duration": 4,
    "start_time": "2025-03-29T05:08:11.407Z"
   },
   {
    "duration": 10,
    "start_time": "2025-03-29T05:08:11.413Z"
   },
   {
    "duration": 3,
    "start_time": "2025-03-29T05:08:11.425Z"
   },
   {
    "duration": 13,
    "start_time": "2025-03-29T05:08:11.429Z"
   },
   {
    "duration": 5,
    "start_time": "2025-03-29T05:08:11.443Z"
   },
   {
    "duration": 9,
    "start_time": "2025-03-29T05:08:11.450Z"
   },
   {
    "duration": 6,
    "start_time": "2025-03-29T05:08:11.461Z"
   },
   {
    "duration": 8,
    "start_time": "2025-03-29T05:08:11.505Z"
   },
   {
    "duration": 6,
    "start_time": "2025-03-29T05:08:11.515Z"
   },
   {
    "duration": 15,
    "start_time": "2025-03-29T05:08:11.525Z"
   },
   {
    "duration": 6,
    "start_time": "2025-03-29T05:08:11.542Z"
   },
   {
    "duration": 9,
    "start_time": "2025-03-29T05:08:11.550Z"
   },
   {
    "duration": 45,
    "start_time": "2025-03-29T05:08:11.560Z"
   },
   {
    "duration": 9,
    "start_time": "2025-03-29T05:08:11.607Z"
   },
   {
    "duration": 13,
    "start_time": "2025-03-29T05:08:11.617Z"
   },
   {
    "duration": 11,
    "start_time": "2025-03-29T05:08:11.633Z"
   },
   {
    "duration": 17,
    "start_time": "2025-03-29T05:08:11.646Z"
   },
   {
    "duration": 7,
    "start_time": "2025-03-29T05:08:11.664Z"
   },
   {
    "duration": 2499,
    "start_time": "2025-03-29T05:08:11.673Z"
   },
   {
    "duration": 8,
    "start_time": "2025-03-29T05:08:14.175Z"
   },
   {
    "duration": 23,
    "start_time": "2025-03-29T05:08:14.186Z"
   },
   {
    "duration": 16,
    "start_time": "2025-03-29T05:08:14.211Z"
   },
   {
    "duration": 6,
    "start_time": "2025-03-29T05:08:14.229Z"
   },
   {
    "duration": 12,
    "start_time": "2025-03-29T05:08:14.236Z"
   },
   {
    "duration": 837,
    "start_time": "2025-03-29T05:08:14.250Z"
   },
   {
    "duration": 4,
    "start_time": "2025-03-29T05:08:15.089Z"
   },
   {
    "duration": 135,
    "start_time": "2025-03-29T05:08:15.095Z"
   },
   {
    "duration": 5,
    "start_time": "2025-03-29T05:08:15.232Z"
   },
   {
    "duration": 151,
    "start_time": "2025-03-29T05:08:15.239Z"
   },
   {
    "duration": 14,
    "start_time": "2025-03-29T05:08:15.392Z"
   },
   {
    "duration": 210,
    "start_time": "2025-03-29T05:08:15.407Z"
   },
   {
    "duration": 4,
    "start_time": "2025-03-29T05:08:15.620Z"
   },
   {
    "duration": 172,
    "start_time": "2025-03-29T05:08:15.626Z"
   },
   {
    "duration": 6,
    "start_time": "2025-03-29T05:08:15.805Z"
   },
   {
    "duration": 150,
    "start_time": "2025-03-29T05:08:15.813Z"
   },
   {
    "duration": 10,
    "start_time": "2025-03-29T05:08:15.965Z"
   },
   {
    "duration": 26,
    "start_time": "2025-03-29T05:08:15.980Z"
   },
   {
    "duration": 11,
    "start_time": "2025-03-29T05:08:16.008Z"
   },
   {
    "duration": 555,
    "start_time": "2025-03-29T05:08:24.582Z"
   },
   {
    "duration": 3,
    "start_time": "2025-03-29T05:08:28.358Z"
   },
   {
    "duration": 6,
    "start_time": "2025-03-29T05:08:30.932Z"
   },
   {
    "duration": 3,
    "start_time": "2025-03-29T05:08:32.043Z"
   },
   {
    "duration": 49,
    "start_time": "2025-03-29T05:08:33.636Z"
   },
   {
    "duration": 4,
    "start_time": "2025-03-29T05:09:05.997Z"
   },
   {
    "duration": 3,
    "start_time": "2025-03-29T05:09:19.229Z"
   },
   {
    "duration": 47,
    "start_time": "2025-03-29T05:11:02.739Z"
   },
   {
    "duration": 44,
    "start_time": "2025-03-29T05:11:57.461Z"
   },
   {
    "duration": 5,
    "start_time": "2025-03-29T05:12:37.264Z"
   },
   {
    "duration": 164,
    "start_time": "2025-03-31T18:21:27.034Z"
   },
   {
    "duration": 345,
    "start_time": "2025-03-31T18:21:43.874Z"
   },
   {
    "duration": 17,
    "start_time": "2025-03-31T18:21:44.221Z"
   },
   {
    "duration": 11,
    "start_time": "2025-03-31T18:21:44.240Z"
   },
   {
    "duration": 24,
    "start_time": "2025-03-31T18:21:44.253Z"
   },
   {
    "duration": 35,
    "start_time": "2025-03-31T18:21:44.280Z"
   },
   {
    "duration": 10,
    "start_time": "2025-03-31T18:21:44.316Z"
   },
   {
    "duration": 2,
    "start_time": "2025-03-31T18:21:44.328Z"
   },
   {
    "duration": 13,
    "start_time": "2025-03-31T18:21:44.332Z"
   },
   {
    "duration": 4,
    "start_time": "2025-03-31T18:21:44.347Z"
   },
   {
    "duration": 10,
    "start_time": "2025-03-31T18:21:44.353Z"
   },
   {
    "duration": 7,
    "start_time": "2025-03-31T18:21:44.364Z"
   },
   {
    "duration": 7,
    "start_time": "2025-03-31T18:21:44.412Z"
   },
   {
    "duration": 5,
    "start_time": "2025-03-31T18:21:44.421Z"
   },
   {
    "duration": 17,
    "start_time": "2025-03-31T18:21:44.430Z"
   },
   {
    "duration": 6,
    "start_time": "2025-03-31T18:21:44.448Z"
   },
   {
    "duration": 9,
    "start_time": "2025-03-31T18:21:44.455Z"
   },
   {
    "duration": 46,
    "start_time": "2025-03-31T18:21:44.466Z"
   },
   {
    "duration": 10,
    "start_time": "2025-03-31T18:21:44.513Z"
   },
   {
    "duration": 12,
    "start_time": "2025-03-31T18:21:44.525Z"
   },
   {
    "duration": 12,
    "start_time": "2025-03-31T18:21:44.538Z"
   },
   {
    "duration": 15,
    "start_time": "2025-03-31T18:21:44.552Z"
   },
   {
    "duration": 7,
    "start_time": "2025-03-31T18:21:44.569Z"
   },
   {
    "duration": 2493,
    "start_time": "2025-03-31T18:21:44.578Z"
   },
   {
    "duration": 8,
    "start_time": "2025-03-31T18:21:47.074Z"
   },
   {
    "duration": 9,
    "start_time": "2025-03-31T18:21:47.084Z"
   },
   {
    "duration": 32,
    "start_time": "2025-03-31T18:21:47.094Z"
   },
   {
    "duration": 6,
    "start_time": "2025-03-31T18:21:47.127Z"
   },
   {
    "duration": 11,
    "start_time": "2025-03-31T18:21:47.135Z"
   },
   {
    "duration": 788,
    "start_time": "2025-03-31T18:21:47.148Z"
   },
   {
    "duration": 4,
    "start_time": "2025-03-31T18:21:47.938Z"
   },
   {
    "duration": 140,
    "start_time": "2025-03-31T18:21:47.944Z"
   },
   {
    "duration": 3,
    "start_time": "2025-03-31T18:21:48.086Z"
   },
   {
    "duration": 148,
    "start_time": "2025-03-31T18:21:48.091Z"
   },
   {
    "duration": 4,
    "start_time": "2025-03-31T18:21:48.240Z"
   },
   {
    "duration": 143,
    "start_time": "2025-03-31T18:21:48.246Z"
   },
   {
    "duration": 4,
    "start_time": "2025-03-31T18:21:48.390Z"
   },
   {
    "duration": 251,
    "start_time": "2025-03-31T18:21:48.396Z"
   },
   {
    "duration": 6,
    "start_time": "2025-03-31T18:21:48.649Z"
   },
   {
    "duration": 149,
    "start_time": "2025-03-31T18:21:48.656Z"
   },
   {
    "duration": 13,
    "start_time": "2025-03-31T18:21:48.812Z"
   },
   {
    "duration": 8,
    "start_time": "2025-03-31T18:21:48.830Z"
   },
   {
    "duration": 8,
    "start_time": "2025-03-31T18:21:48.840Z"
   },
   {
    "duration": 8,
    "start_time": "2025-03-31T18:21:48.849Z"
   },
   {
    "duration": 3,
    "start_time": "2025-03-31T18:21:48.859Z"
   },
   {
    "duration": 5,
    "start_time": "2025-03-31T18:21:48.864Z"
   },
   {
    "duration": 44,
    "start_time": "2025-03-31T18:21:48.870Z"
   },
   {
    "duration": 587,
    "start_time": "2025-03-31T18:21:48.916Z"
   },
   {
    "duration": 5,
    "start_time": "2025-03-31T18:23:18.809Z"
   },
   {
    "duration": 6,
    "start_time": "2025-03-31T18:23:31.390Z"
   }
  ],
  "kernelspec": {
   "display_name": "Python 3 (ipykernel)",
   "language": "python",
   "name": "python3"
  },
  "language_info": {
   "codemirror_mode": {
    "name": "ipython",
    "version": 3
   },
   "file_extension": ".py",
   "mimetype": "text/x-python",
   "name": "python",
   "nbconvert_exporter": "python",
   "pygments_lexer": "ipython3",
   "version": "3.9.19"
  },
  "toc": {
   "base_numbering": 1,
   "nav_menu": {},
   "number_sections": true,
   "sideBar": true,
   "skip_h1_title": true,
   "title_cell": "Table of Contents",
   "title_sidebar": "Contents",
   "toc_cell": false,
   "toc_position": {},
   "toc_section_display": true,
   "toc_window_display": false
  }
 },
 "nbformat": 4,
 "nbformat_minor": 2
}
